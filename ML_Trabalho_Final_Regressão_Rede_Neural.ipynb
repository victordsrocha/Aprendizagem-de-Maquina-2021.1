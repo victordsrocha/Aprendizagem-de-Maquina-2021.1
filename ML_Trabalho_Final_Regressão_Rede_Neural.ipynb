{
  "nbformat": 4,
  "nbformat_minor": 0,
  "metadata": {
    "colab": {
      "name": "ML - Trabalho Final - Regressão Rede Neural.ipynb",
      "provenance": [],
      "mount_file_id": "1x0hzAoZsBYL3PsdQb3mjwdAf3qTZA3QU",
      "authorship_tag": "ABX9TyPljoC4p6gSPoDI6MmMAhNa",
      "include_colab_link": true
    },
    "kernelspec": {
      "name": "python3",
      "display_name": "Python 3"
    },
    "language_info": {
      "name": "python"
    }
  },
  "cells": [
    {
      "cell_type": "markdown",
      "metadata": {
        "id": "view-in-github",
        "colab_type": "text"
      },
      "source": [
        "<a href=\"https://colab.research.google.com/github/victordsrocha/Aprendizagem-de-Maquina-2021.1/blob/main/ML_Trabalho_Final_Regress%C3%A3o_Rede_Neural.ipynb\" target=\"_parent\"><img src=\"https://colab.research.google.com/assets/colab-badge.svg\" alt=\"Open In Colab\"/></a>"
      ]
    },
    {
      "cell_type": "code",
      "metadata": {
        "colab": {
          "base_uri": "https://localhost:8080/"
        },
        "id": "4KhiPzuGDgJC",
        "outputId": "6fd0ace0-d5a7-4fe5-94c8-ecba2490db97"
      },
      "source": [
        "!pip install seaborn"
      ],
      "execution_count": 1,
      "outputs": [
        {
          "output_type": "stream",
          "text": [
            "Requirement already satisfied: seaborn in /usr/local/lib/python3.7/dist-packages (0.11.1)\n",
            "Requirement already satisfied: matplotlib>=2.2 in /usr/local/lib/python3.7/dist-packages (from seaborn) (3.2.2)\n",
            "Requirement already satisfied: pandas>=0.23 in /usr/local/lib/python3.7/dist-packages (from seaborn) (1.1.5)\n",
            "Requirement already satisfied: numpy>=1.15 in /usr/local/lib/python3.7/dist-packages (from seaborn) (1.19.5)\n",
            "Requirement already satisfied: scipy>=1.0 in /usr/local/lib/python3.7/dist-packages (from seaborn) (1.4.1)\n",
            "Requirement already satisfied: cycler>=0.10 in /usr/local/lib/python3.7/dist-packages (from matplotlib>=2.2->seaborn) (0.10.0)\n",
            "Requirement already satisfied: python-dateutil>=2.1 in /usr/local/lib/python3.7/dist-packages (from matplotlib>=2.2->seaborn) (2.8.2)\n",
            "Requirement already satisfied: pyparsing!=2.0.4,!=2.1.2,!=2.1.6,>=2.0.1 in /usr/local/lib/python3.7/dist-packages (from matplotlib>=2.2->seaborn) (2.4.7)\n",
            "Requirement already satisfied: kiwisolver>=1.0.1 in /usr/local/lib/python3.7/dist-packages (from matplotlib>=2.2->seaborn) (1.3.1)\n",
            "Requirement already satisfied: six in /usr/local/lib/python3.7/dist-packages (from cycler>=0.10->matplotlib>=2.2->seaborn) (1.15.0)\n",
            "Requirement already satisfied: pytz>=2017.2 in /usr/local/lib/python3.7/dist-packages (from pandas>=0.23->seaborn) (2018.9)\n"
          ],
          "name": "stdout"
        }
      ]
    },
    {
      "cell_type": "code",
      "metadata": {
        "id": "NiJSMvsHNeJ5"
      },
      "source": [
        "import seaborn as sns\n",
        "import pandas as pd\n",
        "import tensorflow as tf\n",
        "import numpy as np\n",
        "from tensorflow import keras\n",
        "from tensorflow.keras import layers\n",
        "from sklearn.model_selection import train_test_split"
      ],
      "execution_count": 8,
      "outputs": []
    },
    {
      "cell_type": "markdown",
      "metadata": {
        "id": "Us-prCUJHS0l"
      },
      "source": [
        "Get the data"
      ]
    },
    {
      "cell_type": "code",
      "metadata": {
        "colab": {
          "base_uri": "https://localhost:8080/",
          "height": 204
        },
        "id": "cZTpi-VhHUum",
        "outputId": "94f77558-a8c3-4736-caa2-f40bdc109614"
      },
      "source": [
        "dataset_path = 'https://github.com/victordsrocha/Aprendizagem-de-Maquina-2021.1/raw/main/dataset-1bola.csv'\n",
        "\n",
        "# mantive todas as colunas para caso sejam úteis no futuro\n",
        "column_names = ['bola_branca_x','bola_branca_y','bola_1_x','bola_1_y','tacada_x',\n",
        "                'tacada_y','forca','out_bola_branca_x','out_bola_branca_y','out_bola_1_x',\n",
        "                'out_bola_1_y','dist_custo1','dist_custo2','dist_custo3','dist_custo4',\n",
        "                'colisao_x','colisao_y']\n",
        "\n",
        "raw_dataset = pd.read_csv(dataset_path, names=column_names, sep=',')\n",
        "\n",
        "# drop das colunas que não vamos utilizar\n",
        "raw_dataset=raw_dataset.drop(columns=['forca','out_bola_branca_x','out_bola_branca_y','out_bola_1_x',\n",
        "                'out_bola_1_y','dist_custo1','dist_custo2','dist_custo3','dist_custo4',\n",
        "                'colisao_x','colisao_y'])\n",
        "\n",
        "dataset = raw_dataset.copy()\n",
        "dataset.tail()"
      ],
      "execution_count": 6,
      "outputs": [
        {
          "output_type": "execute_result",
          "data": {
            "text/html": [
              "<div>\n",
              "<style scoped>\n",
              "    .dataframe tbody tr th:only-of-type {\n",
              "        vertical-align: middle;\n",
              "    }\n",
              "\n",
              "    .dataframe tbody tr th {\n",
              "        vertical-align: top;\n",
              "    }\n",
              "\n",
              "    .dataframe thead th {\n",
              "        text-align: right;\n",
              "    }\n",
              "</style>\n",
              "<table border=\"1\" class=\"dataframe\">\n",
              "  <thead>\n",
              "    <tr style=\"text-align: right;\">\n",
              "      <th></th>\n",
              "      <th>bola_branca_x</th>\n",
              "      <th>bola_branca_y</th>\n",
              "      <th>bola_1_x</th>\n",
              "      <th>bola_1_y</th>\n",
              "      <th>tacada_x</th>\n",
              "      <th>tacada_y</th>\n",
              "    </tr>\n",
              "  </thead>\n",
              "  <tbody>\n",
              "    <tr>\n",
              "      <th>83911</th>\n",
              "      <td>0.211559</td>\n",
              "      <td>0.273849</td>\n",
              "      <td>0.069541</td>\n",
              "      <td>0.068641</td>\n",
              "      <td>-0.559838</td>\n",
              "      <td>-0.828602</td>\n",
              "    </tr>\n",
              "    <tr>\n",
              "      <th>83912</th>\n",
              "      <td>0.779373</td>\n",
              "      <td>0.386655</td>\n",
              "      <td>0.772425</td>\n",
              "      <td>0.212990</td>\n",
              "      <td>-0.070697</td>\n",
              "      <td>-0.997498</td>\n",
              "    </tr>\n",
              "    <tr>\n",
              "      <th>83913</th>\n",
              "      <td>0.797904</td>\n",
              "      <td>0.376335</td>\n",
              "      <td>0.753802</td>\n",
              "      <td>0.029519</td>\n",
              "      <td>-0.150995</td>\n",
              "      <td>-0.988534</td>\n",
              "    </tr>\n",
              "    <tr>\n",
              "      <th>83914</th>\n",
              "      <td>0.799908</td>\n",
              "      <td>0.253087</td>\n",
              "      <td>0.602778</td>\n",
              "      <td>0.141271</td>\n",
              "      <td>-0.857461</td>\n",
              "      <td>-0.514549</td>\n",
              "    </tr>\n",
              "    <tr>\n",
              "      <th>83915</th>\n",
              "      <td>0.446634</td>\n",
              "      <td>0.062459</td>\n",
              "      <td>0.940956</td>\n",
              "      <td>0.638424</td>\n",
              "      <td>0.656110</td>\n",
              "      <td>0.754666</td>\n",
              "    </tr>\n",
              "  </tbody>\n",
              "</table>\n",
              "</div>"
            ],
            "text/plain": [
              "       bola_branca_x  bola_branca_y  bola_1_x  bola_1_y  tacada_x  tacada_y\n",
              "83911       0.211559       0.273849  0.069541  0.068641 -0.559838 -0.828602\n",
              "83912       0.779373       0.386655  0.772425  0.212990 -0.070697 -0.997498\n",
              "83913       0.797904       0.376335  0.753802  0.029519 -0.150995 -0.988534\n",
              "83914       0.799908       0.253087  0.602778  0.141271 -0.857461 -0.514549\n",
              "83915       0.446634       0.062459  0.940956  0.638424  0.656110  0.754666"
            ]
          },
          "metadata": {},
          "execution_count": 6
        }
      ]
    },
    {
      "cell_type": "markdown",
      "metadata": {
        "id": "S14uQUUFMPau"
      },
      "source": [
        "Split the data into train and test"
      ]
    },
    {
      "cell_type": "code",
      "metadata": {
        "id": "dgYT_qLiMSlG"
      },
      "source": [
        "X = dataset.drop(columns=['tacada_x','tacada_y'])\n",
        "y = pd.DataFrame({\"arc_tangent\":np.arctan(dataset['tacada_x'] / dataset['tacada_y']).T})\n",
        "\n",
        "X_train, X_test, y_train, y_test = train_test_split(X, y, test_size=0.2, random_state=42)"
      ],
      "execution_count": 46,
      "outputs": []
    },
    {
      "cell_type": "markdown",
      "metadata": {
        "id": "_8SRA_99Onjc"
      },
      "source": [
        "Inspect the data"
      ]
    },
    {
      "cell_type": "code",
      "metadata": {
        "colab": {
          "base_uri": "https://localhost:8080/",
          "height": 173
        },
        "id": "KjLVmLoHOpPW",
        "outputId": "81ebf988-6eb1-40cf-b991-bdd2a3e8478a"
      },
      "source": [
        "# apresenta a descrição dos dados de treino - entrada\n",
        "X_train.describe().transpose()"
      ],
      "execution_count": 47,
      "outputs": [
        {
          "output_type": "execute_result",
          "data": {
            "text/html": [
              "<div>\n",
              "<style scoped>\n",
              "    .dataframe tbody tr th:only-of-type {\n",
              "        vertical-align: middle;\n",
              "    }\n",
              "\n",
              "    .dataframe tbody tr th {\n",
              "        vertical-align: top;\n",
              "    }\n",
              "\n",
              "    .dataframe thead th {\n",
              "        text-align: right;\n",
              "    }\n",
              "</style>\n",
              "<table border=\"1\" class=\"dataframe\">\n",
              "  <thead>\n",
              "    <tr style=\"text-align: right;\">\n",
              "      <th></th>\n",
              "      <th>count</th>\n",
              "      <th>mean</th>\n",
              "      <th>std</th>\n",
              "      <th>min</th>\n",
              "      <th>25%</th>\n",
              "      <th>50%</th>\n",
              "      <th>75%</th>\n",
              "      <th>max</th>\n",
              "    </tr>\n",
              "  </thead>\n",
              "  <tbody>\n",
              "    <tr>\n",
              "      <th>bola_branca_x</th>\n",
              "      <td>67132.0</td>\n",
              "      <td>0.512318</td>\n",
              "      <td>0.255489</td>\n",
              "      <td>0.010084</td>\n",
              "      <td>0.305967</td>\n",
              "      <td>0.500139</td>\n",
              "      <td>0.726007</td>\n",
              "      <td>0.990000</td>\n",
              "    </tr>\n",
              "    <tr>\n",
              "      <th>bola_branca_y</th>\n",
              "      <td>67132.0</td>\n",
              "      <td>0.374178</td>\n",
              "      <td>0.194228</td>\n",
              "      <td>0.010083</td>\n",
              "      <td>0.216302</td>\n",
              "      <td>0.375000</td>\n",
              "      <td>0.531559</td>\n",
              "      <td>0.740000</td>\n",
              "    </tr>\n",
              "    <tr>\n",
              "      <th>bola_1_x</th>\n",
              "      <td>67132.0</td>\n",
              "      <td>0.517022</td>\n",
              "      <td>0.327201</td>\n",
              "      <td>0.009782</td>\n",
              "      <td>0.191748</td>\n",
              "      <td>0.540294</td>\n",
              "      <td>0.820357</td>\n",
              "      <td>0.991592</td>\n",
              "    </tr>\n",
              "    <tr>\n",
              "      <th>bola_1_y</th>\n",
              "      <td>67132.0</td>\n",
              "      <td>0.374911</td>\n",
              "      <td>0.231907</td>\n",
              "      <td>0.008124</td>\n",
              "      <td>0.153846</td>\n",
              "      <td>0.375000</td>\n",
              "      <td>0.596124</td>\n",
              "      <td>0.742211</td>\n",
              "    </tr>\n",
              "  </tbody>\n",
              "</table>\n",
              "</div>"
            ],
            "text/plain": [
              "                 count      mean       std  ...       50%       75%       max\n",
              "bola_branca_x  67132.0  0.512318  0.255489  ...  0.500139  0.726007  0.990000\n",
              "bola_branca_y  67132.0  0.374178  0.194228  ...  0.375000  0.531559  0.740000\n",
              "bola_1_x       67132.0  0.517022  0.327201  ...  0.540294  0.820357  0.991592\n",
              "bola_1_y       67132.0  0.374911  0.231907  ...  0.375000  0.596124  0.742211\n",
              "\n",
              "[4 rows x 8 columns]"
            ]
          },
          "metadata": {},
          "execution_count": 47
        }
      ]
    },
    {
      "cell_type": "code",
      "metadata": {
        "colab": {
          "base_uri": "https://localhost:8080/",
          "height": 80
        },
        "id": "06a2VPi0Xdf-",
        "outputId": "024ddb2f-872f-416a-f026-fee28b5a0e7f"
      },
      "source": [
        "# apresenta a descrição dos dados de treino - saída\n",
        "y_train.describe().transpose()"
      ],
      "execution_count": 48,
      "outputs": [
        {
          "output_type": "execute_result",
          "data": {
            "text/html": [
              "<div>\n",
              "<style scoped>\n",
              "    .dataframe tbody tr th:only-of-type {\n",
              "        vertical-align: middle;\n",
              "    }\n",
              "\n",
              "    .dataframe tbody tr th {\n",
              "        vertical-align: top;\n",
              "    }\n",
              "\n",
              "    .dataframe thead th {\n",
              "        text-align: right;\n",
              "    }\n",
              "</style>\n",
              "<table border=\"1\" class=\"dataframe\">\n",
              "  <thead>\n",
              "    <tr style=\"text-align: right;\">\n",
              "      <th></th>\n",
              "      <th>count</th>\n",
              "      <th>mean</th>\n",
              "      <th>std</th>\n",
              "      <th>min</th>\n",
              "      <th>25%</th>\n",
              "      <th>50%</th>\n",
              "      <th>75%</th>\n",
              "      <th>max</th>\n",
              "    </tr>\n",
              "  </thead>\n",
              "  <tbody>\n",
              "    <tr>\n",
              "      <th>arc_tangent</th>\n",
              "      <td>67132.0</td>\n",
              "      <td>-0.001666</td>\n",
              "      <td>0.885256</td>\n",
              "      <td>-1.57078</td>\n",
              "      <td>-0.813542</td>\n",
              "      <td>-0.007471</td>\n",
              "      <td>0.807088</td>\n",
              "      <td>1.570762</td>\n",
              "    </tr>\n",
              "  </tbody>\n",
              "</table>\n",
              "</div>"
            ],
            "text/plain": [
              "               count      mean       std  ...       50%       75%       max\n",
              "arc_tangent  67132.0 -0.001666  0.885256  ... -0.007471  0.807088  1.570762\n",
              "\n",
              "[1 rows x 8 columns]"
            ]
          },
          "metadata": {},
          "execution_count": 48
        }
      ]
    },
    {
      "cell_type": "markdown",
      "metadata": {
        "id": "lZAKOWYDQlAY"
      },
      "source": [
        "Normalize the data"
      ]
    },
    {
      "cell_type": "code",
      "metadata": {
        "colab": {
          "base_uri": "https://localhost:8080/",
          "height": 173
        },
        "id": "mDlRLUq8Qm5I",
        "outputId": "a4a5f740-bc6a-4d60-fe71-a78e9181ff1d"
      },
      "source": [
        "# não testei se a normalização realmente ajuda\n",
        "\n",
        "# normalização z-score de todos os dados\n",
        "\n",
        "import numpy as np\n",
        "\n",
        "def normalize_zscore(data):\n",
        "    data_scaled = data\n",
        "    data_mean = data_scaled.mean(axis=0)\n",
        "    data_std = data_scaled.std(axis=0)\n",
        "    data_scaled = (data_scaled - data_mean) / data_std\n",
        "    return data_scaled\n",
        "  \n",
        "X_train, X_test, y_train, y_test\n",
        "\n",
        "normed_X_train = normalize_zscore(X_train)\n",
        "normed_X_test = normalize_zscore(X_test)\n",
        "normed_y_train = normalize_zscore(y_train)\n",
        "normed_y_test = normalize_zscore(y_test)"
      ],
      "execution_count": 50,
      "outputs": [
        {
          "output_type": "execute_result",
          "data": {
            "text/html": [
              "<div>\n",
              "<style scoped>\n",
              "    .dataframe tbody tr th:only-of-type {\n",
              "        vertical-align: middle;\n",
              "    }\n",
              "\n",
              "    .dataframe tbody tr th {\n",
              "        vertical-align: top;\n",
              "    }\n",
              "\n",
              "    .dataframe thead th {\n",
              "        text-align: right;\n",
              "    }\n",
              "</style>\n",
              "<table border=\"1\" class=\"dataframe\">\n",
              "  <thead>\n",
              "    <tr style=\"text-align: right;\">\n",
              "      <th></th>\n",
              "      <th>count</th>\n",
              "      <th>mean</th>\n",
              "      <th>std</th>\n",
              "      <th>min</th>\n",
              "      <th>25%</th>\n",
              "      <th>50%</th>\n",
              "      <th>75%</th>\n",
              "      <th>max</th>\n",
              "    </tr>\n",
              "  </thead>\n",
              "  <tbody>\n",
              "    <tr>\n",
              "      <th>bola_branca_x</th>\n",
              "      <td>67132.0</td>\n",
              "      <td>-1.209329e-14</td>\n",
              "      <td>1.0</td>\n",
              "      <td>-1.965778</td>\n",
              "      <td>-0.807672</td>\n",
              "      <td>-0.047671</td>\n",
              "      <td>0.836390</td>\n",
              "      <td>1.869676</td>\n",
              "    </tr>\n",
              "    <tr>\n",
              "      <th>bola_branca_y</th>\n",
              "      <td>67132.0</td>\n",
              "      <td>-3.053643e-15</td>\n",
              "      <td>1.0</td>\n",
              "      <td>-1.874577</td>\n",
              "      <td>-0.812838</td>\n",
              "      <td>0.004232</td>\n",
              "      <td>0.810290</td>\n",
              "      <td>1.883469</td>\n",
              "    </tr>\n",
              "    <tr>\n",
              "      <th>bola_1_x</th>\n",
              "      <td>67132.0</td>\n",
              "      <td>4.591491e-14</td>\n",
              "      <td>1.0</td>\n",
              "      <td>-1.550239</td>\n",
              "      <td>-0.994109</td>\n",
              "      <td>0.071124</td>\n",
              "      <td>0.927061</td>\n",
              "      <td>1.450392</td>\n",
              "    </tr>\n",
              "    <tr>\n",
              "      <th>bola_1_y</th>\n",
              "      <td>67132.0</td>\n",
              "      <td>6.010780e-15</td>\n",
              "      <td>1.0</td>\n",
              "      <td>-1.581614</td>\n",
              "      <td>-0.953247</td>\n",
              "      <td>0.000386</td>\n",
              "      <td>0.953889</td>\n",
              "      <td>1.583830</td>\n",
              "    </tr>\n",
              "  </tbody>\n",
              "</table>\n",
              "</div>"
            ],
            "text/plain": [
              "                 count          mean  std  ...       50%       75%       max\n",
              "bola_branca_x  67132.0 -1.209329e-14  1.0  ... -0.047671  0.836390  1.869676\n",
              "bola_branca_y  67132.0 -3.053643e-15  1.0  ...  0.004232  0.810290  1.883469\n",
              "bola_1_x       67132.0  4.591491e-14  1.0  ...  0.071124  0.927061  1.450392\n",
              "bola_1_y       67132.0  6.010780e-15  1.0  ...  0.000386  0.953889  1.583830\n",
              "\n",
              "[4 rows x 8 columns]"
            ]
          },
          "metadata": {},
          "execution_count": 50
        }
      ]
    },
    {
      "cell_type": "code",
      "metadata": {
        "colab": {
          "base_uri": "https://localhost:8080/",
          "height": 173
        },
        "id": "AO3YHXQDa1Xb",
        "outputId": "186308a7-279a-44da-ca01-3a27f41a3932"
      },
      "source": [
        "# apresenta a descrição dos dados de treino normalizados - entrada\n",
        "normed_X_train.describe().transpose()"
      ],
      "execution_count": 51,
      "outputs": [
        {
          "output_type": "execute_result",
          "data": {
            "text/html": [
              "<div>\n",
              "<style scoped>\n",
              "    .dataframe tbody tr th:only-of-type {\n",
              "        vertical-align: middle;\n",
              "    }\n",
              "\n",
              "    .dataframe tbody tr th {\n",
              "        vertical-align: top;\n",
              "    }\n",
              "\n",
              "    .dataframe thead th {\n",
              "        text-align: right;\n",
              "    }\n",
              "</style>\n",
              "<table border=\"1\" class=\"dataframe\">\n",
              "  <thead>\n",
              "    <tr style=\"text-align: right;\">\n",
              "      <th></th>\n",
              "      <th>count</th>\n",
              "      <th>mean</th>\n",
              "      <th>std</th>\n",
              "      <th>min</th>\n",
              "      <th>25%</th>\n",
              "      <th>50%</th>\n",
              "      <th>75%</th>\n",
              "      <th>max</th>\n",
              "    </tr>\n",
              "  </thead>\n",
              "  <tbody>\n",
              "    <tr>\n",
              "      <th>bola_branca_x</th>\n",
              "      <td>67132.0</td>\n",
              "      <td>-1.209329e-14</td>\n",
              "      <td>1.0</td>\n",
              "      <td>-1.965778</td>\n",
              "      <td>-0.807672</td>\n",
              "      <td>-0.047671</td>\n",
              "      <td>0.836390</td>\n",
              "      <td>1.869676</td>\n",
              "    </tr>\n",
              "    <tr>\n",
              "      <th>bola_branca_y</th>\n",
              "      <td>67132.0</td>\n",
              "      <td>-3.053643e-15</td>\n",
              "      <td>1.0</td>\n",
              "      <td>-1.874577</td>\n",
              "      <td>-0.812838</td>\n",
              "      <td>0.004232</td>\n",
              "      <td>0.810290</td>\n",
              "      <td>1.883469</td>\n",
              "    </tr>\n",
              "    <tr>\n",
              "      <th>bola_1_x</th>\n",
              "      <td>67132.0</td>\n",
              "      <td>4.591491e-14</td>\n",
              "      <td>1.0</td>\n",
              "      <td>-1.550239</td>\n",
              "      <td>-0.994109</td>\n",
              "      <td>0.071124</td>\n",
              "      <td>0.927061</td>\n",
              "      <td>1.450392</td>\n",
              "    </tr>\n",
              "    <tr>\n",
              "      <th>bola_1_y</th>\n",
              "      <td>67132.0</td>\n",
              "      <td>6.010780e-15</td>\n",
              "      <td>1.0</td>\n",
              "      <td>-1.581614</td>\n",
              "      <td>-0.953247</td>\n",
              "      <td>0.000386</td>\n",
              "      <td>0.953889</td>\n",
              "      <td>1.583830</td>\n",
              "    </tr>\n",
              "  </tbody>\n",
              "</table>\n",
              "</div>"
            ],
            "text/plain": [
              "                 count          mean  std  ...       50%       75%       max\n",
              "bola_branca_x  67132.0 -1.209329e-14  1.0  ... -0.047671  0.836390  1.869676\n",
              "bola_branca_y  67132.0 -3.053643e-15  1.0  ...  0.004232  0.810290  1.883469\n",
              "bola_1_x       67132.0  4.591491e-14  1.0  ...  0.071124  0.927061  1.450392\n",
              "bola_1_y       67132.0  6.010780e-15  1.0  ...  0.000386  0.953889  1.583830\n",
              "\n",
              "[4 rows x 8 columns]"
            ]
          },
          "metadata": {},
          "execution_count": 51
        }
      ]
    },
    {
      "cell_type": "code",
      "metadata": {
        "colab": {
          "base_uri": "https://localhost:8080/",
          "height": 80
        },
        "id": "vbxptbgua1g6",
        "outputId": "a256b820-060a-49f3-bf8d-0b75ad5a0849"
      },
      "source": [
        "# apresenta a descrição dos dados de treino normalizados - saída\n",
        "normed_y_train.describe().transpose()"
      ],
      "execution_count": 52,
      "outputs": [
        {
          "output_type": "execute_result",
          "data": {
            "text/html": [
              "<div>\n",
              "<style scoped>\n",
              "    .dataframe tbody tr th:only-of-type {\n",
              "        vertical-align: middle;\n",
              "    }\n",
              "\n",
              "    .dataframe tbody tr th {\n",
              "        vertical-align: top;\n",
              "    }\n",
              "\n",
              "    .dataframe thead th {\n",
              "        text-align: right;\n",
              "    }\n",
              "</style>\n",
              "<table border=\"1\" class=\"dataframe\">\n",
              "  <thead>\n",
              "    <tr style=\"text-align: right;\">\n",
              "      <th></th>\n",
              "      <th>count</th>\n",
              "      <th>mean</th>\n",
              "      <th>std</th>\n",
              "      <th>min</th>\n",
              "      <th>25%</th>\n",
              "      <th>50%</th>\n",
              "      <th>75%</th>\n",
              "      <th>max</th>\n",
              "    </tr>\n",
              "  </thead>\n",
              "  <tbody>\n",
              "    <tr>\n",
              "      <th>arc_tangent</th>\n",
              "      <td>67132.0</td>\n",
              "      <td>3.936023e-18</td>\n",
              "      <td>1.0</td>\n",
              "      <td>-1.772497</td>\n",
              "      <td>-0.917109</td>\n",
              "      <td>-0.006557</td>\n",
              "      <td>0.913581</td>\n",
              "      <td>1.77624</td>\n",
              "    </tr>\n",
              "  </tbody>\n",
              "</table>\n",
              "</div>"
            ],
            "text/plain": [
              "               count          mean  std  ...       50%       75%      max\n",
              "arc_tangent  67132.0  3.936023e-18  1.0  ... -0.006557  0.913581  1.77624\n",
              "\n",
              "[1 rows x 8 columns]"
            ]
          },
          "metadata": {},
          "execution_count": 52
        }
      ]
    },
    {
      "cell_type": "markdown",
      "metadata": {
        "id": "yNUBvNesTa7H"
      },
      "source": [
        "Build the model"
      ]
    },
    {
      "cell_type": "code",
      "metadata": {
        "colab": {
          "base_uri": "https://localhost:8080/"
        },
        "id": "PWyEVDp5Tcpl",
        "outputId": "aacc266e-a01c-4bf7-b689-e5011ca8bfcc"
      },
      "source": [
        "# dimensões de entrada e saída\n",
        "in_dim = X_train.shape[1]\n",
        "out_dim = y_train.shape[1]\n",
        "\n",
        "# modelo\n",
        "model = keras.models.Sequential()\n",
        "model.add(layers.Dense(100, input_dim=in_dim, activation=\"relu\"))\n",
        "model.add(layers.Dense(32, activation=\"relu\"))\n",
        "model.add(layers.Dense(out_dim))\n",
        "model.compile(loss=\"mse\", optimizer=\"SGD\", metrics=['mae','mse'])\n",
        "\n",
        "# log tensorboard\n",
        "tensorboard_callback = tf.keras.callbacks.TensorBoard(log_dir=\"./logggs\")\n",
        "\n",
        "# sumário do modelo\n",
        "model.summary()"
      ],
      "execution_count": 70,
      "outputs": [
        {
          "output_type": "stream",
          "text": [
            "Model: \"sequential_5\"\n",
            "_________________________________________________________________\n",
            "Layer (type)                 Output Shape              Param #   \n",
            "=================================================================\n",
            "dense_15 (Dense)             (None, 100)               500       \n",
            "_________________________________________________________________\n",
            "dense_16 (Dense)             (None, 32)                3232      \n",
            "_________________________________________________________________\n",
            "dense_17 (Dense)             (None, 1)                 33        \n",
            "=================================================================\n",
            "Total params: 3,765\n",
            "Trainable params: 3,765\n",
            "Non-trainable params: 0\n",
            "_________________________________________________________________\n"
          ],
          "name": "stdout"
        }
      ]
    },
    {
      "cell_type": "markdown",
      "metadata": {
        "id": "M9n3m792bx2W"
      },
      "source": [
        "Train the model"
      ]
    },
    {
      "cell_type": "code",
      "metadata": {
        "colab": {
          "base_uri": "https://localhost:8080/"
        },
        "id": "Fe7ZGOPobRNr",
        "outputId": "27f45ed8-28b3-4ebd-c259-2795c6482a96"
      },
      "source": [
        "history = model.fit(normed_X_train, normed_y_train, epochs=100, validation_data=(normed_X_test, normed_y_test), batch_size=12, verbose=1, callbacks=[tensorboard_callback])"
      ],
      "execution_count": 86,
      "outputs": [
        {
          "output_type": "stream",
          "text": [
            "Epoch 1/100\n",
            "5595/5595 [==============================] - 9s 2ms/step - loss: 0.0577 - mae: 0.0972 - mse: 0.0577 - val_loss: 0.0530 - val_mae: 0.0899 - val_mse: 0.0530\n",
            "Epoch 2/100\n",
            "5595/5595 [==============================] - 9s 2ms/step - loss: 0.0575 - mae: 0.0969 - mse: 0.0575 - val_loss: 0.0599 - val_mae: 0.1073 - val_mse: 0.0599\n",
            "Epoch 3/100\n",
            "5595/5595 [==============================] - 9s 2ms/step - loss: 0.0577 - mae: 0.0970 - mse: 0.0577 - val_loss: 0.1127 - val_mae: 0.1900 - val_mse: 0.1127\n",
            "Epoch 4/100\n",
            "5595/5595 [==============================] - 9s 2ms/step - loss: 0.0573 - mae: 0.0956 - mse: 0.0573 - val_loss: 0.0664 - val_mae: 0.1301 - val_mse: 0.0664\n",
            "Epoch 5/100\n",
            "5595/5595 [==============================] - 10s 2ms/step - loss: 0.0562 - mae: 0.0950 - mse: 0.0562 - val_loss: 0.0557 - val_mae: 0.0835 - val_mse: 0.0557\n",
            "Epoch 6/100\n",
            "5595/5595 [==============================] - 9s 2ms/step - loss: 0.0538 - mae: 0.0925 - mse: 0.0538 - val_loss: 0.0560 - val_mae: 0.0898 - val_mse: 0.0560\n",
            "Epoch 7/100\n",
            "5595/5595 [==============================] - 10s 2ms/step - loss: 0.0545 - mae: 0.0927 - mse: 0.0545 - val_loss: 0.0497 - val_mae: 0.0744 - val_mse: 0.0497\n",
            "Epoch 8/100\n",
            "5595/5595 [==============================] - 9s 2ms/step - loss: 0.0540 - mae: 0.0908 - mse: 0.0540 - val_loss: 0.0637 - val_mae: 0.1082 - val_mse: 0.0637\n",
            "Epoch 9/100\n",
            "5595/5595 [==============================] - 9s 2ms/step - loss: 0.0528 - mae: 0.0902 - mse: 0.0528 - val_loss: 0.0660 - val_mae: 0.1269 - val_mse: 0.0660\n",
            "Epoch 10/100\n",
            "5595/5595 [==============================] - 9s 2ms/step - loss: 0.0519 - mae: 0.0895 - mse: 0.0519 - val_loss: 0.0569 - val_mae: 0.0802 - val_mse: 0.0569\n",
            "Epoch 11/100\n",
            "5595/5595 [==============================] - 9s 2ms/step - loss: 0.0518 - mae: 0.0882 - mse: 0.0518 - val_loss: 0.0591 - val_mae: 0.1074 - val_mse: 0.0591\n",
            "Epoch 12/100\n",
            "5595/5595 [==============================] - 9s 2ms/step - loss: 0.0529 - mae: 0.0886 - mse: 0.0529 - val_loss: 0.0562 - val_mae: 0.0829 - val_mse: 0.0562\n",
            "Epoch 13/100\n",
            "5595/5595 [==============================] - 9s 2ms/step - loss: 0.0515 - mae: 0.0879 - mse: 0.0515 - val_loss: 0.0500 - val_mae: 0.0862 - val_mse: 0.0500\n",
            "Epoch 14/100\n",
            "5595/5595 [==============================] - 9s 2ms/step - loss: 0.0504 - mae: 0.0862 - mse: 0.0504 - val_loss: 0.0548 - val_mae: 0.0908 - val_mse: 0.0548\n",
            "Epoch 15/100\n",
            "5595/5595 [==============================] - 9s 2ms/step - loss: 0.0512 - mae: 0.0881 - mse: 0.0512 - val_loss: 0.0641 - val_mae: 0.1088 - val_mse: 0.0641\n",
            "Epoch 16/100\n",
            "5595/5595 [==============================] - 9s 2ms/step - loss: 0.0501 - mae: 0.0847 - mse: 0.0501 - val_loss: 0.0562 - val_mae: 0.0826 - val_mse: 0.0562\n",
            "Epoch 17/100\n",
            "5595/5595 [==============================] - 9s 2ms/step - loss: 0.0488 - mae: 0.0837 - mse: 0.0488 - val_loss: 0.0563 - val_mae: 0.0763 - val_mse: 0.0563\n",
            "Epoch 18/100\n",
            "5595/5595 [==============================] - 9s 2ms/step - loss: 0.0492 - mae: 0.0848 - mse: 0.0492 - val_loss: 0.0653 - val_mae: 0.1052 - val_mse: 0.0653\n",
            "Epoch 19/100\n",
            "5595/5595 [==============================] - 9s 2ms/step - loss: 0.0493 - mae: 0.0842 - mse: 0.0493 - val_loss: 0.0550 - val_mae: 0.0824 - val_mse: 0.0550\n",
            "Epoch 20/100\n",
            "5595/5595 [==============================] - 9s 2ms/step - loss: 0.0486 - mae: 0.0832 - mse: 0.0486 - val_loss: 0.0700 - val_mae: 0.0920 - val_mse: 0.0700\n",
            "Epoch 21/100\n",
            "5595/5595 [==============================] - 9s 2ms/step - loss: 0.0510 - mae: 0.0836 - mse: 0.0510 - val_loss: 0.0688 - val_mae: 0.1147 - val_mse: 0.0688\n",
            "Epoch 22/100\n",
            "5595/5595 [==============================] - 10s 2ms/step - loss: 0.0473 - mae: 0.0806 - mse: 0.0473 - val_loss: 0.0613 - val_mae: 0.1050 - val_mse: 0.0613\n",
            "Epoch 23/100\n",
            "5595/5595 [==============================] - 10s 2ms/step - loss: 0.0484 - mae: 0.0815 - mse: 0.0484 - val_loss: 0.0573 - val_mae: 0.0977 - val_mse: 0.0573\n",
            "Epoch 24/100\n",
            "5595/5595 [==============================] - 9s 2ms/step - loss: 0.0472 - mae: 0.0802 - mse: 0.0472 - val_loss: 0.0475 - val_mae: 0.0822 - val_mse: 0.0475\n",
            "Epoch 25/100\n",
            "5595/5595 [==============================] - 9s 2ms/step - loss: 0.0461 - mae: 0.0813 - mse: 0.0461 - val_loss: 0.0524 - val_mae: 0.0834 - val_mse: 0.0524\n",
            "Epoch 26/100\n",
            "5595/5595 [==============================] - 9s 2ms/step - loss: 0.0474 - mae: 0.0829 - mse: 0.0474 - val_loss: 0.0496 - val_mae: 0.0873 - val_mse: 0.0496\n",
            "Epoch 27/100\n",
            "5595/5595 [==============================] - 9s 2ms/step - loss: 0.0469 - mae: 0.0808 - mse: 0.0469 - val_loss: 0.0543 - val_mae: 0.0797 - val_mse: 0.0543\n",
            "Epoch 28/100\n",
            "5595/5595 [==============================] - 9s 2ms/step - loss: 0.0465 - mae: 0.0808 - mse: 0.0465 - val_loss: 0.0547 - val_mae: 0.0755 - val_mse: 0.0547\n",
            "Epoch 29/100\n",
            "5595/5595 [==============================] - 9s 2ms/step - loss: 0.0469 - mae: 0.0771 - mse: 0.0469 - val_loss: 0.0453 - val_mae: 0.0836 - val_mse: 0.0453\n",
            "Epoch 30/100\n",
            "5595/5595 [==============================] - 9s 2ms/step - loss: 0.0452 - mae: 0.0764 - mse: 0.0452 - val_loss: 0.0697 - val_mae: 0.1532 - val_mse: 0.0697\n",
            "Epoch 31/100\n",
            "5595/5595 [==============================] - 9s 2ms/step - loss: 0.0450 - mae: 0.0773 - mse: 0.0450 - val_loss: 0.0464 - val_mae: 0.0649 - val_mse: 0.0464\n",
            "Epoch 32/100\n",
            "5595/5595 [==============================] - 9s 2ms/step - loss: 0.0445 - mae: 0.0771 - mse: 0.0445 - val_loss: 0.0506 - val_mae: 0.0683 - val_mse: 0.0506\n",
            "Epoch 33/100\n",
            "5595/5595 [==============================] - 10s 2ms/step - loss: 0.0447 - mae: 0.0786 - mse: 0.0447 - val_loss: 0.0524 - val_mae: 0.0761 - val_mse: 0.0524\n",
            "Epoch 34/100\n",
            "5595/5595 [==============================] - 9s 2ms/step - loss: 0.0453 - mae: 0.0783 - mse: 0.0453 - val_loss: 0.0480 - val_mae: 0.0833 - val_mse: 0.0480\n",
            "Epoch 35/100\n",
            "5595/5595 [==============================] - 9s 2ms/step - loss: 0.0444 - mae: 0.0786 - mse: 0.0444 - val_loss: 0.0556 - val_mae: 0.0696 - val_mse: 0.0556\n",
            "Epoch 36/100\n",
            "5595/5595 [==============================] - 9s 2ms/step - loss: 0.0438 - mae: 0.0779 - mse: 0.0438 - val_loss: 0.0528 - val_mae: 0.0704 - val_mse: 0.0528\n",
            "Epoch 37/100\n",
            "5595/5595 [==============================] - 9s 2ms/step - loss: 0.0438 - mae: 0.0777 - mse: 0.0438 - val_loss: 0.0475 - val_mae: 0.0842 - val_mse: 0.0475\n",
            "Epoch 38/100\n",
            "5595/5595 [==============================] - 9s 2ms/step - loss: 0.0443 - mae: 0.0774 - mse: 0.0443 - val_loss: 0.0520 - val_mae: 0.1007 - val_mse: 0.0520\n",
            "Epoch 39/100\n",
            "5595/5595 [==============================] - 9s 2ms/step - loss: 0.0437 - mae: 0.0776 - mse: 0.0437 - val_loss: 0.0489 - val_mae: 0.0794 - val_mse: 0.0489\n",
            "Epoch 40/100\n",
            "5595/5595 [==============================] - 9s 2ms/step - loss: 0.0444 - mae: 0.0777 - mse: 0.0444 - val_loss: 0.0482 - val_mae: 0.0775 - val_mse: 0.0482\n",
            "Epoch 41/100\n",
            "5595/5595 [==============================] - 9s 2ms/step - loss: 0.0432 - mae: 0.0757 - mse: 0.0432 - val_loss: 0.0635 - val_mae: 0.1304 - val_mse: 0.0635\n",
            "Epoch 42/100\n",
            "5595/5595 [==============================] - 9s 2ms/step - loss: 0.0435 - mae: 0.0770 - mse: 0.0435 - val_loss: 0.0428 - val_mae: 0.0738 - val_mse: 0.0428\n",
            "Epoch 43/100\n",
            "5595/5595 [==============================] - 9s 2ms/step - loss: 0.0435 - mae: 0.0759 - mse: 0.0435 - val_loss: 0.0532 - val_mae: 0.0807 - val_mse: 0.0532\n",
            "Epoch 44/100\n",
            "5595/5595 [==============================] - 9s 2ms/step - loss: 0.0431 - mae: 0.0762 - mse: 0.0431 - val_loss: 0.0536 - val_mae: 0.0949 - val_mse: 0.0536\n",
            "Epoch 45/100\n",
            "5595/5595 [==============================] - 10s 2ms/step - loss: 0.0422 - mae: 0.0748 - mse: 0.0422 - val_loss: 0.0515 - val_mae: 0.0631 - val_mse: 0.0515\n",
            "Epoch 46/100\n",
            "5595/5595 [==============================] - 10s 2ms/step - loss: 0.0454 - mae: 0.0766 - mse: 0.0454 - val_loss: 0.0450 - val_mae: 0.0691 - val_mse: 0.0450\n",
            "Epoch 47/100\n",
            "5595/5595 [==============================] - 10s 2ms/step - loss: 0.0411 - mae: 0.0734 - mse: 0.0411 - val_loss: 0.0479 - val_mae: 0.0835 - val_mse: 0.0479\n",
            "Epoch 48/100\n",
            "5595/5595 [==============================] - 11s 2ms/step - loss: 0.0412 - mae: 0.0736 - mse: 0.0412 - val_loss: 0.0504 - val_mae: 0.0967 - val_mse: 0.0504\n",
            "Epoch 49/100\n",
            "5595/5595 [==============================] - 9s 2ms/step - loss: 0.0417 - mae: 0.0736 - mse: 0.0417 - val_loss: 0.0473 - val_mae: 0.0807 - val_mse: 0.0473\n",
            "Epoch 50/100\n",
            "5595/5595 [==============================] - 9s 2ms/step - loss: 0.0410 - mae: 0.0735 - mse: 0.0410 - val_loss: 0.0482 - val_mae: 0.0847 - val_mse: 0.0482\n",
            "Epoch 51/100\n",
            "5595/5595 [==============================] - 9s 2ms/step - loss: 0.0402 - mae: 0.0732 - mse: 0.0402 - val_loss: 0.0583 - val_mae: 0.0861 - val_mse: 0.0583\n",
            "Epoch 52/100\n",
            "5595/5595 [==============================] - 10s 2ms/step - loss: 0.0413 - mae: 0.0743 - mse: 0.0413 - val_loss: 0.0484 - val_mae: 0.0722 - val_mse: 0.0484\n",
            "Epoch 53/100\n",
            "5595/5595 [==============================] - 10s 2ms/step - loss: 0.0412 - mae: 0.0751 - mse: 0.0412 - val_loss: 0.0546 - val_mae: 0.0831 - val_mse: 0.0546\n",
            "Epoch 54/100\n",
            "5595/5595 [==============================] - 11s 2ms/step - loss: 0.0413 - mae: 0.0736 - mse: 0.0413 - val_loss: 0.0417 - val_mae: 0.0629 - val_mse: 0.0417\n",
            "Epoch 55/100\n",
            "5595/5595 [==============================] - 11s 2ms/step - loss: 0.0400 - mae: 0.0724 - mse: 0.0400 - val_loss: 0.0536 - val_mae: 0.0695 - val_mse: 0.0536\n",
            "Epoch 56/100\n",
            "5595/5595 [==============================] - 11s 2ms/step - loss: 0.0406 - mae: 0.0735 - mse: 0.0406 - val_loss: 0.0518 - val_mae: 0.0789 - val_mse: 0.0518\n",
            "Epoch 57/100\n",
            "5595/5595 [==============================] - 11s 2ms/step - loss: 0.0407 - mae: 0.0732 - mse: 0.0407 - val_loss: 0.0683 - val_mae: 0.1283 - val_mse: 0.0683\n",
            "Epoch 58/100\n",
            "5595/5595 [==============================] - 11s 2ms/step - loss: 0.0412 - mae: 0.0729 - mse: 0.0412 - val_loss: 0.0423 - val_mae: 0.0704 - val_mse: 0.0423\n",
            "Epoch 59/100\n",
            "5595/5595 [==============================] - 9s 2ms/step - loss: 0.0408 - mae: 0.0729 - mse: 0.0408 - val_loss: 0.0515 - val_mae: 0.0675 - val_mse: 0.0515\n",
            "Epoch 60/100\n",
            "5595/5595 [==============================] - 10s 2ms/step - loss: 0.0400 - mae: 0.0716 - mse: 0.0400 - val_loss: 0.0453 - val_mae: 0.0890 - val_mse: 0.0453\n",
            "Epoch 61/100\n",
            "5595/5595 [==============================] - 9s 2ms/step - loss: 0.0404 - mae: 0.0719 - mse: 0.0404 - val_loss: 0.0414 - val_mae: 0.0797 - val_mse: 0.0414\n",
            "Epoch 62/100\n",
            "5595/5595 [==============================] - 9s 2ms/step - loss: 0.0396 - mae: 0.0716 - mse: 0.0396 - val_loss: 0.0419 - val_mae: 0.0695 - val_mse: 0.0419\n",
            "Epoch 63/100\n",
            "5595/5595 [==============================] - 10s 2ms/step - loss: 0.0404 - mae: 0.0719 - mse: 0.0404 - val_loss: 0.0410 - val_mae: 0.0643 - val_mse: 0.0410\n",
            "Epoch 64/100\n",
            "5595/5595 [==============================] - 9s 2ms/step - loss: 0.0395 - mae: 0.0721 - mse: 0.0395 - val_loss: 0.0435 - val_mae: 0.0681 - val_mse: 0.0435\n",
            "Epoch 65/100\n",
            "5595/5595 [==============================] - 9s 2ms/step - loss: 0.0401 - mae: 0.0723 - mse: 0.0401 - val_loss: 0.0590 - val_mae: 0.0869 - val_mse: 0.0590\n",
            "Epoch 66/100\n",
            "5595/5595 [==============================] - 9s 2ms/step - loss: 0.0399 - mae: 0.0722 - mse: 0.0399 - val_loss: 0.0488 - val_mae: 0.0751 - val_mse: 0.0488\n",
            "Epoch 67/100\n",
            "5595/5595 [==============================] - 9s 2ms/step - loss: 0.0390 - mae: 0.0709 - mse: 0.0390 - val_loss: 0.0451 - val_mae: 0.0849 - val_mse: 0.0451\n",
            "Epoch 68/100\n",
            "5595/5595 [==============================] - 9s 2ms/step - loss: 0.0395 - mae: 0.0717 - mse: 0.0395 - val_loss: 0.0520 - val_mae: 0.0993 - val_mse: 0.0520\n",
            "Epoch 69/100\n",
            "5595/5595 [==============================] - 9s 2ms/step - loss: 0.0384 - mae: 0.0709 - mse: 0.0384 - val_loss: 0.0509 - val_mae: 0.0708 - val_mse: 0.0509\n",
            "Epoch 70/100\n",
            "5595/5595 [==============================] - 9s 2ms/step - loss: 0.0388 - mae: 0.0707 - mse: 0.0388 - val_loss: 0.0385 - val_mae: 0.0664 - val_mse: 0.0385\n",
            "Epoch 71/100\n",
            "5595/5595 [==============================] - 10s 2ms/step - loss: 0.0388 - mae: 0.0700 - mse: 0.0388 - val_loss: 0.0749 - val_mae: 0.1527 - val_mse: 0.0749\n",
            "Epoch 72/100\n",
            "5595/5595 [==============================] - 10s 2ms/step - loss: 0.0384 - mae: 0.0709 - mse: 0.0384 - val_loss: 0.0492 - val_mae: 0.0695 - val_mse: 0.0492\n",
            "Epoch 73/100\n",
            "5595/5595 [==============================] - 9s 2ms/step - loss: 0.0390 - mae: 0.0701 - mse: 0.0390 - val_loss: 0.0497 - val_mae: 0.0769 - val_mse: 0.0497\n",
            "Epoch 74/100\n",
            "5595/5595 [==============================] - 9s 2ms/step - loss: 0.0385 - mae: 0.0699 - mse: 0.0385 - val_loss: 0.0439 - val_mae: 0.0669 - val_mse: 0.0439\n",
            "Epoch 75/100\n",
            "5595/5595 [==============================] - 9s 2ms/step - loss: 0.0382 - mae: 0.0693 - mse: 0.0382 - val_loss: 0.0469 - val_mae: 0.0673 - val_mse: 0.0469\n",
            "Epoch 76/100\n",
            "5595/5595 [==============================] - 9s 2ms/step - loss: 0.0376 - mae: 0.0689 - mse: 0.0376 - val_loss: 0.0453 - val_mae: 0.0723 - val_mse: 0.0453\n",
            "Epoch 77/100\n",
            "5595/5595 [==============================] - 9s 2ms/step - loss: 0.0375 - mae: 0.0696 - mse: 0.0375 - val_loss: 0.0452 - val_mae: 0.1014 - val_mse: 0.0452\n",
            "Epoch 78/100\n",
            "5595/5595 [==============================] - 9s 2ms/step - loss: 0.0378 - mae: 0.0691 - mse: 0.0378 - val_loss: 0.0506 - val_mae: 0.0916 - val_mse: 0.0506\n",
            "Epoch 79/100\n",
            "5595/5595 [==============================] - 9s 2ms/step - loss: 0.0384 - mae: 0.0700 - mse: 0.0384 - val_loss: 0.0488 - val_mae: 0.0806 - val_mse: 0.0488\n",
            "Epoch 80/100\n",
            "5595/5595 [==============================] - 9s 2ms/step - loss: 0.0388 - mae: 0.0696 - mse: 0.0388 - val_loss: 0.0719 - val_mae: 0.1607 - val_mse: 0.0719\n",
            "Epoch 81/100\n",
            "5595/5595 [==============================] - 9s 2ms/step - loss: 0.0375 - mae: 0.0685 - mse: 0.0375 - val_loss: 0.0405 - val_mae: 0.0665 - val_mse: 0.0405\n",
            "Epoch 82/100\n",
            "5595/5595 [==============================] - 9s 2ms/step - loss: 0.0381 - mae: 0.0691 - mse: 0.0381 - val_loss: 0.0443 - val_mae: 0.0697 - val_mse: 0.0443\n",
            "Epoch 83/100\n",
            "5595/5595 [==============================] - 9s 2ms/step - loss: 0.0374 - mae: 0.0679 - mse: 0.0374 - val_loss: 0.0438 - val_mae: 0.0656 - val_mse: 0.0438\n",
            "Epoch 84/100\n",
            "5595/5595 [==============================] - 9s 2ms/step - loss: 0.0372 - mae: 0.0680 - mse: 0.0372 - val_loss: 0.0430 - val_mae: 0.0612 - val_mse: 0.0430\n",
            "Epoch 85/100\n",
            "5595/5595 [==============================] - 10s 2ms/step - loss: 0.0366 - mae: 0.0681 - mse: 0.0366 - val_loss: 0.0604 - val_mae: 0.0848 - val_mse: 0.0604\n",
            "Epoch 86/100\n",
            "5595/5595 [==============================] - 9s 2ms/step - loss: 0.0374 - mae: 0.0687 - mse: 0.0374 - val_loss: 0.0405 - val_mae: 0.0783 - val_mse: 0.0405\n",
            "Epoch 87/100\n",
            "5595/5595 [==============================] - 9s 2ms/step - loss: 0.0370 - mae: 0.0696 - mse: 0.0370 - val_loss: 0.2151 - val_mae: 0.2898 - val_mse: 0.2151\n",
            "Epoch 88/100\n",
            "5595/5595 [==============================] - 9s 2ms/step - loss: 0.0376 - mae: 0.0690 - mse: 0.0376 - val_loss: 0.0374 - val_mae: 0.0613 - val_mse: 0.0374\n",
            "Epoch 89/100\n",
            "5595/5595 [==============================] - 9s 2ms/step - loss: 0.0369 - mae: 0.0679 - mse: 0.0369 - val_loss: 0.0374 - val_mae: 0.0609 - val_mse: 0.0374\n",
            "Epoch 90/100\n",
            "5595/5595 [==============================] - 9s 2ms/step - loss: 0.0377 - mae: 0.0694 - mse: 0.0377 - val_loss: 0.0419 - val_mae: 0.0717 - val_mse: 0.0419\n",
            "Epoch 91/100\n",
            "5595/5595 [==============================] - 9s 2ms/step - loss: 0.0367 - mae: 0.0690 - mse: 0.0367 - val_loss: 0.0462 - val_mae: 0.0662 - val_mse: 0.0462\n",
            "Epoch 92/100\n",
            "5595/5595 [==============================] - 9s 2ms/step - loss: 0.0368 - mae: 0.0676 - mse: 0.0368 - val_loss: 0.0435 - val_mae: 0.0829 - val_mse: 0.0435\n",
            "Epoch 93/100\n",
            "5595/5595 [==============================] - 9s 2ms/step - loss: 0.0376 - mae: 0.0673 - mse: 0.0376 - val_loss: 0.0701 - val_mae: 0.1495 - val_mse: 0.0701\n",
            "Epoch 94/100\n",
            "5595/5595 [==============================] - 9s 2ms/step - loss: 0.0369 - mae: 0.0673 - mse: 0.0369 - val_loss: 0.0498 - val_mae: 0.0751 - val_mse: 0.0498\n",
            "Epoch 95/100\n",
            "5595/5595 [==============================] - 9s 2ms/step - loss: 0.0356 - mae: 0.0664 - mse: 0.0356 - val_loss: 0.0445 - val_mae: 0.0822 - val_mse: 0.0445\n",
            "Epoch 96/100\n",
            "5595/5595 [==============================] - 9s 2ms/step - loss: 0.0358 - mae: 0.0667 - mse: 0.0358 - val_loss: 0.0399 - val_mae: 0.0786 - val_mse: 0.0399\n",
            "Epoch 97/100\n",
            "5595/5595 [==============================] - 9s 2ms/step - loss: 0.0361 - mae: 0.0674 - mse: 0.0361 - val_loss: 0.0451 - val_mae: 0.0709 - val_mse: 0.0451\n",
            "Epoch 98/100\n",
            "5595/5595 [==============================] - 9s 2ms/step - loss: 0.0361 - mae: 0.0672 - mse: 0.0361 - val_loss: 0.0399 - val_mae: 0.0661 - val_mse: 0.0399\n",
            "Epoch 99/100\n",
            "5595/5595 [==============================] - 9s 2ms/step - loss: 0.0362 - mae: 0.0672 - mse: 0.0362 - val_loss: 0.0452 - val_mae: 0.0685 - val_mse: 0.0452\n",
            "Epoch 100/100\n",
            "5595/5595 [==============================] - 9s 2ms/step - loss: 0.0362 - mae: 0.0676 - mse: 0.0362 - val_loss: 0.0444 - val_mae: 0.0597 - val_mse: 0.0444\n"
          ],
          "name": "stdout"
        }
      ]
    },
    {
      "cell_type": "code",
      "metadata": {
        "colab": {
          "base_uri": "https://localhost:8080/",
          "height": 255
        },
        "id": "9rWaRYXVhy11",
        "outputId": "4ba4f7aa-c4ca-45ae-cb60-6aa4cceed844"
      },
      "source": [
        "# Comandos para fazer download da pasta de logs para o tensorboard\n",
        "\n",
        "\"\"\"\n",
        "!zip -r /content/file.zip /content/logggs\n",
        "from google.colab import files\n",
        "files.download(\"/content/file.zip\")\n",
        "\"\"\""
      ],
      "execution_count": 74,
      "outputs": [
        {
          "output_type": "stream",
          "text": [
            "updating: content/logggs/ (stored 0%)\n",
            "updating: content/logggs/train/ (stored 0%)\n",
            "updating: content/logggs/train/events.out.tfevents.1629697168.1d471eafdd5a.66.1.v2 (deflated 91%)\n",
            "updating: content/logggs/train/events.out.tfevents.1629697169.1d471eafdd5a.profile-empty (deflated 5%)\n",
            "updating: content/logggs/train/plugins/ (stored 0%)\n",
            "updating: content/logggs/train/plugins/profile/ (stored 0%)\n",
            "updating: content/logggs/train/plugins/profile/2021_08_23_05_39_29/ (stored 0%)\n",
            "updating: content/logggs/train/plugins/profile/2021_08_23_05_39_29/1d471eafdd5a.input_pipeline.pb (deflated 56%)\n",
            "updating: content/logggs/train/plugins/profile/2021_08_23_05_39_29/1d471eafdd5a.kernel_stats.pb (stored 0%)\n",
            "updating: content/logggs/train/plugins/profile/2021_08_23_05_39_29/1d471eafdd5a.tensorflow_stats.pb (deflated 71%)\n",
            "updating: content/logggs/train/plugins/profile/2021_08_23_05_39_29/1d471eafdd5a.overview_page.pb (deflated 61%)\n",
            "updating: content/logggs/train/plugins/profile/2021_08_23_05_39_29/1d471eafdd5a.memory_profile.json.gz (stored 0%)\n",
            "updating: content/logggs/train/plugins/profile/2021_08_23_05_39_29/1d471eafdd5a.trace.json.gz (stored 0%)\n",
            "updating: content/logggs/train/plugins/profile/2021_08_23_05_39_29/1d471eafdd5a.xplane.pb (deflated 60%)\n"
          ],
          "name": "stdout"
        },
        {
          "output_type": "display_data",
          "data": {
            "application/javascript": [
              "\n",
              "    async function download(id, filename, size) {\n",
              "      if (!google.colab.kernel.accessAllowed) {\n",
              "        return;\n",
              "      }\n",
              "      const div = document.createElement('div');\n",
              "      const label = document.createElement('label');\n",
              "      label.textContent = `Downloading \"${filename}\": `;\n",
              "      div.appendChild(label);\n",
              "      const progress = document.createElement('progress');\n",
              "      progress.max = size;\n",
              "      div.appendChild(progress);\n",
              "      document.body.appendChild(div);\n",
              "\n",
              "      const buffers = [];\n",
              "      let downloaded = 0;\n",
              "\n",
              "      const channel = await google.colab.kernel.comms.open(id);\n",
              "      // Send a message to notify the kernel that we're ready.\n",
              "      channel.send({})\n",
              "\n",
              "      for await (const message of channel.messages) {\n",
              "        // Send a message to notify the kernel that we're ready.\n",
              "        channel.send({})\n",
              "        if (message.buffers) {\n",
              "          for (const buffer of message.buffers) {\n",
              "            buffers.push(buffer);\n",
              "            downloaded += buffer.byteLength;\n",
              "            progress.value = downloaded;\n",
              "          }\n",
              "        }\n",
              "      }\n",
              "      const blob = new Blob(buffers, {type: 'application/binary'});\n",
              "      const a = document.createElement('a');\n",
              "      a.href = window.URL.createObjectURL(blob);\n",
              "      a.download = filename;\n",
              "      div.appendChild(a);\n",
              "      a.click();\n",
              "      div.remove();\n",
              "    }\n",
              "  "
            ],
            "text/plain": [
              "<IPython.core.display.Javascript object>"
            ]
          },
          "metadata": {}
        },
        {
          "output_type": "display_data",
          "data": {
            "application/javascript": [
              "download(\"download_bc88389a-2a07-46f6-8096-0bee45ccaa35\", \"file.zip\", 35112)"
            ],
            "text/plain": [
              "<IPython.core.display.Javascript object>"
            ]
          },
          "metadata": {}
        }
      ]
    },
    {
      "cell_type": "markdown",
      "metadata": {
        "id": "iPGZeI7ocE9g"
      },
      "source": [
        "Plot"
      ]
    },
    {
      "cell_type": "code",
      "metadata": {
        "colab": {
          "base_uri": "https://localhost:8080/",
          "height": 544
        },
        "id": "PSOxB8T9cmWy",
        "outputId": "434b5b12-a7f0-4fa4-82ef-f8f3da37a0ec"
      },
      "source": [
        "import matplotlib.pyplot as plt\n",
        "\n",
        "def plot_history(history):\n",
        "  hist = pd.DataFrame(history.history)\n",
        "  hist['epoch'] = history.epoch\n",
        "\n",
        "  plt.figure()\n",
        "  plt.xlabel('Epoch')\n",
        "  plt.ylabel('Mean Abs Error')\n",
        "  plt.plot(hist['epoch'], hist['mae'], label='Train MAE')\n",
        "  plt.plot(hist['epoch'], hist['val_mae'], label='Test MAE')\n",
        "  plt.legend()\n",
        "  #plt.ylim([0,5])\n",
        "\n",
        "  plt.figure()\n",
        "  plt.xlabel('Epoch')\n",
        "  plt.ylabel('Mean Square Error')\n",
        "  plt.plot(hist['epoch'], hist['mse'], label='Train MSE')\n",
        "  plt.plot(hist['epoch'], hist['val_mse'], label='Test MSE')\n",
        "  plt.legend()\n",
        "  #plt.ylim([0,20])\n",
        "\n",
        "plot_history(history)\n",
        "\n"
      ],
      "execution_count": 87,
      "outputs": [
        {
          "output_type": "display_data",
          "data": {
            "image/png": "[encoded data removed]",
            "text/plain": [
              "<Figure size 432x288 with 1 Axes>"
            ]
          },
          "metadata": {
            "needs_background": "light"
          }
        },
        {
          "output_type": "display_data",
          "data": {
            "image/png": "[encoded data removed]",
            "text/plain": [
              "<Figure size 432x288 with 1 Axes>"
            ]
          },
          "metadata": {
            "needs_background": "light"
          }
        }
      ]
    }
  ]
}