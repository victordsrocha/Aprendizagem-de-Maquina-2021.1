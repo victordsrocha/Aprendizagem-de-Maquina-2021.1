{
  "nbformat": 4,
  "nbformat_minor": 0,
  "metadata": {
    "colab": {
      "name": "ML - Trabalho Final - Regressão Rede Neural.ipynb",
      "provenance": [],
      "mount_file_id": "1x0hzAoZsBYL3PsdQb3mjwdAf3qTZA3QU",
      "authorship_tag": "ABX9TyPCVWIljzL6dzxPc4Y15ygt",
      "include_colab_link": true
    },
    "kernelspec": {
      "name": "python3",
      "display_name": "Python 3"
    },
    "language_info": {
      "name": "python"
    }
  },
  "cells": [
    {
      "cell_type": "markdown",
      "metadata": {
        "id": "view-in-github",
        "colab_type": "text"
      },
      "source": [
        "<a href=\"https://colab.research.google.com/github/victordsrocha/Aprendizagem-de-Maquina-2021.1/blob/main/ML_Trabalho_Final_Regress%C3%A3o_Rede_Neural.ipynb\" target=\"_parent\"><img src=\"https://colab.research.google.com/assets/colab-badge.svg\" alt=\"Open In Colab\"/></a>"
      ]
    },
    {
      "cell_type": "code",
      "metadata": {
        "id": "4KhiPzuGDgJC"
      },
      "source": [
        "# !pip install seaborn"
      ],
      "execution_count": 1,
      "outputs": []
    },
    {
      "cell_type": "code",
      "metadata": {
        "id": "NiJSMvsHNeJ5"
      },
      "source": [
        "# import seaborn as sns\n",
        "import pandas as pd\n",
        "import tensorflow as tf\n",
        "import numpy as np\n",
        "from tensorflow import keras\n",
        "from tensorflow.keras import layers\n",
        "from sklearn.model_selection import train_test_split"
      ],
      "execution_count": 2,
      "outputs": []
    },
    {
      "cell_type": "markdown",
      "metadata": {
        "id": "Us-prCUJHS0l"
      },
      "source": [
        "Get the data"
      ]
    },
    {
      "cell_type": "code",
      "metadata": {
        "colab": {
          "base_uri": "https://localhost:8080/",
          "height": 204
        },
        "id": "cZTpi-VhHUum",
        "outputId": "8b5e8931-a206-4841-a585-ba7724acc4cf"
      },
      "source": [
        "dataset_path = 'https://github.com/victordsrocha/Aprendizagem-de-Maquina-2021.1/raw/main/dataset-1bola.csv'\n",
        "\n",
        "# mantive todas as colunas para caso sejam úteis no futuro\n",
        "column_names = ['bola_branca_x','bola_branca_y','bola_1_x','bola_1_y','tacada_x',\n",
        "                'tacada_y','forca','out_bola_branca_x','out_bola_branca_y','out_bola_1_x',\n",
        "                'out_bola_1_y','dist_custo1','dist_custo2','dist_custo3','dist_custo4',\n",
        "                'colisao_x','colisao_y']\n",
        "\n",
        "raw_dataset = pd.read_csv(dataset_path, names=column_names, sep=',')\n",
        "\n",
        "# drop das colunas que não vamos utilizar\n",
        "raw_dataset=raw_dataset.drop(columns=['forca','out_bola_branca_x','out_bola_branca_y','out_bola_1_x',\n",
        "                'out_bola_1_y','dist_custo1','dist_custo2','dist_custo3','dist_custo4',\n",
        "                'colisao_x','colisao_y'])\n",
        "\n",
        "dataset = raw_dataset.copy()\n",
        "dataset.tail()"
      ],
      "execution_count": 3,
      "outputs": [
        {
          "output_type": "execute_result",
          "data": {
            "text/html": [
              "<div>\n",
              "<style scoped>\n",
              "    .dataframe tbody tr th:only-of-type {\n",
              "        vertical-align: middle;\n",
              "    }\n",
              "\n",
              "    .dataframe tbody tr th {\n",
              "        vertical-align: top;\n",
              "    }\n",
              "\n",
              "    .dataframe thead th {\n",
              "        text-align: right;\n",
              "    }\n",
              "</style>\n",
              "<table border=\"1\" class=\"dataframe\">\n",
              "  <thead>\n",
              "    <tr style=\"text-align: right;\">\n",
              "      <th></th>\n",
              "      <th>bola_branca_x</th>\n",
              "      <th>bola_branca_y</th>\n",
              "      <th>bola_1_x</th>\n",
              "      <th>bola_1_y</th>\n",
              "      <th>tacada_x</th>\n",
              "      <th>tacada_y</th>\n",
              "    </tr>\n",
              "  </thead>\n",
              "  <tbody>\n",
              "    <tr>\n",
              "      <th>83911</th>\n",
              "      <td>0.211559</td>\n",
              "      <td>0.273849</td>\n",
              "      <td>0.069541</td>\n",
              "      <td>0.068641</td>\n",
              "      <td>-0.559838</td>\n",
              "      <td>-0.828602</td>\n",
              "    </tr>\n",
              "    <tr>\n",
              "      <th>83912</th>\n",
              "      <td>0.779373</td>\n",
              "      <td>0.386655</td>\n",
              "      <td>0.772425</td>\n",
              "      <td>0.212990</td>\n",
              "      <td>-0.070697</td>\n",
              "      <td>-0.997498</td>\n",
              "    </tr>\n",
              "    <tr>\n",
              "      <th>83913</th>\n",
              "      <td>0.797904</td>\n",
              "      <td>0.376335</td>\n",
              "      <td>0.753802</td>\n",
              "      <td>0.029519</td>\n",
              "      <td>-0.150995</td>\n",
              "      <td>-0.988534</td>\n",
              "    </tr>\n",
              "    <tr>\n",
              "      <th>83914</th>\n",
              "      <td>0.799908</td>\n",
              "      <td>0.253087</td>\n",
              "      <td>0.602778</td>\n",
              "      <td>0.141271</td>\n",
              "      <td>-0.857461</td>\n",
              "      <td>-0.514549</td>\n",
              "    </tr>\n",
              "    <tr>\n",
              "      <th>83915</th>\n",
              "      <td>0.446634</td>\n",
              "      <td>0.062459</td>\n",
              "      <td>0.940956</td>\n",
              "      <td>0.638424</td>\n",
              "      <td>0.656110</td>\n",
              "      <td>0.754666</td>\n",
              "    </tr>\n",
              "  </tbody>\n",
              "</table>\n",
              "</div>"
            ],
            "text/plain": [
              "       bola_branca_x  bola_branca_y  bola_1_x  bola_1_y  tacada_x  tacada_y\n",
              "83911       0.211559       0.273849  0.069541  0.068641 -0.559838 -0.828602\n",
              "83912       0.779373       0.386655  0.772425  0.212990 -0.070697 -0.997498\n",
              "83913       0.797904       0.376335  0.753802  0.029519 -0.150995 -0.988534\n",
              "83914       0.799908       0.253087  0.602778  0.141271 -0.857461 -0.514549\n",
              "83915       0.446634       0.062459  0.940956  0.638424  0.656110  0.754666"
            ]
          },
          "metadata": {},
          "execution_count": 3
        }
      ]
    },
    {
      "cell_type": "markdown",
      "metadata": {
        "id": "S14uQUUFMPau"
      },
      "source": [
        "Split the data into train and test"
      ]
    },
    {
      "cell_type": "code",
      "metadata": {
        "id": "dgYT_qLiMSlG"
      },
      "source": [
        "X = dataset.drop(columns=['tacada_x','tacada_y'])\n",
        "y = pd.DataFrame({\"arc_tangent\":np.arctan(dataset['tacada_x'] / dataset['tacada_y']).T})\n",
        "\n",
        "X_train, X_test, y_train, y_test = train_test_split(X, y, test_size=0.2, random_state=42)"
      ],
      "execution_count": 4,
      "outputs": []
    },
    {
      "cell_type": "markdown",
      "metadata": {
        "id": "_8SRA_99Onjc"
      },
      "source": [
        "Inspect the data"
      ]
    },
    {
      "cell_type": "code",
      "metadata": {
        "colab": {
          "base_uri": "https://localhost:8080/",
          "height": 173
        },
        "id": "KjLVmLoHOpPW",
        "outputId": "285ae98c-5caa-4e73-f7f7-d1eee840b00a"
      },
      "source": [
        "# apresenta a descrição dos dados de treino - entrada\n",
        "X_train.describe().transpose()"
      ],
      "execution_count": 5,
      "outputs": [
        {
          "output_type": "execute_result",
          "data": {
            "text/html": [
              "<div>\n",
              "<style scoped>\n",
              "    .dataframe tbody tr th:only-of-type {\n",
              "        vertical-align: middle;\n",
              "    }\n",
              "\n",
              "    .dataframe tbody tr th {\n",
              "        vertical-align: top;\n",
              "    }\n",
              "\n",
              "    .dataframe thead th {\n",
              "        text-align: right;\n",
              "    }\n",
              "</style>\n",
              "<table border=\"1\" class=\"dataframe\">\n",
              "  <thead>\n",
              "    <tr style=\"text-align: right;\">\n",
              "      <th></th>\n",
              "      <th>count</th>\n",
              "      <th>mean</th>\n",
              "      <th>std</th>\n",
              "      <th>min</th>\n",
              "      <th>25%</th>\n",
              "      <th>50%</th>\n",
              "      <th>75%</th>\n",
              "      <th>max</th>\n",
              "    </tr>\n",
              "  </thead>\n",
              "  <tbody>\n",
              "    <tr>\n",
              "      <th>bola_branca_x</th>\n",
              "      <td>67132.0</td>\n",
              "      <td>0.512318</td>\n",
              "      <td>0.255489</td>\n",
              "      <td>0.010084</td>\n",
              "      <td>0.305967</td>\n",
              "      <td>0.500139</td>\n",
              "      <td>0.726007</td>\n",
              "      <td>0.990000</td>\n",
              "    </tr>\n",
              "    <tr>\n",
              "      <th>bola_branca_y</th>\n",
              "      <td>67132.0</td>\n",
              "      <td>0.374178</td>\n",
              "      <td>0.194228</td>\n",
              "      <td>0.010083</td>\n",
              "      <td>0.216302</td>\n",
              "      <td>0.375000</td>\n",
              "      <td>0.531559</td>\n",
              "      <td>0.740000</td>\n",
              "    </tr>\n",
              "    <tr>\n",
              "      <th>bola_1_x</th>\n",
              "      <td>67132.0</td>\n",
              "      <td>0.517022</td>\n",
              "      <td>0.327201</td>\n",
              "      <td>0.009782</td>\n",
              "      <td>0.191748</td>\n",
              "      <td>0.540294</td>\n",
              "      <td>0.820357</td>\n",
              "      <td>0.991592</td>\n",
              "    </tr>\n",
              "    <tr>\n",
              "      <th>bola_1_y</th>\n",
              "      <td>67132.0</td>\n",
              "      <td>0.374911</td>\n",
              "      <td>0.231907</td>\n",
              "      <td>0.008124</td>\n",
              "      <td>0.153846</td>\n",
              "      <td>0.375000</td>\n",
              "      <td>0.596124</td>\n",
              "      <td>0.742211</td>\n",
              "    </tr>\n",
              "  </tbody>\n",
              "</table>\n",
              "</div>"
            ],
            "text/plain": [
              "                 count      mean       std  ...       50%       75%       max\n",
              "bola_branca_x  67132.0  0.512318  0.255489  ...  0.500139  0.726007  0.990000\n",
              "bola_branca_y  67132.0  0.374178  0.194228  ...  0.375000  0.531559  0.740000\n",
              "bola_1_x       67132.0  0.517022  0.327201  ...  0.540294  0.820357  0.991592\n",
              "bola_1_y       67132.0  0.374911  0.231907  ...  0.375000  0.596124  0.742211\n",
              "\n",
              "[4 rows x 8 columns]"
            ]
          },
          "metadata": {},
          "execution_count": 5
        }
      ]
    },
    {
      "cell_type": "code",
      "metadata": {
        "colab": {
          "base_uri": "https://localhost:8080/",
          "height": 80
        },
        "id": "06a2VPi0Xdf-",
        "outputId": "acb08737-9df3-4a82-a09b-d88c35d01a2e"
      },
      "source": [
        "# apresenta a descrição dos dados de treino - saída\n",
        "y_train.describe().transpose()"
      ],
      "execution_count": 6,
      "outputs": [
        {
          "output_type": "execute_result",
          "data": {
            "text/html": [
              "<div>\n",
              "<style scoped>\n",
              "    .dataframe tbody tr th:only-of-type {\n",
              "        vertical-align: middle;\n",
              "    }\n",
              "\n",
              "    .dataframe tbody tr th {\n",
              "        vertical-align: top;\n",
              "    }\n",
              "\n",
              "    .dataframe thead th {\n",
              "        text-align: right;\n",
              "    }\n",
              "</style>\n",
              "<table border=\"1\" class=\"dataframe\">\n",
              "  <thead>\n",
              "    <tr style=\"text-align: right;\">\n",
              "      <th></th>\n",
              "      <th>count</th>\n",
              "      <th>mean</th>\n",
              "      <th>std</th>\n",
              "      <th>min</th>\n",
              "      <th>25%</th>\n",
              "      <th>50%</th>\n",
              "      <th>75%</th>\n",
              "      <th>max</th>\n",
              "    </tr>\n",
              "  </thead>\n",
              "  <tbody>\n",
              "    <tr>\n",
              "      <th>arc_tangent</th>\n",
              "      <td>67132.0</td>\n",
              "      <td>-0.001666</td>\n",
              "      <td>0.885256</td>\n",
              "      <td>-1.57078</td>\n",
              "      <td>-0.813542</td>\n",
              "      <td>-0.007471</td>\n",
              "      <td>0.807088</td>\n",
              "      <td>1.570762</td>\n",
              "    </tr>\n",
              "  </tbody>\n",
              "</table>\n",
              "</div>"
            ],
            "text/plain": [
              "               count      mean       std  ...       50%       75%       max\n",
              "arc_tangent  67132.0 -0.001666  0.885256  ... -0.007471  0.807088  1.570762\n",
              "\n",
              "[1 rows x 8 columns]"
            ]
          },
          "metadata": {},
          "execution_count": 6
        }
      ]
    },
    {
      "cell_type": "markdown",
      "metadata": {
        "id": "lZAKOWYDQlAY"
      },
      "source": [
        "Normalize the data"
      ]
    },
    {
      "cell_type": "code",
      "metadata": {
        "id": "mDlRLUq8Qm5I"
      },
      "source": [
        "# não testei se a normalização realmente ajuda\n",
        "\n",
        "# normalização z-score de todos os dados\n",
        "\n",
        "import numpy as np\n",
        "\n",
        "def normalize_zscore(data):\n",
        "    data_scaled = data\n",
        "    data_mean = data_scaled.mean(axis=0)\n",
        "    data_std = data_scaled.std(axis=0)\n",
        "    data_scaled = (data_scaled - data_mean) / data_std\n",
        "    return data_scaled\n",
        "\n",
        "# X_train = normalize_zscore(X_train)\n",
        "# X_test = normalize_zscore(X_test)\n",
        "# y_train = normalize_zscore(y_train)\n",
        "# y_test = normalize_zscore(y_test)"
      ],
      "execution_count": 7,
      "outputs": []
    },
    {
      "cell_type": "code",
      "metadata": {
        "colab": {
          "base_uri": "https://localhost:8080/",
          "height": 173
        },
        "id": "AO3YHXQDa1Xb",
        "outputId": "57c71366-4dca-4cc4-e0d6-4c4b4a3dc083"
      },
      "source": [
        "# apresenta a descrição dos dados de treino normalizados - entrada\n",
        "X_train.describe().transpose()"
      ],
      "execution_count": 8,
      "outputs": [
        {
          "output_type": "execute_result",
          "data": {
            "text/html": [
              "<div>\n",
              "<style scoped>\n",
              "    .dataframe tbody tr th:only-of-type {\n",
              "        vertical-align: middle;\n",
              "    }\n",
              "\n",
              "    .dataframe tbody tr th {\n",
              "        vertical-align: top;\n",
              "    }\n",
              "\n",
              "    .dataframe thead th {\n",
              "        text-align: right;\n",
              "    }\n",
              "</style>\n",
              "<table border=\"1\" class=\"dataframe\">\n",
              "  <thead>\n",
              "    <tr style=\"text-align: right;\">\n",
              "      <th></th>\n",
              "      <th>count</th>\n",
              "      <th>mean</th>\n",
              "      <th>std</th>\n",
              "      <th>min</th>\n",
              "      <th>25%</th>\n",
              "      <th>50%</th>\n",
              "      <th>75%</th>\n",
              "      <th>max</th>\n",
              "    </tr>\n",
              "  </thead>\n",
              "  <tbody>\n",
              "    <tr>\n",
              "      <th>bola_branca_x</th>\n",
              "      <td>67132.0</td>\n",
              "      <td>0.512318</td>\n",
              "      <td>0.255489</td>\n",
              "      <td>0.010084</td>\n",
              "      <td>0.305967</td>\n",
              "      <td>0.500139</td>\n",
              "      <td>0.726007</td>\n",
              "      <td>0.990000</td>\n",
              "    </tr>\n",
              "    <tr>\n",
              "      <th>bola_branca_y</th>\n",
              "      <td>67132.0</td>\n",
              "      <td>0.374178</td>\n",
              "      <td>0.194228</td>\n",
              "      <td>0.010083</td>\n",
              "      <td>0.216302</td>\n",
              "      <td>0.375000</td>\n",
              "      <td>0.531559</td>\n",
              "      <td>0.740000</td>\n",
              "    </tr>\n",
              "    <tr>\n",
              "      <th>bola_1_x</th>\n",
              "      <td>67132.0</td>\n",
              "      <td>0.517022</td>\n",
              "      <td>0.327201</td>\n",
              "      <td>0.009782</td>\n",
              "      <td>0.191748</td>\n",
              "      <td>0.540294</td>\n",
              "      <td>0.820357</td>\n",
              "      <td>0.991592</td>\n",
              "    </tr>\n",
              "    <tr>\n",
              "      <th>bola_1_y</th>\n",
              "      <td>67132.0</td>\n",
              "      <td>0.374911</td>\n",
              "      <td>0.231907</td>\n",
              "      <td>0.008124</td>\n",
              "      <td>0.153846</td>\n",
              "      <td>0.375000</td>\n",
              "      <td>0.596124</td>\n",
              "      <td>0.742211</td>\n",
              "    </tr>\n",
              "  </tbody>\n",
              "</table>\n",
              "</div>"
            ],
            "text/plain": [
              "                 count      mean       std  ...       50%       75%       max\n",
              "bola_branca_x  67132.0  0.512318  0.255489  ...  0.500139  0.726007  0.990000\n",
              "bola_branca_y  67132.0  0.374178  0.194228  ...  0.375000  0.531559  0.740000\n",
              "bola_1_x       67132.0  0.517022  0.327201  ...  0.540294  0.820357  0.991592\n",
              "bola_1_y       67132.0  0.374911  0.231907  ...  0.375000  0.596124  0.742211\n",
              "\n",
              "[4 rows x 8 columns]"
            ]
          },
          "metadata": {},
          "execution_count": 8
        }
      ]
    },
    {
      "cell_type": "code",
      "metadata": {
        "colab": {
          "base_uri": "https://localhost:8080/",
          "height": 80
        },
        "id": "vbxptbgua1g6",
        "outputId": "4ed7a3f8-8727-4db0-8192-e01124e42f64"
      },
      "source": [
        "# apresenta a descrição dos dados de treino normalizados - saída\n",
        "y_train.describe().transpose()"
      ],
      "execution_count": 9,
      "outputs": [
        {
          "output_type": "execute_result",
          "data": {
            "text/html": [
              "<div>\n",
              "<style scoped>\n",
              "    .dataframe tbody tr th:only-of-type {\n",
              "        vertical-align: middle;\n",
              "    }\n",
              "\n",
              "    .dataframe tbody tr th {\n",
              "        vertical-align: top;\n",
              "    }\n",
              "\n",
              "    .dataframe thead th {\n",
              "        text-align: right;\n",
              "    }\n",
              "</style>\n",
              "<table border=\"1\" class=\"dataframe\">\n",
              "  <thead>\n",
              "    <tr style=\"text-align: right;\">\n",
              "      <th></th>\n",
              "      <th>count</th>\n",
              "      <th>mean</th>\n",
              "      <th>std</th>\n",
              "      <th>min</th>\n",
              "      <th>25%</th>\n",
              "      <th>50%</th>\n",
              "      <th>75%</th>\n",
              "      <th>max</th>\n",
              "    </tr>\n",
              "  </thead>\n",
              "  <tbody>\n",
              "    <tr>\n",
              "      <th>arc_tangent</th>\n",
              "      <td>67132.0</td>\n",
              "      <td>-0.001666</td>\n",
              "      <td>0.885256</td>\n",
              "      <td>-1.57078</td>\n",
              "      <td>-0.813542</td>\n",
              "      <td>-0.007471</td>\n",
              "      <td>0.807088</td>\n",
              "      <td>1.570762</td>\n",
              "    </tr>\n",
              "  </tbody>\n",
              "</table>\n",
              "</div>"
            ],
            "text/plain": [
              "               count      mean       std  ...       50%       75%       max\n",
              "arc_tangent  67132.0 -0.001666  0.885256  ... -0.007471  0.807088  1.570762\n",
              "\n",
              "[1 rows x 8 columns]"
            ]
          },
          "metadata": {},
          "execution_count": 9
        }
      ]
    },
    {
      "cell_type": "markdown",
      "metadata": {
        "id": "yNUBvNesTa7H"
      },
      "source": [
        "Build the model"
      ]
    },
    {
      "cell_type": "code",
      "metadata": {
        "colab": {
          "base_uri": "https://localhost:8080/"
        },
        "id": "PWyEVDp5Tcpl",
        "outputId": "7305a0ab-e1ca-4acd-b346-6e5e0ad90e38"
      },
      "source": [
        "# dimensões de entrada e saída\n",
        "in_dim = X_train.shape[1]\n",
        "out_dim = y_train.shape[1]\n",
        "\n",
        "# modelo\n",
        "model = keras.models.Sequential()\n",
        "model.add(layers.Dense(64, input_dim=in_dim, activation=\"relu\"))\n",
        "model.add(layers.Dense(64, activation=\"relu\"))\n",
        "model.add(layers.Dense(out_dim))\n",
        "\n",
        "optimizer = keras.optimizers.RMSprop(learning_rate=0.001)\n",
        "\n",
        "model.compile(loss=\"mse\", optimizer=optimizer, metrics=['mae','mse'])\n",
        "\n",
        "# log tensorboard\n",
        "tensorboard_callback = tf.keras.callbacks.TensorBoard(log_dir=\"./logggs\")\n",
        "\n",
        "# early stop\n",
        "early_stop = keras.callbacks.EarlyStopping(monitor='val_loss', patience=10)\n",
        "\n",
        "# sumário do modelo\n",
        "model.summary()"
      ],
      "execution_count": 10,
      "outputs": [
        {
          "output_type": "stream",
          "text": [
            "Model: \"sequential\"\n",
            "_________________________________________________________________\n",
            "Layer (type)                 Output Shape              Param #   \n",
            "=================================================================\n",
            "dense (Dense)                (None, 64)                320       \n",
            "_________________________________________________________________\n",
            "dense_1 (Dense)              (None, 64)                4160      \n",
            "_________________________________________________________________\n",
            "dense_2 (Dense)              (None, 1)                 65        \n",
            "=================================================================\n",
            "Total params: 4,545\n",
            "Trainable params: 4,545\n",
            "Non-trainable params: 0\n",
            "_________________________________________________________________\n"
          ],
          "name": "stdout"
        }
      ]
    },
    {
      "cell_type": "markdown",
      "metadata": {
        "id": "M9n3m792bx2W"
      },
      "source": [
        "Train the model"
      ]
    },
    {
      "cell_type": "code",
      "metadata": {
        "colab": {
          "base_uri": "https://localhost:8080/"
        },
        "id": "Fe7ZGOPobRNr",
        "outputId": "fe28f98d-94d2-4f4d-baec-7b1cacd7102d"
      },
      "source": [
        "history = model.fit(X_train, y_train, epochs=1000, validation_data=(X_test, y_test), batch_size=128, verbose=1, callbacks=[early_stop, tensorboard_callback])"
      ],
      "execution_count": 11,
      "outputs": [
        {
          "output_type": "stream",
          "text": [
            "Epoch 1/1000\n",
            "525/525 [==============================] - 2s 2ms/step - loss: 0.3130 - mae: 0.3910 - mse: 0.3130 - val_loss: 0.1956 - val_mae: 0.2908 - val_mse: 0.1956\n",
            "Epoch 2/1000\n",
            "525/525 [==============================] - 1s 2ms/step - loss: 0.1554 - mae: 0.2354 - mse: 0.1554 - val_loss: 0.1416 - val_mae: 0.2364 - val_mse: 0.1416\n",
            "Epoch 3/1000\n",
            "525/525 [==============================] - 1s 2ms/step - loss: 0.1172 - mae: 0.1903 - mse: 0.1172 - val_loss: 0.1039 - val_mae: 0.1677 - val_mse: 0.1039\n",
            "Epoch 4/1000\n",
            "525/525 [==============================] - 1s 2ms/step - loss: 0.0994 - mae: 0.1687 - mse: 0.0994 - val_loss: 0.0954 - val_mae: 0.1524 - val_mse: 0.0954\n",
            "Epoch 5/1000\n",
            "525/525 [==============================] - 1s 2ms/step - loss: 0.0883 - mae: 0.1551 - mse: 0.0883 - val_loss: 0.0829 - val_mae: 0.1392 - val_mse: 0.0829\n",
            "Epoch 6/1000\n",
            "525/525 [==============================] - 1s 2ms/step - loss: 0.0809 - mae: 0.1464 - mse: 0.0809 - val_loss: 0.0779 - val_mae: 0.1202 - val_mse: 0.0779\n",
            "Epoch 7/1000\n",
            "525/525 [==============================] - 1s 2ms/step - loss: 0.0758 - mae: 0.1387 - mse: 0.0758 - val_loss: 0.1049 - val_mae: 0.1662 - val_mse: 0.1049\n",
            "Epoch 8/1000\n",
            "525/525 [==============================] - 1s 2ms/step - loss: 0.0715 - mae: 0.1332 - mse: 0.0715 - val_loss: 0.0696 - val_mae: 0.1314 - val_mse: 0.0696\n",
            "Epoch 9/1000\n",
            "525/525 [==============================] - 1s 2ms/step - loss: 0.0683 - mae: 0.1294 - mse: 0.0683 - val_loss: 0.0724 - val_mae: 0.1654 - val_mse: 0.0724\n",
            "Epoch 10/1000\n",
            "525/525 [==============================] - 1s 2ms/step - loss: 0.0650 - mae: 0.1269 - mse: 0.0650 - val_loss: 0.0837 - val_mae: 0.1459 - val_mse: 0.0837\n",
            "Epoch 11/1000\n",
            "525/525 [==============================] - 1s 2ms/step - loss: 0.0632 - mae: 0.1241 - mse: 0.0632 - val_loss: 0.0631 - val_mae: 0.1083 - val_mse: 0.0631\n",
            "Epoch 12/1000\n",
            "525/525 [==============================] - 1s 2ms/step - loss: 0.0609 - mae: 0.1219 - mse: 0.0609 - val_loss: 0.0623 - val_mae: 0.1431 - val_mse: 0.0623\n",
            "Epoch 13/1000\n",
            "525/525 [==============================] - 1s 2ms/step - loss: 0.0592 - mae: 0.1195 - mse: 0.0592 - val_loss: 0.0516 - val_mae: 0.1017 - val_mse: 0.0516\n",
            "Epoch 14/1000\n",
            "525/525 [==============================] - 1s 2ms/step - loss: 0.0578 - mae: 0.1187 - mse: 0.0578 - val_loss: 0.0603 - val_mae: 0.1070 - val_mse: 0.0603\n",
            "Epoch 15/1000\n",
            "525/525 [==============================] - 1s 2ms/step - loss: 0.0564 - mae: 0.1158 - mse: 0.0564 - val_loss: 0.0538 - val_mae: 0.1196 - val_mse: 0.0538\n",
            "Epoch 16/1000\n",
            "525/525 [==============================] - 1s 2ms/step - loss: 0.0556 - mae: 0.1143 - mse: 0.0556 - val_loss: 0.0612 - val_mae: 0.1568 - val_mse: 0.0612\n",
            "Epoch 17/1000\n",
            "525/525 [==============================] - 1s 2ms/step - loss: 0.0544 - mae: 0.1123 - mse: 0.0544 - val_loss: 0.0644 - val_mae: 0.1382 - val_mse: 0.0644\n",
            "Epoch 18/1000\n",
            "525/525 [==============================] - 1s 2ms/step - loss: 0.0534 - mae: 0.1122 - mse: 0.0534 - val_loss: 0.0517 - val_mae: 0.1019 - val_mse: 0.0517\n",
            "Epoch 19/1000\n",
            "525/525 [==============================] - 1s 2ms/step - loss: 0.0528 - mae: 0.1117 - mse: 0.0528 - val_loss: 0.0540 - val_mae: 0.1343 - val_mse: 0.0540\n",
            "Epoch 20/1000\n",
            "525/525 [==============================] - 1s 2ms/step - loss: 0.0521 - mae: 0.1098 - mse: 0.0521 - val_loss: 0.0636 - val_mae: 0.1541 - val_mse: 0.0636\n",
            "Epoch 21/1000\n",
            "525/525 [==============================] - 1s 2ms/step - loss: 0.0513 - mae: 0.1086 - mse: 0.0513 - val_loss: 0.0534 - val_mae: 0.1008 - val_mse: 0.0534\n",
            "Epoch 22/1000\n",
            "525/525 [==============================] - 1s 2ms/step - loss: 0.0510 - mae: 0.1098 - mse: 0.0510 - val_loss: 0.0459 - val_mae: 0.0976 - val_mse: 0.0459\n",
            "Epoch 23/1000\n",
            "525/525 [==============================] - 1s 2ms/step - loss: 0.0499 - mae: 0.1078 - mse: 0.0499 - val_loss: 0.0461 - val_mae: 0.0909 - val_mse: 0.0461\n",
            "Epoch 24/1000\n",
            "525/525 [==============================] - 1s 2ms/step - loss: 0.0504 - mae: 0.1063 - mse: 0.0504 - val_loss: 0.0448 - val_mae: 0.0920 - val_mse: 0.0448\n",
            "Epoch 25/1000\n",
            "525/525 [==============================] - 1s 2ms/step - loss: 0.0491 - mae: 0.1049 - mse: 0.0491 - val_loss: 0.0484 - val_mae: 0.1073 - val_mse: 0.0484\n",
            "Epoch 26/1000\n",
            "525/525 [==============================] - 1s 2ms/step - loss: 0.0478 - mae: 0.1043 - mse: 0.0478 - val_loss: 0.0540 - val_mae: 0.0860 - val_mse: 0.0540\n",
            "Epoch 27/1000\n",
            "525/525 [==============================] - 1s 2ms/step - loss: 0.0479 - mae: 0.1033 - mse: 0.0479 - val_loss: 0.0712 - val_mae: 0.1032 - val_mse: 0.0712\n",
            "Epoch 28/1000\n",
            "525/525 [==============================] - 1s 2ms/step - loss: 0.0475 - mae: 0.1029 - mse: 0.0475 - val_loss: 0.0488 - val_mae: 0.0792 - val_mse: 0.0488\n",
            "Epoch 29/1000\n",
            "525/525 [==============================] - 1s 2ms/step - loss: 0.0466 - mae: 0.1021 - mse: 0.0466 - val_loss: 0.0570 - val_mae: 0.1263 - val_mse: 0.0570\n",
            "Epoch 30/1000\n",
            "525/525 [==============================] - 1s 2ms/step - loss: 0.0463 - mae: 0.1010 - mse: 0.0463 - val_loss: 0.0526 - val_mae: 0.1253 - val_mse: 0.0526\n",
            "Epoch 31/1000\n",
            "525/525 [==============================] - 1s 2ms/step - loss: 0.0467 - mae: 0.1020 - mse: 0.0467 - val_loss: 0.0449 - val_mae: 0.0738 - val_mse: 0.0449\n",
            "Epoch 32/1000\n",
            "525/525 [==============================] - 1s 2ms/step - loss: 0.0452 - mae: 0.0998 - mse: 0.0452 - val_loss: 0.0413 - val_mae: 0.0670 - val_mse: 0.0413\n",
            "Epoch 33/1000\n",
            "525/525 [==============================] - 1s 2ms/step - loss: 0.0456 - mae: 0.1003 - mse: 0.0456 - val_loss: 0.0745 - val_mae: 0.1146 - val_mse: 0.0745\n",
            "Epoch 34/1000\n",
            "525/525 [==============================] - 1s 2ms/step - loss: 0.0454 - mae: 0.1001 - mse: 0.0454 - val_loss: 0.0518 - val_mae: 0.1225 - val_mse: 0.0518\n",
            "Epoch 35/1000\n",
            "525/525 [==============================] - 1s 2ms/step - loss: 0.0442 - mae: 0.0977 - mse: 0.0442 - val_loss: 0.0453 - val_mae: 0.0849 - val_mse: 0.0453\n",
            "Epoch 36/1000\n",
            "525/525 [==============================] - 1s 2ms/step - loss: 0.0443 - mae: 0.0981 - mse: 0.0443 - val_loss: 0.0503 - val_mae: 0.1264 - val_mse: 0.0503\n",
            "Epoch 37/1000\n",
            "525/525 [==============================] - 1s 2ms/step - loss: 0.0441 - mae: 0.0977 - mse: 0.0441 - val_loss: 0.0426 - val_mae: 0.1031 - val_mse: 0.0426\n",
            "Epoch 38/1000\n",
            "525/525 [==============================] - 1s 2ms/step - loss: 0.0442 - mae: 0.0973 - mse: 0.0442 - val_loss: 0.0407 - val_mae: 0.0668 - val_mse: 0.0407\n",
            "Epoch 39/1000\n",
            "525/525 [==============================] - 1s 2ms/step - loss: 0.0436 - mae: 0.0970 - mse: 0.0436 - val_loss: 0.0427 - val_mae: 0.1021 - val_mse: 0.0427\n",
            "Epoch 40/1000\n",
            "525/525 [==============================] - 1s 2ms/step - loss: 0.0436 - mae: 0.0958 - mse: 0.0436 - val_loss: 0.0371 - val_mae: 0.0818 - val_mse: 0.0371\n",
            "Epoch 41/1000\n",
            "525/525 [==============================] - 1s 2ms/step - loss: 0.0427 - mae: 0.0957 - mse: 0.0427 - val_loss: 0.0514 - val_mae: 0.1385 - val_mse: 0.0514\n",
            "Epoch 42/1000\n",
            "525/525 [==============================] - 1s 2ms/step - loss: 0.0430 - mae: 0.0954 - mse: 0.0430 - val_loss: 0.0540 - val_mae: 0.1062 - val_mse: 0.0540\n",
            "Epoch 43/1000\n",
            "525/525 [==============================] - 1s 2ms/step - loss: 0.0426 - mae: 0.0947 - mse: 0.0426 - val_loss: 0.0414 - val_mae: 0.0587 - val_mse: 0.0414\n",
            "Epoch 44/1000\n",
            "525/525 [==============================] - 1s 2ms/step - loss: 0.0429 - mae: 0.0950 - mse: 0.0429 - val_loss: 0.0354 - val_mae: 0.0609 - val_mse: 0.0354\n",
            "Epoch 45/1000\n",
            "525/525 [==============================] - 1s 2ms/step - loss: 0.0425 - mae: 0.0951 - mse: 0.0425 - val_loss: 0.0423 - val_mae: 0.0770 - val_mse: 0.0423\n",
            "Epoch 46/1000\n",
            "525/525 [==============================] - 1s 2ms/step - loss: 0.0415 - mae: 0.0925 - mse: 0.0415 - val_loss: 0.0599 - val_mae: 0.1671 - val_mse: 0.0599\n",
            "Epoch 47/1000\n",
            "525/525 [==============================] - 1s 2ms/step - loss: 0.0417 - mae: 0.0931 - mse: 0.0417 - val_loss: 0.0398 - val_mae: 0.1072 - val_mse: 0.0398\n",
            "Epoch 48/1000\n",
            "525/525 [==============================] - 1s 2ms/step - loss: 0.0416 - mae: 0.0931 - mse: 0.0416 - val_loss: 0.0354 - val_mae: 0.0691 - val_mse: 0.0354\n",
            "Epoch 49/1000\n",
            "525/525 [==============================] - 1s 2ms/step - loss: 0.0418 - mae: 0.0926 - mse: 0.0418 - val_loss: 0.0343 - val_mae: 0.0637 - val_mse: 0.0343\n",
            "Epoch 50/1000\n",
            "525/525 [==============================] - 1s 2ms/step - loss: 0.0406 - mae: 0.0911 - mse: 0.0406 - val_loss: 0.0396 - val_mae: 0.0809 - val_mse: 0.0396\n",
            "Epoch 51/1000\n",
            "525/525 [==============================] - 1s 2ms/step - loss: 0.0406 - mae: 0.0910 - mse: 0.0406 - val_loss: 0.0379 - val_mae: 0.0855 - val_mse: 0.0379\n",
            "Epoch 52/1000\n",
            "525/525 [==============================] - 1s 2ms/step - loss: 0.0408 - mae: 0.0905 - mse: 0.0408 - val_loss: 0.0384 - val_mae: 0.0661 - val_mse: 0.0384\n",
            "Epoch 53/1000\n",
            "525/525 [==============================] - 1s 2ms/step - loss: 0.0409 - mae: 0.0903 - mse: 0.0409 - val_loss: 0.0501 - val_mae: 0.1328 - val_mse: 0.0501\n",
            "Epoch 54/1000\n",
            "525/525 [==============================] - 1s 2ms/step - loss: 0.0408 - mae: 0.0900 - mse: 0.0408 - val_loss: 0.0435 - val_mae: 0.1260 - val_mse: 0.0435\n",
            "Epoch 55/1000\n",
            "525/525 [==============================] - 1s 2ms/step - loss: 0.0409 - mae: 0.0903 - mse: 0.0409 - val_loss: 0.0354 - val_mae: 0.0833 - val_mse: 0.0354\n",
            "Epoch 56/1000\n",
            "525/525 [==============================] - 1s 2ms/step - loss: 0.0401 - mae: 0.0894 - mse: 0.0401 - val_loss: 0.0366 - val_mae: 0.0583 - val_mse: 0.0366\n",
            "Epoch 57/1000\n",
            "525/525 [==============================] - 1s 2ms/step - loss: 0.0401 - mae: 0.0900 - mse: 0.0401 - val_loss: 0.0458 - val_mae: 0.1053 - val_mse: 0.0458\n",
            "Epoch 58/1000\n",
            "525/525 [==============================] - 1s 2ms/step - loss: 0.0402 - mae: 0.0900 - mse: 0.0402 - val_loss: 0.0365 - val_mae: 0.0631 - val_mse: 0.0365\n",
            "Epoch 59/1000\n",
            "525/525 [==============================] - 1s 2ms/step - loss: 0.0394 - mae: 0.0886 - mse: 0.0394 - val_loss: 0.0358 - val_mae: 0.0767 - val_mse: 0.0358\n"
          ],
          "name": "stdout"
        }
      ]
    },
    {
      "cell_type": "code",
      "metadata": {
        "colab": {
          "base_uri": "https://localhost:8080/",
          "height": 35
        },
        "id": "9rWaRYXVhy11",
        "outputId": "11856162-d58b-4690-aa18-393e2527e832"
      },
      "source": [
        "# Comandos para fazer download da pasta de logs para o tensorboard\n",
        "\n",
        "\"\"\"\n",
        "!zip -r /content/file.zip /content/logggs\n",
        "from google.colab import files\n",
        "files.download(\"/content/file.zip\")\n",
        "\"\"\""
      ],
      "execution_count": 12,
      "outputs": [
        {
          "output_type": "execute_result",
          "data": {
            "application/vnd.google.colaboratory.intrinsic+json": {
              "type": "string"
            },
            "text/plain": [
              "'\\n!zip -r /content/file.zip /content/logggs\\nfrom google.colab import files\\nfiles.download(\"/content/file.zip\")\\n'"
            ]
          },
          "metadata": {},
          "execution_count": 12
        }
      ]
    },
    {
      "cell_type": "markdown",
      "metadata": {
        "id": "iPGZeI7ocE9g"
      },
      "source": [
        "Plot"
      ]
    },
    {
      "cell_type": "code",
      "metadata": {
        "colab": {
          "base_uri": "https://localhost:8080/",
          "height": 541
        },
        "id": "PSOxB8T9cmWy",
        "outputId": "aa33e62b-33a7-4631-ed47-a9e706dd05fb"
      },
      "source": [
        "import matplotlib.pyplot as plt\n",
        "\n",
        "def plot_history(history):\n",
        "  hist = pd.DataFrame(history.history)\n",
        "  hist['epoch'] = history.epoch\n",
        "\n",
        "  plt.figure()\n",
        "  plt.xlabel('Epoch')\n",
        "  plt.ylabel('Mean Abs Error')\n",
        "  plt.plot(hist['epoch'], hist['mae'], label='Train MAE')\n",
        "  plt.plot(hist['epoch'], hist['val_mae'], label='Test MAE')\n",
        "  plt.legend()\n",
        "  #plt.ylim([0,5])\n",
        "\n",
        "  plt.figure()\n",
        "  plt.xlabel('Epoch')\n",
        "  plt.ylabel('Mean Square Error')\n",
        "  plt.plot(hist['epoch'], hist['mse'], label='Train MSE')\n",
        "  plt.plot(hist['epoch'], hist['val_mse'], label='Test MSE')\n",
        "  plt.legend()\n",
        "  #plt.ylim([0,20])\n",
        "\n",
        "plot_history(history)\n",
        "\n"
      ],
      "execution_count": 13,
      "outputs": [
        {
          "output_type": "display_data",
          "data": {
            "image/png": "[encoded data removed]",
            "text/plain": [
              "<Figure size 432x288 with 1 Axes>"
            ]
          },
          "metadata": {
            "needs_background": "light"
          }
        },
        {
          "output_type": "display_data",
          "data": {
            "image/png": "[encoded data removed]",
            "text/plain": [
              "<Figure size 432x288 with 1 Axes>"
            ]
          },
          "metadata": {
            "needs_background": "light"
          }
        }
      ]
    }
  ]
}