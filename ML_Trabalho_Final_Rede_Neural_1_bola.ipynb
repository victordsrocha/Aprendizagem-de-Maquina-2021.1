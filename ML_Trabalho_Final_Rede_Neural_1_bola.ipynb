{
  "nbformat": 4,
  "nbformat_minor": 0,
  "metadata": {
    "colab": {
      "name": "ML - Trabalho Final - Rede Neural - 1 bola",
      "provenance": [],
      "mount_file_id": "1x0hzAoZsBYL3PsdQb3mjwdAf3qTZA3QU",
      "authorship_tag": "ABX9TyPCVWIljzL6dzxPc4Y15ygt",
      "include_colab_link": true
    },
    "kernelspec": {
      "name": "python3",
      "display_name": "Python 3"
    },
    "language_info": {
      "name": "python"
    }
  },
  "cells": [
    {
      "cell_type": "markdown",
      "metadata": {
        "id": "view-in-github",
        "colab_type": "text"
      },
      "source": [
        "<a href=\"https://colab.research.google.com/github/victordsrocha/Aprendizagem-de-Maquina-2021.1/blob/main/ML_Trabalho_Final_Rede_Neural_1_bola.ipynb\" target=\"_parent\"><img src=\"https://colab.research.google.com/assets/colab-badge.svg\" alt=\"Open In Colab\"/></a>"
      ]
    },
    {
      "cell_type": "code",
      "metadata": {
        "id": "4KhiPzuGDgJC"
      },
      "source": [
        "# !pip install seaborn"
      ],
      "execution_count": null,
      "outputs": []
    },
    {
      "cell_type": "code",
      "metadata": {
        "id": "NiJSMvsHNeJ5"
      },
      "source": [
        "# import seaborn as sns\n",
        "import pandas as pd\n",
        "import tensorflow as tf\n",
        "import numpy as np\n",
        "from tensorflow import keras\n",
        "from tensorflow.keras import layers\n",
        "from sklearn.model_selection import train_test_split"
      ],
      "execution_count": null,
      "outputs": []
    },
    {
      "cell_type": "markdown",
      "metadata": {
        "id": "Us-prCUJHS0l"
      },
      "source": [
        "Get the data"
      ]
    },
    {
      "cell_type": "code",
      "metadata": {
        "colab": {
          "base_uri": "https://localhost:8080/",
          "height": 204
        },
        "id": "cZTpi-VhHUum",
        "outputId": "9ce64341-6bdc-46d9-ce6f-229800bc79cb"
      },
      "source": [
        "dataset_path = 'https://github.com/victordsrocha/Aprendizagem-de-Maquina-2021.1/raw/main/dataset-1bola.csv'\n",
        "\n",
        "# mantive todas as colunas para caso sejam úteis no futuro\n",
        "column_names = ['bola_branca_x','bola_branca_y','bola_1_x','bola_1_y','tacada_x',\n",
        "                'tacada_y','forca','out_bola_branca_x','out_bola_branca_y','out_bola_1_x',\n",
        "                'out_bola_1_y','dist_custo1','dist_custo2','dist_custo3','dist_custo4',\n",
        "                'colisao_x','colisao_y']\n",
        "\n",
        "raw_dataset = pd.read_csv(dataset_path, names=column_names, sep=',')\n",
        "\n",
        "# drop das colunas que não vamos utilizar\n",
        "raw_dataset=raw_dataset.drop(columns=['forca','out_bola_branca_x','out_bola_branca_y','out_bola_1_x',\n",
        "                'out_bola_1_y','dist_custo1','dist_custo2','dist_custo3','dist_custo4',\n",
        "                'colisao_x','colisao_y'])\n",
        "\n",
        "dataset = raw_dataset.copy()\n",
        "dataset.tail()"
      ],
      "execution_count": null,
      "outputs": [
        {
          "output_type": "execute_result",
          "data": {
            "text/html": [
              "<div>\n",
              "<style scoped>\n",
              "    .dataframe tbody tr th:only-of-type {\n",
              "        vertical-align: middle;\n",
              "    }\n",
              "\n",
              "    .dataframe tbody tr th {\n",
              "        vertical-align: top;\n",
              "    }\n",
              "\n",
              "    .dataframe thead th {\n",
              "        text-align: right;\n",
              "    }\n",
              "</style>\n",
              "<table border=\"1\" class=\"dataframe\">\n",
              "  <thead>\n",
              "    <tr style=\"text-align: right;\">\n",
              "      <th></th>\n",
              "      <th>bola_branca_x</th>\n",
              "      <th>bola_branca_y</th>\n",
              "      <th>bola_1_x</th>\n",
              "      <th>bola_1_y</th>\n",
              "      <th>tacada_x</th>\n",
              "      <th>tacada_y</th>\n",
              "    </tr>\n",
              "  </thead>\n",
              "  <tbody>\n",
              "    <tr>\n",
              "      <th>83911</th>\n",
              "      <td>0.211559</td>\n",
              "      <td>0.273849</td>\n",
              "      <td>0.069541</td>\n",
              "      <td>0.068641</td>\n",
              "      <td>-0.559838</td>\n",
              "      <td>-0.828602</td>\n",
              "    </tr>\n",
              "    <tr>\n",
              "      <th>83912</th>\n",
              "      <td>0.779373</td>\n",
              "      <td>0.386655</td>\n",
              "      <td>0.772425</td>\n",
              "      <td>0.212990</td>\n",
              "      <td>-0.070697</td>\n",
              "      <td>-0.997498</td>\n",
              "    </tr>\n",
              "    <tr>\n",
              "      <th>83913</th>\n",
              "      <td>0.797904</td>\n",
              "      <td>0.376335</td>\n",
              "      <td>0.753802</td>\n",
              "      <td>0.029519</td>\n",
              "      <td>-0.150995</td>\n",
              "      <td>-0.988534</td>\n",
              "    </tr>\n",
              "    <tr>\n",
              "      <th>83914</th>\n",
              "      <td>0.799908</td>\n",
              "      <td>0.253087</td>\n",
              "      <td>0.602778</td>\n",
              "      <td>0.141271</td>\n",
              "      <td>-0.857461</td>\n",
              "      <td>-0.514549</td>\n",
              "    </tr>\n",
              "    <tr>\n",
              "      <th>83915</th>\n",
              "      <td>0.446634</td>\n",
              "      <td>0.062459</td>\n",
              "      <td>0.940956</td>\n",
              "      <td>0.638424</td>\n",
              "      <td>0.656110</td>\n",
              "      <td>0.754666</td>\n",
              "    </tr>\n",
              "  </tbody>\n",
              "</table>\n",
              "</div>"
            ],
            "text/plain": [
              "       bola_branca_x  bola_branca_y  bola_1_x  bola_1_y  tacada_x  tacada_y\n",
              "83911       0.211559       0.273849  0.069541  0.068641 -0.559838 -0.828602\n",
              "83912       0.779373       0.386655  0.772425  0.212990 -0.070697 -0.997498\n",
              "83913       0.797904       0.376335  0.753802  0.029519 -0.150995 -0.988534\n",
              "83914       0.799908       0.253087  0.602778  0.141271 -0.857461 -0.514549\n",
              "83915       0.446634       0.062459  0.940956  0.638424  0.656110  0.754666"
            ]
          },
          "metadata": {},
          "execution_count": 3
        }
      ]
    },
    {
      "cell_type": "markdown",
      "metadata": {
        "id": "S14uQUUFMPau"
      },
      "source": [
        "Split the data into train and test"
      ]
    },
    {
      "cell_type": "code",
      "metadata": {
        "id": "dgYT_qLiMSlG"
      },
      "source": [
        "X = dataset.drop(columns=['tacada_x','tacada_y'])\n",
        "y = pd.DataFrame({\"arc_tangent\":np.arctan(dataset['tacada_x'] / dataset['tacada_y']).T})\n",
        "\n",
        "X_train, X_test, y_train, y_test = train_test_split(X, y, test_size=0.2, random_state=42)"
      ],
      "execution_count": null,
      "outputs": []
    },
    {
      "cell_type": "markdown",
      "metadata": {
        "id": "_8SRA_99Onjc"
      },
      "source": [
        "Inspect the data"
      ]
    },
    {
      "cell_type": "code",
      "metadata": {
        "colab": {
          "base_uri": "https://localhost:8080/",
          "height": 173
        },
        "id": "KjLVmLoHOpPW",
        "outputId": "f6165e36-8bb9-487d-c76a-0b9678e427a4"
      },
      "source": [
        "# apresenta a descrição dos dados de treino - entrada\n",
        "X_train.describe().transpose()"
      ],
      "execution_count": null,
      "outputs": [
        {
          "output_type": "execute_result",
          "data": {
            "text/html": [
              "<div>\n",
              "<style scoped>\n",
              "    .dataframe tbody tr th:only-of-type {\n",
              "        vertical-align: middle;\n",
              "    }\n",
              "\n",
              "    .dataframe tbody tr th {\n",
              "        vertical-align: top;\n",
              "    }\n",
              "\n",
              "    .dataframe thead th {\n",
              "        text-align: right;\n",
              "    }\n",
              "</style>\n",
              "<table border=\"1\" class=\"dataframe\">\n",
              "  <thead>\n",
              "    <tr style=\"text-align: right;\">\n",
              "      <th></th>\n",
              "      <th>count</th>\n",
              "      <th>mean</th>\n",
              "      <th>std</th>\n",
              "      <th>min</th>\n",
              "      <th>25%</th>\n",
              "      <th>50%</th>\n",
              "      <th>75%</th>\n",
              "      <th>max</th>\n",
              "    </tr>\n",
              "  </thead>\n",
              "  <tbody>\n",
              "    <tr>\n",
              "      <th>bola_branca_x</th>\n",
              "      <td>67132.0</td>\n",
              "      <td>0.512318</td>\n",
              "      <td>0.255489</td>\n",
              "      <td>0.010084</td>\n",
              "      <td>0.305967</td>\n",
              "      <td>0.500139</td>\n",
              "      <td>0.726007</td>\n",
              "      <td>0.990000</td>\n",
              "    </tr>\n",
              "    <tr>\n",
              "      <th>bola_branca_y</th>\n",
              "      <td>67132.0</td>\n",
              "      <td>0.374178</td>\n",
              "      <td>0.194228</td>\n",
              "      <td>0.010083</td>\n",
              "      <td>0.216302</td>\n",
              "      <td>0.375000</td>\n",
              "      <td>0.531559</td>\n",
              "      <td>0.740000</td>\n",
              "    </tr>\n",
              "    <tr>\n",
              "      <th>bola_1_x</th>\n",
              "      <td>67132.0</td>\n",
              "      <td>0.517022</td>\n",
              "      <td>0.327201</td>\n",
              "      <td>0.009782</td>\n",
              "      <td>0.191748</td>\n",
              "      <td>0.540294</td>\n",
              "      <td>0.820357</td>\n",
              "      <td>0.991592</td>\n",
              "    </tr>\n",
              "    <tr>\n",
              "      <th>bola_1_y</th>\n",
              "      <td>67132.0</td>\n",
              "      <td>0.374911</td>\n",
              "      <td>0.231907</td>\n",
              "      <td>0.008124</td>\n",
              "      <td>0.153846</td>\n",
              "      <td>0.375000</td>\n",
              "      <td>0.596124</td>\n",
              "      <td>0.742211</td>\n",
              "    </tr>\n",
              "  </tbody>\n",
              "</table>\n",
              "</div>"
            ],
            "text/plain": [
              "                 count      mean       std  ...       50%       75%       max\n",
              "bola_branca_x  67132.0  0.512318  0.255489  ...  0.500139  0.726007  0.990000\n",
              "bola_branca_y  67132.0  0.374178  0.194228  ...  0.375000  0.531559  0.740000\n",
              "bola_1_x       67132.0  0.517022  0.327201  ...  0.540294  0.820357  0.991592\n",
              "bola_1_y       67132.0  0.374911  0.231907  ...  0.375000  0.596124  0.742211\n",
              "\n",
              "[4 rows x 8 columns]"
            ]
          },
          "metadata": {},
          "execution_count": 5
        }
      ]
    },
    {
      "cell_type": "code",
      "metadata": {
        "colab": {
          "base_uri": "https://localhost:8080/",
          "height": 80
        },
        "id": "06a2VPi0Xdf-",
        "outputId": "15c065e6-b342-4c9f-86d7-85f5a76553d7"
      },
      "source": [
        "# apresenta a descrição dos dados de treino - saída\n",
        "y_train.describe().transpose()"
      ],
      "execution_count": null,
      "outputs": [
        {
          "output_type": "execute_result",
          "data": {
            "text/html": [
              "<div>\n",
              "<style scoped>\n",
              "    .dataframe tbody tr th:only-of-type {\n",
              "        vertical-align: middle;\n",
              "    }\n",
              "\n",
              "    .dataframe tbody tr th {\n",
              "        vertical-align: top;\n",
              "    }\n",
              "\n",
              "    .dataframe thead th {\n",
              "        text-align: right;\n",
              "    }\n",
              "</style>\n",
              "<table border=\"1\" class=\"dataframe\">\n",
              "  <thead>\n",
              "    <tr style=\"text-align: right;\">\n",
              "      <th></th>\n",
              "      <th>count</th>\n",
              "      <th>mean</th>\n",
              "      <th>std</th>\n",
              "      <th>min</th>\n",
              "      <th>25%</th>\n",
              "      <th>50%</th>\n",
              "      <th>75%</th>\n",
              "      <th>max</th>\n",
              "    </tr>\n",
              "  </thead>\n",
              "  <tbody>\n",
              "    <tr>\n",
              "      <th>arc_tangent</th>\n",
              "      <td>67132.0</td>\n",
              "      <td>-0.001666</td>\n",
              "      <td>0.885256</td>\n",
              "      <td>-1.57078</td>\n",
              "      <td>-0.813542</td>\n",
              "      <td>-0.007471</td>\n",
              "      <td>0.807088</td>\n",
              "      <td>1.570762</td>\n",
              "    </tr>\n",
              "  </tbody>\n",
              "</table>\n",
              "</div>"
            ],
            "text/plain": [
              "               count      mean       std  ...       50%       75%       max\n",
              "arc_tangent  67132.0 -0.001666  0.885256  ... -0.007471  0.807088  1.570762\n",
              "\n",
              "[1 rows x 8 columns]"
            ]
          },
          "metadata": {},
          "execution_count": 6
        }
      ]
    },
    {
      "cell_type": "markdown",
      "metadata": {
        "id": "lZAKOWYDQlAY"
      },
      "source": [
        "Normalize the data"
      ]
    },
    {
      "cell_type": "code",
      "metadata": {
        "id": "mDlRLUq8Qm5I"
      },
      "source": [
        "# não testei se a normalização realmente ajuda\n",
        "\n",
        "# normalização z-score de todos os dados\n",
        "\n",
        "import numpy as np\n",
        "\n",
        "def normalize_zscore(data):\n",
        "    data_scaled = data\n",
        "    data_mean = data_scaled.mean(axis=0)\n",
        "    data_std = data_scaled.std(axis=0)\n",
        "    data_scaled = (data_scaled - data_mean) / data_std\n",
        "    return data_scaled\n",
        "\n",
        "# X_train = normalize_zscore(X_train)\n",
        "# X_test = normalize_zscore(X_test)\n",
        "# y_train = normalize_zscore(y_train)\n",
        "# y_test = normalize_zscore(y_test)"
      ],
      "execution_count": null,
      "outputs": []
    },
    {
      "cell_type": "code",
      "metadata": {
        "colab": {
          "base_uri": "https://localhost:8080/",
          "height": 173
        },
        "id": "AO3YHXQDa1Xb",
        "outputId": "d11710fb-355e-4844-efe0-0842695af81e"
      },
      "source": [
        "# apresenta a descrição dos dados de treino normalizados - entrada\n",
        "X_train.describe().transpose()"
      ],
      "execution_count": null,
      "outputs": [
        {
          "output_type": "execute_result",
          "data": {
            "text/html": [
              "<div>\n",
              "<style scoped>\n",
              "    .dataframe tbody tr th:only-of-type {\n",
              "        vertical-align: middle;\n",
              "    }\n",
              "\n",
              "    .dataframe tbody tr th {\n",
              "        vertical-align: top;\n",
              "    }\n",
              "\n",
              "    .dataframe thead th {\n",
              "        text-align: right;\n",
              "    }\n",
              "</style>\n",
              "<table border=\"1\" class=\"dataframe\">\n",
              "  <thead>\n",
              "    <tr style=\"text-align: right;\">\n",
              "      <th></th>\n",
              "      <th>count</th>\n",
              "      <th>mean</th>\n",
              "      <th>std</th>\n",
              "      <th>min</th>\n",
              "      <th>25%</th>\n",
              "      <th>50%</th>\n",
              "      <th>75%</th>\n",
              "      <th>max</th>\n",
              "    </tr>\n",
              "  </thead>\n",
              "  <tbody>\n",
              "    <tr>\n",
              "      <th>bola_branca_x</th>\n",
              "      <td>67132.0</td>\n",
              "      <td>0.512318</td>\n",
              "      <td>0.255489</td>\n",
              "      <td>0.010084</td>\n",
              "      <td>0.305967</td>\n",
              "      <td>0.500139</td>\n",
              "      <td>0.726007</td>\n",
              "      <td>0.990000</td>\n",
              "    </tr>\n",
              "    <tr>\n",
              "      <th>bola_branca_y</th>\n",
              "      <td>67132.0</td>\n",
              "      <td>0.374178</td>\n",
              "      <td>0.194228</td>\n",
              "      <td>0.010083</td>\n",
              "      <td>0.216302</td>\n",
              "      <td>0.375000</td>\n",
              "      <td>0.531559</td>\n",
              "      <td>0.740000</td>\n",
              "    </tr>\n",
              "    <tr>\n",
              "      <th>bola_1_x</th>\n",
              "      <td>67132.0</td>\n",
              "      <td>0.517022</td>\n",
              "      <td>0.327201</td>\n",
              "      <td>0.009782</td>\n",
              "      <td>0.191748</td>\n",
              "      <td>0.540294</td>\n",
              "      <td>0.820357</td>\n",
              "      <td>0.991592</td>\n",
              "    </tr>\n",
              "    <tr>\n",
              "      <th>bola_1_y</th>\n",
              "      <td>67132.0</td>\n",
              "      <td>0.374911</td>\n",
              "      <td>0.231907</td>\n",
              "      <td>0.008124</td>\n",
              "      <td>0.153846</td>\n",
              "      <td>0.375000</td>\n",
              "      <td>0.596124</td>\n",
              "      <td>0.742211</td>\n",
              "    </tr>\n",
              "  </tbody>\n",
              "</table>\n",
              "</div>"
            ],
            "text/plain": [
              "                 count      mean       std  ...       50%       75%       max\n",
              "bola_branca_x  67132.0  0.512318  0.255489  ...  0.500139  0.726007  0.990000\n",
              "bola_branca_y  67132.0  0.374178  0.194228  ...  0.375000  0.531559  0.740000\n",
              "bola_1_x       67132.0  0.517022  0.327201  ...  0.540294  0.820357  0.991592\n",
              "bola_1_y       67132.0  0.374911  0.231907  ...  0.375000  0.596124  0.742211\n",
              "\n",
              "[4 rows x 8 columns]"
            ]
          },
          "metadata": {},
          "execution_count": 8
        }
      ]
    },
    {
      "cell_type": "code",
      "metadata": {
        "colab": {
          "base_uri": "https://localhost:8080/",
          "height": 80
        },
        "id": "vbxptbgua1g6",
        "outputId": "7da8f16b-3f5b-4d50-e57c-4eba53127ccd"
      },
      "source": [
        "# apresenta a descrição dos dados de treino normalizados - saída\n",
        "y_train.describe().transpose()"
      ],
      "execution_count": null,
      "outputs": [
        {
          "output_type": "execute_result",
          "data": {
            "text/html": [
              "<div>\n",
              "<style scoped>\n",
              "    .dataframe tbody tr th:only-of-type {\n",
              "        vertical-align: middle;\n",
              "    }\n",
              "\n",
              "    .dataframe tbody tr th {\n",
              "        vertical-align: top;\n",
              "    }\n",
              "\n",
              "    .dataframe thead th {\n",
              "        text-align: right;\n",
              "    }\n",
              "</style>\n",
              "<table border=\"1\" class=\"dataframe\">\n",
              "  <thead>\n",
              "    <tr style=\"text-align: right;\">\n",
              "      <th></th>\n",
              "      <th>count</th>\n",
              "      <th>mean</th>\n",
              "      <th>std</th>\n",
              "      <th>min</th>\n",
              "      <th>25%</th>\n",
              "      <th>50%</th>\n",
              "      <th>75%</th>\n",
              "      <th>max</th>\n",
              "    </tr>\n",
              "  </thead>\n",
              "  <tbody>\n",
              "    <tr>\n",
              "      <th>arc_tangent</th>\n",
              "      <td>67132.0</td>\n",
              "      <td>-0.001666</td>\n",
              "      <td>0.885256</td>\n",
              "      <td>-1.57078</td>\n",
              "      <td>-0.813542</td>\n",
              "      <td>-0.007471</td>\n",
              "      <td>0.807088</td>\n",
              "      <td>1.570762</td>\n",
              "    </tr>\n",
              "  </tbody>\n",
              "</table>\n",
              "</div>"
            ],
            "text/plain": [
              "               count      mean       std  ...       50%       75%       max\n",
              "arc_tangent  67132.0 -0.001666  0.885256  ... -0.007471  0.807088  1.570762\n",
              "\n",
              "[1 rows x 8 columns]"
            ]
          },
          "metadata": {},
          "execution_count": 9
        }
      ]
    },
    {
      "cell_type": "markdown",
      "metadata": {
        "id": "yNUBvNesTa7H"
      },
      "source": [
        "Build the model"
      ]
    },
    {
      "cell_type": "code",
      "metadata": {
        "colab": {
          "base_uri": "https://localhost:8080/"
        },
        "id": "PWyEVDp5Tcpl",
        "outputId": "6c2f7471-aab5-46d4-8ec8-f23e53c004a7"
      },
      "source": [
        "# dimensões de entrada e saída\n",
        "in_dim = X_train.shape[1]\n",
        "out_dim = y_train.shape[1]\n",
        "\n",
        "# modelo\n",
        "model = keras.models.Sequential()\n",
        "model.add(layers.Dense(64, input_dim=in_dim, activation=\"relu\"))\n",
        "model.add(layers.Dense(64, activation=\"relu\"))\n",
        "model.add(layers.Dense(out_dim))\n",
        "\n",
        "optimizer = keras.optimizers.RMSprop(learning_rate=0.001)\n",
        "\n",
        "model.compile(loss=\"mse\", optimizer=optimizer, metrics=['mae','mse'])\n",
        "\n",
        "# log tensorboard\n",
        "tensorboard_callback = tf.keras.callbacks.TensorBoard(log_dir=\"./logggs\")\n",
        "\n",
        "# early stop\n",
        "early_stop = keras.callbacks.EarlyStopping(monitor='val_loss', patience=10)\n",
        "\n",
        "# sumário do modelo\n",
        "model.summary()"
      ],
      "execution_count": null,
      "outputs": [
        {
          "output_type": "stream",
          "text": [
            "Model: \"sequential\"\n",
            "_________________________________________________________________\n",
            "Layer (type)                 Output Shape              Param #   \n",
            "=================================================================\n",
            "dense (Dense)                (None, 64)                320       \n",
            "_________________________________________________________________\n",
            "dense_1 (Dense)              (None, 64)                4160      \n",
            "_________________________________________________________________\n",
            "dense_2 (Dense)              (None, 1)                 65        \n",
            "=================================================================\n",
            "Total params: 4,545\n",
            "Trainable params: 4,545\n",
            "Non-trainable params: 0\n",
            "_________________________________________________________________\n"
          ],
          "name": "stdout"
        }
      ]
    },
    {
      "cell_type": "markdown",
      "metadata": {
        "id": "M9n3m792bx2W"
      },
      "source": [
        "Train the model"
      ]
    },
    {
      "cell_type": "code",
      "metadata": {
        "colab": {
          "base_uri": "https://localhost:8080/"
        },
        "id": "Fe7ZGOPobRNr",
        "outputId": "8ac07f4c-6310-4631-9706-a3e1f737531f"
      },
      "source": [
        "history = model.fit(X_train, y_train, epochs=1000, validation_data=(X_test, y_test), batch_size=128, verbose=1, callbacks=[early_stop, tensorboard_callback])"
      ],
      "execution_count": null,
      "outputs": [
        {
          "output_type": "stream",
          "text": [
            "Epoch 1/1000\n",
            "525/525 [==============================] - 2s 3ms/step - loss: 0.3360 - mae: 0.4119 - mse: 0.3360 - val_loss: 0.2141 - val_mae: 0.3008 - val_mse: 0.2141\n",
            "Epoch 2/1000\n",
            "525/525 [==============================] - 1s 3ms/step - loss: 0.1594 - mae: 0.2328 - mse: 0.1594 - val_loss: 0.1408 - val_mae: 0.2155 - val_mse: 0.1408\n",
            "Epoch 3/1000\n",
            "525/525 [==============================] - 1s 2ms/step - loss: 0.1129 - mae: 0.1770 - mse: 0.1129 - val_loss: 0.1000 - val_mae: 0.1563 - val_mse: 0.1000\n",
            "Epoch 4/1000\n",
            "525/525 [==============================] - 1s 3ms/step - loss: 0.0917 - mae: 0.1501 - mse: 0.0917 - val_loss: 0.0852 - val_mae: 0.1261 - val_mse: 0.0852\n",
            "Epoch 5/1000\n",
            "525/525 [==============================] - 2s 3ms/step - loss: 0.0798 - mae: 0.1346 - mse: 0.0798 - val_loss: 0.0727 - val_mae: 0.1071 - val_mse: 0.0727\n",
            "Epoch 6/1000\n",
            "525/525 [==============================] - 1s 3ms/step - loss: 0.0726 - mae: 0.1254 - mse: 0.0726 - val_loss: 0.0751 - val_mae: 0.1346 - val_mse: 0.0751\n",
            "Epoch 7/1000\n",
            "525/525 [==============================] - 1s 3ms/step - loss: 0.0669 - mae: 0.1189 - mse: 0.0669 - val_loss: 0.1062 - val_mae: 0.1894 - val_mse: 0.1062\n",
            "Epoch 8/1000\n",
            "525/525 [==============================] - 1s 3ms/step - loss: 0.0626 - mae: 0.1130 - mse: 0.0626 - val_loss: 0.0804 - val_mae: 0.1305 - val_mse: 0.0804\n",
            "Epoch 9/1000\n",
            "525/525 [==============================] - 1s 2ms/step - loss: 0.0593 - mae: 0.1090 - mse: 0.0593 - val_loss: 0.0612 - val_mae: 0.1036 - val_mse: 0.0612\n",
            "Epoch 10/1000\n",
            "525/525 [==============================] - 1s 2ms/step - loss: 0.0569 - mae: 0.1049 - mse: 0.0569 - val_loss: 0.0528 - val_mae: 0.0865 - val_mse: 0.0528\n",
            "Epoch 11/1000\n",
            "525/525 [==============================] - 1s 2ms/step - loss: 0.0546 - mae: 0.1017 - mse: 0.0546 - val_loss: 0.0502 - val_mae: 0.1042 - val_mse: 0.0502\n",
            "Epoch 12/1000\n",
            "525/525 [==============================] - 1s 2ms/step - loss: 0.0525 - mae: 0.0991 - mse: 0.0525 - val_loss: 0.0581 - val_mae: 0.0870 - val_mse: 0.0581\n",
            "Epoch 13/1000\n",
            "525/525 [==============================] - 1s 2ms/step - loss: 0.0514 - mae: 0.0967 - mse: 0.0514 - val_loss: 0.0483 - val_mae: 0.0924 - val_mse: 0.0483\n",
            "Epoch 14/1000\n",
            "525/525 [==============================] - 1s 2ms/step - loss: 0.0498 - mae: 0.0941 - mse: 0.0498 - val_loss: 0.0492 - val_mae: 0.0922 - val_mse: 0.0492\n",
            "Epoch 15/1000\n",
            "525/525 [==============================] - 1s 2ms/step - loss: 0.0489 - mae: 0.0927 - mse: 0.0489 - val_loss: 0.0488 - val_mae: 0.0808 - val_mse: 0.0488\n",
            "Epoch 16/1000\n",
            "525/525 [==============================] - 1s 2ms/step - loss: 0.0489 - mae: 0.0914 - mse: 0.0489 - val_loss: 0.0489 - val_mae: 0.0770 - val_mse: 0.0489\n",
            "Epoch 17/1000\n",
            "525/525 [==============================] - 1s 2ms/step - loss: 0.0468 - mae: 0.0888 - mse: 0.0468 - val_loss: 0.0463 - val_mae: 0.0995 - val_mse: 0.0463\n",
            "Epoch 18/1000\n",
            "525/525 [==============================] - 1s 2ms/step - loss: 0.0463 - mae: 0.0878 - mse: 0.0463 - val_loss: 0.0622 - val_mae: 0.1251 - val_mse: 0.0622\n",
            "Epoch 19/1000\n",
            "525/525 [==============================] - 1s 2ms/step - loss: 0.0456 - mae: 0.0873 - mse: 0.0456 - val_loss: 0.0550 - val_mae: 0.0834 - val_mse: 0.0550\n",
            "Epoch 20/1000\n",
            "525/525 [==============================] - 1s 3ms/step - loss: 0.0446 - mae: 0.0862 - mse: 0.0446 - val_loss: 0.0471 - val_mae: 0.0898 - val_mse: 0.0471\n",
            "Epoch 21/1000\n",
            "525/525 [==============================] - 1s 2ms/step - loss: 0.0442 - mae: 0.0852 - mse: 0.0442 - val_loss: 0.0426 - val_mae: 0.0797 - val_mse: 0.0426\n",
            "Epoch 22/1000\n",
            "525/525 [==============================] - 1s 2ms/step - loss: 0.0442 - mae: 0.0841 - mse: 0.0442 - val_loss: 0.0482 - val_mae: 0.1117 - val_mse: 0.0482\n",
            "Epoch 23/1000\n",
            "525/525 [==============================] - 1s 2ms/step - loss: 0.0431 - mae: 0.0834 - mse: 0.0431 - val_loss: 0.0415 - val_mae: 0.0739 - val_mse: 0.0415\n",
            "Epoch 24/1000\n",
            "525/525 [==============================] - 1s 2ms/step - loss: 0.0434 - mae: 0.0822 - mse: 0.0434 - val_loss: 0.0518 - val_mae: 0.0978 - val_mse: 0.0518\n",
            "Epoch 25/1000\n",
            "525/525 [==============================] - 1s 2ms/step - loss: 0.0431 - mae: 0.0827 - mse: 0.0431 - val_loss: 0.0374 - val_mae: 0.0635 - val_mse: 0.0374\n",
            "Epoch 26/1000\n",
            "525/525 [==============================] - 1s 2ms/step - loss: 0.0425 - mae: 0.0806 - mse: 0.0425 - val_loss: 0.0371 - val_mae: 0.0626 - val_mse: 0.0371\n",
            "Epoch 27/1000\n",
            "525/525 [==============================] - 1s 2ms/step - loss: 0.0420 - mae: 0.0811 - mse: 0.0420 - val_loss: 0.0447 - val_mae: 0.0754 - val_mse: 0.0447\n",
            "Epoch 28/1000\n",
            "525/525 [==============================] - 1s 2ms/step - loss: 0.0419 - mae: 0.0799 - mse: 0.0419 - val_loss: 0.0490 - val_mae: 0.1001 - val_mse: 0.0490\n",
            "Epoch 29/1000\n",
            "525/525 [==============================] - 1s 2ms/step - loss: 0.0420 - mae: 0.0790 - mse: 0.0420 - val_loss: 0.0584 - val_mae: 0.0901 - val_mse: 0.0584\n",
            "Epoch 30/1000\n",
            "525/525 [==============================] - 1s 3ms/step - loss: 0.0407 - mae: 0.0790 - mse: 0.0407 - val_loss: 0.0456 - val_mae: 0.0611 - val_mse: 0.0456\n",
            "Epoch 31/1000\n",
            "525/525 [==============================] - 1s 2ms/step - loss: 0.0407 - mae: 0.0785 - mse: 0.0407 - val_loss: 0.0350 - val_mae: 0.0624 - val_mse: 0.0350\n",
            "Epoch 32/1000\n",
            "525/525 [==============================] - 1s 2ms/step - loss: 0.0416 - mae: 0.0776 - mse: 0.0416 - val_loss: 0.0409 - val_mae: 0.0714 - val_mse: 0.0409\n",
            "Epoch 33/1000\n",
            "525/525 [==============================] - 1s 2ms/step - loss: 0.0404 - mae: 0.0766 - mse: 0.0404 - val_loss: 0.0393 - val_mae: 0.0644 - val_mse: 0.0393\n",
            "Epoch 34/1000\n",
            "525/525 [==============================] - 1s 2ms/step - loss: 0.0400 - mae: 0.0775 - mse: 0.0400 - val_loss: 0.0377 - val_mae: 0.0690 - val_mse: 0.0377\n",
            "Epoch 35/1000\n",
            "525/525 [==============================] - 1s 2ms/step - loss: 0.0396 - mae: 0.0763 - mse: 0.0396 - val_loss: 0.0405 - val_mae: 0.0773 - val_mse: 0.0405\n",
            "Epoch 36/1000\n",
            "525/525 [==============================] - 1s 2ms/step - loss: 0.0394 - mae: 0.0762 - mse: 0.0394 - val_loss: 0.0657 - val_mae: 0.1216 - val_mse: 0.0657\n",
            "Epoch 37/1000\n",
            "525/525 [==============================] - 1s 2ms/step - loss: 0.0391 - mae: 0.0756 - mse: 0.0391 - val_loss: 0.0422 - val_mae: 0.0951 - val_mse: 0.0422\n",
            "Epoch 38/1000\n",
            "525/525 [==============================] - 1s 2ms/step - loss: 0.0401 - mae: 0.0756 - mse: 0.0401 - val_loss: 0.0441 - val_mae: 0.0692 - val_mse: 0.0441\n",
            "Epoch 39/1000\n",
            "525/525 [==============================] - 1s 2ms/step - loss: 0.0390 - mae: 0.0753 - mse: 0.0390 - val_loss: 0.0432 - val_mae: 0.0719 - val_mse: 0.0432\n",
            "Epoch 40/1000\n",
            "525/525 [==============================] - 1s 2ms/step - loss: 0.0397 - mae: 0.0749 - mse: 0.0397 - val_loss: 0.0416 - val_mae: 0.1057 - val_mse: 0.0416\n",
            "Epoch 41/1000\n",
            "525/525 [==============================] - 1s 3ms/step - loss: 0.0390 - mae: 0.0741 - mse: 0.0390 - val_loss: 0.0381 - val_mae: 0.0871 - val_mse: 0.0381\n"
          ],
          "name": "stdout"
        }
      ]
    },
    {
      "cell_type": "code",
      "metadata": {
        "colab": {
          "base_uri": "https://localhost:8080/",
          "height": 35
        },
        "id": "9rWaRYXVhy11",
        "outputId": "3baace26-4cee-423a-b84c-fb7629377adf"
      },
      "source": [
        "# Comandos para fazer download da pasta de logs para o tensorboard\n",
        "\n",
        "\"\"\"\n",
        "!zip -r /content/file.zip /content/logggs\n",
        "from google.colab import files\n",
        "files.download(\"/content/file.zip\")\n",
        "\"\"\""
      ],
      "execution_count": null,
      "outputs": [
        {
          "output_type": "execute_result",
          "data": {
            "application/vnd.google.colaboratory.intrinsic+json": {
              "type": "string"
            },
            "text/plain": [
              "'\\n!zip -r /content/file.zip /content/logggs\\nfrom google.colab import files\\nfiles.download(\"/content/file.zip\")\\n'"
            ]
          },
          "metadata": {},
          "execution_count": 12
        }
      ]
    },
    {
      "cell_type": "markdown",
      "metadata": {
        "id": "iPGZeI7ocE9g"
      },
      "source": [
        "Plot"
      ]
    },
    {
      "cell_type": "code",
      "metadata": {
        "colab": {
          "base_uri": "https://localhost:8080/",
          "height": 545
        },
        "id": "PSOxB8T9cmWy",
        "outputId": "2191f59b-9ad8-4a6d-f7f9-7d28e285076a"
      },
      "source": [
        "import matplotlib.pyplot as plt\n",
        "\n",
        "def plot_history(history):\n",
        "  hist = pd.DataFrame(history.history)\n",
        "  hist['epoch'] = history.epoch\n",
        "\n",
        "  plt.figure()\n",
        "  plt.xlabel('Epoch')\n",
        "  plt.ylabel('Mean Abs Error')\n",
        "  plt.plot(hist['epoch'], hist['mae'], label='Train MAE')\n",
        "  plt.plot(hist['epoch'], hist['val_mae'], label='Test MAE')\n",
        "  plt.legend()\n",
        "  #plt.ylim([0,5])\n",
        "\n",
        "  plt.figure()\n",
        "  plt.xlabel('Epoch')\n",
        "  plt.ylabel('Mean Square Error')\n",
        "  plt.plot(hist['epoch'], hist['mse'], label='Train MSE')\n",
        "  plt.plot(hist['epoch'], hist['val_mse'], label='Test MSE')\n",
        "  plt.legend()\n",
        "  #plt.ylim([0,20])\n",
        "\n",
        "plot_history(history)\n",
        "\n"
      ],
      "execution_count": null,
      "outputs": [
        {
          "output_type": "display_data",
          "data": {
            "image/png": "[encoded data removed]",
            "text/plain": [
              "<Figure size 432x288 with 1 Axes>"
            ]
          },
          "metadata": {
            "needs_background": "light"
          }
        },
        {
          "output_type": "display_data",
          "data": {
            "image/png": "[encoded data removed]",
            "text/plain": [
              "<Figure size 432x288 with 1 Axes>"
            ]
          },
          "metadata": {
            "needs_background": "light"
          }
        }
      ]
    }
  ]
}