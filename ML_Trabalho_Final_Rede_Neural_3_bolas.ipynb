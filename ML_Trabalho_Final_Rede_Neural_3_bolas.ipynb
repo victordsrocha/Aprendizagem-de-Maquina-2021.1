{
  "nbformat": 4,
  "nbformat_minor": 0,
  "metadata": {
    "colab": {
      "name": "ML - Trabalho Final - Rede Neural - 3 bolas",
      "provenance": [],
      "mount_file_id": "1x0hzAoZsBYL3PsdQb3mjwdAf3qTZA3QU",
      "authorship_tag": "ABX9TyPpaA5NokUIEIO4v9aa4KsZ",
      "include_colab_link": true
    },
    "kernelspec": {
      "name": "python3",
      "display_name": "Python 3"
    },
    "language_info": {
      "name": "python"
    }
  },
  "cells": [
    {
      "cell_type": "markdown",
      "metadata": {
        "id": "view-in-github",
        "colab_type": "text"
      },
      "source": [
        "<a href=\"https://colab.research.google.com/github/victordsrocha/Aprendizagem-de-Maquina-2021.1/blob/main/ML_Trabalho_Final_Rede_Neural_3_bolas.ipynb\" target=\"_parent\"><img src=\"https://colab.research.google.com/assets/colab-badge.svg\" alt=\"Open In Colab\"/></a>"
      ]
    },
    {
      "cell_type": "code",
      "metadata": {
        "id": "NiJSMvsHNeJ5"
      },
      "source": [
        "# ainda precisa ser organizado e comentado!\n",
        "\n",
        "import pandas as pd\n",
        "import tensorflow as tf\n",
        "import numpy as np\n",
        "from tensorflow import keras\n",
        "from tensorflow.keras import layers\n",
        "from sklearn.model_selection import train_test_split"
      ],
      "execution_count": null,
      "outputs": []
    },
    {
      "cell_type": "markdown",
      "metadata": {
        "id": "Us-prCUJHS0l"
      },
      "source": [
        "Get the data"
      ]
    },
    {
      "cell_type": "code",
      "metadata": {
        "colab": {
          "base_uri": "https://localhost:8080/",
          "height": 204
        },
        "id": "cZTpi-VhHUum",
        "outputId": "cb87b395-0d1c-4846-8f06-326553b9885b"
      },
      "source": [
        "dataset_path = 'https://github.com/victordsrocha/Aprendizagem-de-Maquina-2021.1/raw/main/dataset-3bolas-50k.csv'\n",
        "\n",
        "# mantive todas as colunas para caso sejam úteis no futuro\n",
        "column_names = ['bola_branca_x','bola_branca_y',\n",
        "                'bola_1_x','bola_1_y',\n",
        "                'bola_2_x','bola_2_y',\n",
        "                'bola_3_x','bola_3_y',\n",
        "                'tacada_x','tacada_y','forca',\n",
        "                'out_bola_branca_x','out_bola_branca_y',\n",
        "                'out_bola_1_x','out_bola_1_y',\n",
        "                'out_bola_2_x','out_bola_2_y',\n",
        "                'out_bola_3_x','out_bola_3_y',\n",
        "                'dist_custo1','dist_custo2','dist_custo3','dist_custo4',\n",
        "                'colisao_x','colisao_y']\n",
        "\n",
        "raw_dataset = pd.read_csv(dataset_path, names=column_names, sep=',')\n",
        "full_dataset = raw_dataset.copy()\n",
        "\n",
        "# drop das colunas que não vamos utilizar\n",
        "raw_dataset=raw_dataset.drop(\n",
        "    columns=['forca',\n",
        "             'out_bola_branca_x','out_bola_branca_y',\n",
        "             'out_bola_1_x','out_bola_1_y',\n",
        "             'out_bola_2_x','out_bola_2_y',\n",
        "             'out_bola_3_x','out_bola_3_y',\n",
        "             'dist_custo1','dist_custo2','dist_custo3','dist_custo4',\n",
        "             'colisao_x','colisao_y'])\n",
        "\n",
        "dataset = raw_dataset.copy()\n",
        "dataset.tail()"
      ],
      "execution_count": null,
      "outputs": [
        {
          "output_type": "execute_result",
          "data": {
            "text/html": [
              "<div>\n",
              "<style scoped>\n",
              "    .dataframe tbody tr th:only-of-type {\n",
              "        vertical-align: middle;\n",
              "    }\n",
              "\n",
              "    .dataframe tbody tr th {\n",
              "        vertical-align: top;\n",
              "    }\n",
              "\n",
              "    .dataframe thead th {\n",
              "        text-align: right;\n",
              "    }\n",
              "</style>\n",
              "<table border=\"1\" class=\"dataframe\">\n",
              "  <thead>\n",
              "    <tr style=\"text-align: right;\">\n",
              "      <th></th>\n",
              "      <th>bola_branca_x</th>\n",
              "      <th>bola_branca_y</th>\n",
              "      <th>bola_1_x</th>\n",
              "      <th>bola_1_y</th>\n",
              "      <th>bola_2_x</th>\n",
              "      <th>bola_2_y</th>\n",
              "      <th>bola_3_x</th>\n",
              "      <th>bola_3_y</th>\n",
              "      <th>tacada_x</th>\n",
              "      <th>tacada_y</th>\n",
              "    </tr>\n",
              "  </thead>\n",
              "  <tbody>\n",
              "    <tr>\n",
              "      <th>53716</th>\n",
              "      <td>0.305599</td>\n",
              "      <td>0.238003</td>\n",
              "      <td>0.786556</td>\n",
              "      <td>0.576441</td>\n",
              "      <td>0.046314</td>\n",
              "      <td>0.600777</td>\n",
              "      <td>0.977948</td>\n",
              "      <td>0.142792</td>\n",
              "      <td>0.818454</td>\n",
              "      <td>0.574573</td>\n",
              "    </tr>\n",
              "    <tr>\n",
              "      <th>53717</th>\n",
              "      <td>0.491328</td>\n",
              "      <td>0.387249</td>\n",
              "      <td>0.273814</td>\n",
              "      <td>0.157505</td>\n",
              "      <td>0.644037</td>\n",
              "      <td>0.014752</td>\n",
              "      <td>0.204211</td>\n",
              "      <td>0.524148</td>\n",
              "      <td>-0.675769</td>\n",
              "      <td>-0.737113</td>\n",
              "    </tr>\n",
              "    <tr>\n",
              "      <th>53718</th>\n",
              "      <td>0.332819</td>\n",
              "      <td>0.194236</td>\n",
              "      <td>0.766932</td>\n",
              "      <td>0.468974</td>\n",
              "      <td>0.428644</td>\n",
              "      <td>0.707051</td>\n",
              "      <td>0.386743</td>\n",
              "      <td>0.107589</td>\n",
              "      <td>0.514057</td>\n",
              "      <td>-0.857756</td>\n",
              "    </tr>\n",
              "    <tr>\n",
              "      <th>53719</th>\n",
              "      <td>0.765386</td>\n",
              "      <td>0.424373</td>\n",
              "      <td>0.276345</td>\n",
              "      <td>0.602154</td>\n",
              "      <td>0.612153</td>\n",
              "      <td>0.071065</td>\n",
              "      <td>0.331014</td>\n",
              "      <td>0.110223</td>\n",
              "      <td>-0.370271</td>\n",
              "      <td>-0.928924</td>\n",
              "    </tr>\n",
              "    <tr>\n",
              "      <th>53720</th>\n",
              "      <td>0.068889</td>\n",
              "      <td>0.169737</td>\n",
              "      <td>0.074424</td>\n",
              "      <td>0.117792</td>\n",
              "      <td>0.598797</td>\n",
              "      <td>0.305177</td>\n",
              "      <td>0.529469</td>\n",
              "      <td>0.533210</td>\n",
              "      <td>0.780187</td>\n",
              "      <td>0.625546</td>\n",
              "    </tr>\n",
              "  </tbody>\n",
              "</table>\n",
              "</div>"
            ],
            "text/plain": [
              "       bola_branca_x  bola_branca_y  bola_1_x  ...  bola_3_y  tacada_x  tacada_y\n",
              "53716       0.305599       0.238003  0.786556  ...  0.142792  0.818454  0.574573\n",
              "53717       0.491328       0.387249  0.273814  ...  0.524148 -0.675769 -0.737113\n",
              "53718       0.332819       0.194236  0.766932  ...  0.107589  0.514057 -0.857756\n",
              "53719       0.765386       0.424373  0.276345  ...  0.110223 -0.370271 -0.928924\n",
              "53720       0.068889       0.169737  0.074424  ...  0.533210  0.780187  0.625546\n",
              "\n",
              "[5 rows x 10 columns]"
            ]
          },
          "metadata": {},
          "execution_count": 20
        }
      ]
    },
    {
      "cell_type": "code",
      "metadata": {
        "id": "zlr-sF-44uT8"
      },
      "source": [
        "#Sequência de verdadeiros e falsos para cada buraco\n",
        "data = full_dataset.to_numpy()\n",
        "enca = np.array([((data[:,13]==.01) * (data[:,14]==.01)),\n",
        "                 ((data[:,13]==.01) * (data[:,14]==.74)),\n",
        "                 ((data[:,13]==.99) * (data[:,14]==.01)),\n",
        "                 ((data[:,13]==.99) * (data[:,14]==.74))])"
      ],
      "execution_count": null,
      "outputs": []
    },
    {
      "cell_type": "markdown",
      "metadata": {
        "id": "S14uQUUFMPau"
      },
      "source": [
        "Split the data into train and test"
      ]
    },
    {
      "cell_type": "code",
      "metadata": {
        "id": "dgYT_qLiMSlG"
      },
      "source": [
        "X = dataset.drop(columns=['tacada_x','tacada_y'])\n",
        "X = X[enca[3]]\n",
        "y = pd.DataFrame({\"arc_tangent\":np.arctan(dataset['tacada_x'] / dataset['tacada_y']).T})\n",
        "y = y[enca[3]]\n",
        "\n",
        "X_train, X_test, y_train, y_test = train_test_split(X, y, test_size=0.2, random_state=42)"
      ],
      "execution_count": null,
      "outputs": []
    },
    {
      "cell_type": "markdown",
      "metadata": {
        "id": "_8SRA_99Onjc"
      },
      "source": [
        "Inspect the data"
      ]
    },
    {
      "cell_type": "code",
      "metadata": {
        "colab": {
          "base_uri": "https://localhost:8080/",
          "height": 297
        },
        "id": "KjLVmLoHOpPW",
        "outputId": "e04650cc-af29-46d6-b599-6d23a71a1012"
      },
      "source": [
        "# apresenta a descrição dos dados de treino - entrada\n",
        "X_train.describe().transpose()"
      ],
      "execution_count": null,
      "outputs": [
        {
          "output_type": "execute_result",
          "data": {
            "text/html": [
              "<div>\n",
              "<style scoped>\n",
              "    .dataframe tbody tr th:only-of-type {\n",
              "        vertical-align: middle;\n",
              "    }\n",
              "\n",
              "    .dataframe tbody tr th {\n",
              "        vertical-align: top;\n",
              "    }\n",
              "\n",
              "    .dataframe thead th {\n",
              "        text-align: right;\n",
              "    }\n",
              "</style>\n",
              "<table border=\"1\" class=\"dataframe\">\n",
              "  <thead>\n",
              "    <tr style=\"text-align: right;\">\n",
              "      <th></th>\n",
              "      <th>count</th>\n",
              "      <th>mean</th>\n",
              "      <th>std</th>\n",
              "      <th>min</th>\n",
              "      <th>25%</th>\n",
              "      <th>50%</th>\n",
              "      <th>75%</th>\n",
              "      <th>max</th>\n",
              "    </tr>\n",
              "  </thead>\n",
              "  <tbody>\n",
              "    <tr>\n",
              "      <th>bola_branca_x</th>\n",
              "      <td>4364.0</td>\n",
              "      <td>0.488978</td>\n",
              "      <td>0.249078</td>\n",
              "      <td>0.010246</td>\n",
              "      <td>0.285486</td>\n",
              "      <td>0.500000</td>\n",
              "      <td>0.697228</td>\n",
              "      <td>0.989807</td>\n",
              "    </tr>\n",
              "    <tr>\n",
              "      <th>bola_branca_y</th>\n",
              "      <td>4364.0</td>\n",
              "      <td>0.305567</td>\n",
              "      <td>0.180987</td>\n",
              "      <td>0.010042</td>\n",
              "      <td>0.159435</td>\n",
              "      <td>0.291506</td>\n",
              "      <td>0.428236</td>\n",
              "      <td>0.739503</td>\n",
              "    </tr>\n",
              "    <tr>\n",
              "      <th>bola_1_x</th>\n",
              "      <td>4364.0</td>\n",
              "      <td>0.777249</td>\n",
              "      <td>0.178380</td>\n",
              "      <td>0.010000</td>\n",
              "      <td>0.721131</td>\n",
              "      <td>0.800000</td>\n",
              "      <td>0.907285</td>\n",
              "      <td>0.990453</td>\n",
              "    </tr>\n",
              "    <tr>\n",
              "      <th>bola_1_y</th>\n",
              "      <td>4364.0</td>\n",
              "      <td>0.515286</td>\n",
              "      <td>0.165607</td>\n",
              "      <td>0.010000</td>\n",
              "      <td>0.375000</td>\n",
              "      <td>0.548164</td>\n",
              "      <td>0.661697</td>\n",
              "      <td>0.740000</td>\n",
              "    </tr>\n",
              "    <tr>\n",
              "      <th>bola_2_x</th>\n",
              "      <td>4364.0</td>\n",
              "      <td>0.604097</td>\n",
              "      <td>0.288418</td>\n",
              "      <td>0.010000</td>\n",
              "      <td>0.364816</td>\n",
              "      <td>0.695898</td>\n",
              "      <td>0.840000</td>\n",
              "      <td>0.990115</td>\n",
              "    </tr>\n",
              "    <tr>\n",
              "      <th>bola_2_y</th>\n",
              "      <td>4364.0</td>\n",
              "      <td>0.376019</td>\n",
              "      <td>0.196140</td>\n",
              "      <td>0.010000</td>\n",
              "      <td>0.223682</td>\n",
              "      <td>0.375000</td>\n",
              "      <td>0.530650</td>\n",
              "      <td>0.740000</td>\n",
              "    </tr>\n",
              "    <tr>\n",
              "      <th>bola_3_x</th>\n",
              "      <td>4364.0</td>\n",
              "      <td>0.594177</td>\n",
              "      <td>0.296041</td>\n",
              "      <td>0.010000</td>\n",
              "      <td>0.342851</td>\n",
              "      <td>0.657605</td>\n",
              "      <td>0.880000</td>\n",
              "      <td>0.990288</td>\n",
              "    </tr>\n",
              "    <tr>\n",
              "      <th>bola_3_y</th>\n",
              "      <td>4364.0</td>\n",
              "      <td>0.379324</td>\n",
              "      <td>0.189166</td>\n",
              "      <td>0.010000</td>\n",
              "      <td>0.244139</td>\n",
              "      <td>0.375000</td>\n",
              "      <td>0.518482</td>\n",
              "      <td>0.740000</td>\n",
              "    </tr>\n",
              "  </tbody>\n",
              "</table>\n",
              "</div>"
            ],
            "text/plain": [
              "                count      mean       std  ...       50%       75%       max\n",
              "bola_branca_x  4364.0  0.488978  0.249078  ...  0.500000  0.697228  0.989807\n",
              "bola_branca_y  4364.0  0.305567  0.180987  ...  0.291506  0.428236  0.739503\n",
              "bola_1_x       4364.0  0.777249  0.178380  ...  0.800000  0.907285  0.990453\n",
              "bola_1_y       4364.0  0.515286  0.165607  ...  0.548164  0.661697  0.740000\n",
              "bola_2_x       4364.0  0.604097  0.288418  ...  0.695898  0.840000  0.990115\n",
              "bola_2_y       4364.0  0.376019  0.196140  ...  0.375000  0.530650  0.740000\n",
              "bola_3_x       4364.0  0.594177  0.296041  ...  0.657605  0.880000  0.990288\n",
              "bola_3_y       4364.0  0.379324  0.189166  ...  0.375000  0.518482  0.740000\n",
              "\n",
              "[8 rows x 8 columns]"
            ]
          },
          "metadata": {},
          "execution_count": 50
        }
      ]
    },
    {
      "cell_type": "code",
      "metadata": {
        "colab": {
          "base_uri": "https://localhost:8080/",
          "height": 80
        },
        "id": "06a2VPi0Xdf-",
        "outputId": "44f342bd-8bb9-415d-c69a-fd5268832399"
      },
      "source": [
        "# apresenta a descrição dos dados de treino - saída\n",
        "y_train.describe().transpose()"
      ],
      "execution_count": null,
      "outputs": [
        {
          "output_type": "execute_result",
          "data": {
            "text/html": [
              "<div>\n",
              "<style scoped>\n",
              "    .dataframe tbody tr th:only-of-type {\n",
              "        vertical-align: middle;\n",
              "    }\n",
              "\n",
              "    .dataframe tbody tr th {\n",
              "        vertical-align: top;\n",
              "    }\n",
              "\n",
              "    .dataframe thead th {\n",
              "        text-align: right;\n",
              "    }\n",
              "</style>\n",
              "<table border=\"1\" class=\"dataframe\">\n",
              "  <thead>\n",
              "    <tr style=\"text-align: right;\">\n",
              "      <th></th>\n",
              "      <th>count</th>\n",
              "      <th>mean</th>\n",
              "      <th>std</th>\n",
              "      <th>min</th>\n",
              "      <th>25%</th>\n",
              "      <th>50%</th>\n",
              "      <th>75%</th>\n",
              "      <th>max</th>\n",
              "    </tr>\n",
              "  </thead>\n",
              "  <tbody>\n",
              "    <tr>\n",
              "      <th>arc_tangent</th>\n",
              "      <td>4364.0</td>\n",
              "      <td>0.592894</td>\n",
              "      <td>0.757995</td>\n",
              "      <td>-1.569934</td>\n",
              "      <td>0.298695</td>\n",
              "      <td>0.797407</td>\n",
              "      <td>1.121742</td>\n",
              "      <td>1.569245</td>\n",
              "    </tr>\n",
              "  </tbody>\n",
              "</table>\n",
              "</div>"
            ],
            "text/plain": [
              "              count      mean       std  ...       50%       75%       max\n",
              "arc_tangent  4364.0  0.592894  0.757995  ...  0.797407  1.121742  1.569245\n",
              "\n",
              "[1 rows x 8 columns]"
            ]
          },
          "metadata": {},
          "execution_count": 51
        }
      ]
    },
    {
      "cell_type": "markdown",
      "metadata": {
        "id": "lZAKOWYDQlAY"
      },
      "source": [
        "Normalize the data"
      ]
    },
    {
      "cell_type": "code",
      "metadata": {
        "id": "mDlRLUq8Qm5I"
      },
      "source": [
        "# não testei se a normalização realmente ajuda\n",
        "\n",
        "# normalização z-score de todos os dados\n",
        "\n",
        "import numpy as np\n",
        "\n",
        "def normalize_zscore(data):\n",
        "    data_scaled = data\n",
        "    data_mean = data_scaled.mean(axis=0)\n",
        "    data_std = data_scaled.std(axis=0)\n",
        "    data_scaled = (data_scaled - data_mean) / data_std\n",
        "    return data_scaled\n",
        "\n",
        "# X_train = normalize_zscore(X_train)\n",
        "# X_test = normalize_zscore(X_test)\n",
        "# y_train = normalize_zscore(y_train)\n",
        "# y_test = normalize_zscore(y_test)"
      ],
      "execution_count": null,
      "outputs": []
    },
    {
      "cell_type": "code",
      "metadata": {
        "colab": {
          "base_uri": "https://localhost:8080/",
          "height": 297
        },
        "id": "AO3YHXQDa1Xb",
        "outputId": "c58a28f3-1029-442c-9657-9d8b00e8e9a3"
      },
      "source": [
        "# apresenta a descrição dos dados de treino normalizados - entrada\n",
        "X_train.describe().transpose()"
      ],
      "execution_count": null,
      "outputs": [
        {
          "output_type": "execute_result",
          "data": {
            "text/html": [
              "<div>\n",
              "<style scoped>\n",
              "    .dataframe tbody tr th:only-of-type {\n",
              "        vertical-align: middle;\n",
              "    }\n",
              "\n",
              "    .dataframe tbody tr th {\n",
              "        vertical-align: top;\n",
              "    }\n",
              "\n",
              "    .dataframe thead th {\n",
              "        text-align: right;\n",
              "    }\n",
              "</style>\n",
              "<table border=\"1\" class=\"dataframe\">\n",
              "  <thead>\n",
              "    <tr style=\"text-align: right;\">\n",
              "      <th></th>\n",
              "      <th>count</th>\n",
              "      <th>mean</th>\n",
              "      <th>std</th>\n",
              "      <th>min</th>\n",
              "      <th>25%</th>\n",
              "      <th>50%</th>\n",
              "      <th>75%</th>\n",
              "      <th>max</th>\n",
              "    </tr>\n",
              "  </thead>\n",
              "  <tbody>\n",
              "    <tr>\n",
              "      <th>bola_branca_x</th>\n",
              "      <td>4364.0</td>\n",
              "      <td>0.488978</td>\n",
              "      <td>0.249078</td>\n",
              "      <td>0.010246</td>\n",
              "      <td>0.285486</td>\n",
              "      <td>0.500000</td>\n",
              "      <td>0.697228</td>\n",
              "      <td>0.989807</td>\n",
              "    </tr>\n",
              "    <tr>\n",
              "      <th>bola_branca_y</th>\n",
              "      <td>4364.0</td>\n",
              "      <td>0.305567</td>\n",
              "      <td>0.180987</td>\n",
              "      <td>0.010042</td>\n",
              "      <td>0.159435</td>\n",
              "      <td>0.291506</td>\n",
              "      <td>0.428236</td>\n",
              "      <td>0.739503</td>\n",
              "    </tr>\n",
              "    <tr>\n",
              "      <th>bola_1_x</th>\n",
              "      <td>4364.0</td>\n",
              "      <td>0.777249</td>\n",
              "      <td>0.178380</td>\n",
              "      <td>0.010000</td>\n",
              "      <td>0.721131</td>\n",
              "      <td>0.800000</td>\n",
              "      <td>0.907285</td>\n",
              "      <td>0.990453</td>\n",
              "    </tr>\n",
              "    <tr>\n",
              "      <th>bola_1_y</th>\n",
              "      <td>4364.0</td>\n",
              "      <td>0.515286</td>\n",
              "      <td>0.165607</td>\n",
              "      <td>0.010000</td>\n",
              "      <td>0.375000</td>\n",
              "      <td>0.548164</td>\n",
              "      <td>0.661697</td>\n",
              "      <td>0.740000</td>\n",
              "    </tr>\n",
              "    <tr>\n",
              "      <th>bola_2_x</th>\n",
              "      <td>4364.0</td>\n",
              "      <td>0.604097</td>\n",
              "      <td>0.288418</td>\n",
              "      <td>0.010000</td>\n",
              "      <td>0.364816</td>\n",
              "      <td>0.695898</td>\n",
              "      <td>0.840000</td>\n",
              "      <td>0.990115</td>\n",
              "    </tr>\n",
              "    <tr>\n",
              "      <th>bola_2_y</th>\n",
              "      <td>4364.0</td>\n",
              "      <td>0.376019</td>\n",
              "      <td>0.196140</td>\n",
              "      <td>0.010000</td>\n",
              "      <td>0.223682</td>\n",
              "      <td>0.375000</td>\n",
              "      <td>0.530650</td>\n",
              "      <td>0.740000</td>\n",
              "    </tr>\n",
              "    <tr>\n",
              "      <th>bola_3_x</th>\n",
              "      <td>4364.0</td>\n",
              "      <td>0.594177</td>\n",
              "      <td>0.296041</td>\n",
              "      <td>0.010000</td>\n",
              "      <td>0.342851</td>\n",
              "      <td>0.657605</td>\n",
              "      <td>0.880000</td>\n",
              "      <td>0.990288</td>\n",
              "    </tr>\n",
              "    <tr>\n",
              "      <th>bola_3_y</th>\n",
              "      <td>4364.0</td>\n",
              "      <td>0.379324</td>\n",
              "      <td>0.189166</td>\n",
              "      <td>0.010000</td>\n",
              "      <td>0.244139</td>\n",
              "      <td>0.375000</td>\n",
              "      <td>0.518482</td>\n",
              "      <td>0.740000</td>\n",
              "    </tr>\n",
              "  </tbody>\n",
              "</table>\n",
              "</div>"
            ],
            "text/plain": [
              "                count      mean       std  ...       50%       75%       max\n",
              "bola_branca_x  4364.0  0.488978  0.249078  ...  0.500000  0.697228  0.989807\n",
              "bola_branca_y  4364.0  0.305567  0.180987  ...  0.291506  0.428236  0.739503\n",
              "bola_1_x       4364.0  0.777249  0.178380  ...  0.800000  0.907285  0.990453\n",
              "bola_1_y       4364.0  0.515286  0.165607  ...  0.548164  0.661697  0.740000\n",
              "bola_2_x       4364.0  0.604097  0.288418  ...  0.695898  0.840000  0.990115\n",
              "bola_2_y       4364.0  0.376019  0.196140  ...  0.375000  0.530650  0.740000\n",
              "bola_3_x       4364.0  0.594177  0.296041  ...  0.657605  0.880000  0.990288\n",
              "bola_3_y       4364.0  0.379324  0.189166  ...  0.375000  0.518482  0.740000\n",
              "\n",
              "[8 rows x 8 columns]"
            ]
          },
          "metadata": {},
          "execution_count": 53
        }
      ]
    },
    {
      "cell_type": "code",
      "metadata": {
        "colab": {
          "base_uri": "https://localhost:8080/",
          "height": 80
        },
        "id": "vbxptbgua1g6",
        "outputId": "11dc976a-d332-4aa4-c82e-236a222d46e7"
      },
      "source": [
        "# apresenta a descrição dos dados de treino normalizados - saída\n",
        "y_train.describe().transpose()"
      ],
      "execution_count": null,
      "outputs": [
        {
          "output_type": "execute_result",
          "data": {
            "text/html": [
              "<div>\n",
              "<style scoped>\n",
              "    .dataframe tbody tr th:only-of-type {\n",
              "        vertical-align: middle;\n",
              "    }\n",
              "\n",
              "    .dataframe tbody tr th {\n",
              "        vertical-align: top;\n",
              "    }\n",
              "\n",
              "    .dataframe thead th {\n",
              "        text-align: right;\n",
              "    }\n",
              "</style>\n",
              "<table border=\"1\" class=\"dataframe\">\n",
              "  <thead>\n",
              "    <tr style=\"text-align: right;\">\n",
              "      <th></th>\n",
              "      <th>count</th>\n",
              "      <th>mean</th>\n",
              "      <th>std</th>\n",
              "      <th>min</th>\n",
              "      <th>25%</th>\n",
              "      <th>50%</th>\n",
              "      <th>75%</th>\n",
              "      <th>max</th>\n",
              "    </tr>\n",
              "  </thead>\n",
              "  <tbody>\n",
              "    <tr>\n",
              "      <th>arc_tangent</th>\n",
              "      <td>4364.0</td>\n",
              "      <td>0.592894</td>\n",
              "      <td>0.757995</td>\n",
              "      <td>-1.569934</td>\n",
              "      <td>0.298695</td>\n",
              "      <td>0.797407</td>\n",
              "      <td>1.121742</td>\n",
              "      <td>1.569245</td>\n",
              "    </tr>\n",
              "  </tbody>\n",
              "</table>\n",
              "</div>"
            ],
            "text/plain": [
              "              count      mean       std  ...       50%       75%       max\n",
              "arc_tangent  4364.0  0.592894  0.757995  ...  0.797407  1.121742  1.569245\n",
              "\n",
              "[1 rows x 8 columns]"
            ]
          },
          "metadata": {},
          "execution_count": 54
        }
      ]
    },
    {
      "cell_type": "markdown",
      "metadata": {
        "id": "yNUBvNesTa7H"
      },
      "source": [
        "Build the model"
      ]
    },
    {
      "cell_type": "code",
      "metadata": {
        "colab": {
          "base_uri": "https://localhost:8080/"
        },
        "id": "PWyEVDp5Tcpl",
        "outputId": "85546d6f-4567-4a13-c5f9-46e7e9514274"
      },
      "source": [
        "# dimensões de entrada e saída\n",
        "in_dim = X_train.shape[1]\n",
        "out_dim = y_train.shape[1]\n",
        "\n",
        "# modelo\n",
        "model = keras.models.Sequential()\n",
        "model.add(layers.Dense(64, input_dim=in_dim, activation=\"relu\"))\n",
        "model.add(layers.Dense(64, activation=\"relu\"))\n",
        "model.add(layers.Dense(64, activation=\"relu\"))\n",
        "model.add(layers.Dense(out_dim))\n",
        "\n",
        "optimizer = keras.optimizers.RMSprop(learning_rate=0.001)\n",
        "\n",
        "model.compile(loss=\"mse\", optimizer=optimizer, metrics=['mae','mse'])\n",
        "\n",
        "# log tensorboard\n",
        "tensorboard_callback = tf.keras.callbacks.TensorBoard(log_dir=\"./logggs\")\n",
        "\n",
        "# early stop\n",
        "early_stop = keras.callbacks.EarlyStopping(monitor='val_loss', patience=50)\n",
        "\n",
        "# sumário do modelo\n",
        "model.summary()"
      ],
      "execution_count": null,
      "outputs": [
        {
          "output_type": "stream",
          "text": [
            "Model: \"sequential_3\"\n",
            "_________________________________________________________________\n",
            "Layer (type)                 Output Shape              Param #   \n",
            "=================================================================\n",
            "dense_12 (Dense)             (None, 64)                576       \n",
            "_________________________________________________________________\n",
            "dense_13 (Dense)             (None, 64)                4160      \n",
            "_________________________________________________________________\n",
            "dense_14 (Dense)             (None, 64)                4160      \n",
            "_________________________________________________________________\n",
            "dense_15 (Dense)             (None, 1)                 65        \n",
            "=================================================================\n",
            "Total params: 8,961\n",
            "Trainable params: 8,961\n",
            "Non-trainable params: 0\n",
            "_________________________________________________________________\n"
          ],
          "name": "stdout"
        }
      ]
    },
    {
      "cell_type": "markdown",
      "metadata": {
        "id": "M9n3m792bx2W"
      },
      "source": [
        "Train the model"
      ]
    },
    {
      "cell_type": "code",
      "metadata": {
        "colab": {
          "base_uri": "https://localhost:8080/"
        },
        "id": "Fe7ZGOPobRNr",
        "outputId": "3f7431b5-e771-4625-ad14-cdda8f61e720"
      },
      "source": [
        "history = model.fit(X_train, y_train, epochs=1000, validation_data=(X_test, y_test), batch_size=64, verbose=1, callbacks=[early_stop, tensorboard_callback])"
      ],
      "execution_count": null,
      "outputs": [
        {
          "output_type": "stream",
          "text": [
            "Epoch 1/1000\n",
            "69/69 [==============================] - 1s 5ms/step - loss: 0.5470 - mae: 0.5362 - mse: 0.5470 - val_loss: 0.5349 - val_mae: 0.5009 - val_mse: 0.5349\n",
            "Epoch 2/1000\n",
            "69/69 [==============================] - 0s 2ms/step - loss: 0.4785 - mae: 0.4713 - mse: 0.4785 - val_loss: 0.5265 - val_mae: 0.4606 - val_mse: 0.5265\n",
            "Epoch 3/1000\n",
            "69/69 [==============================] - 0s 2ms/step - loss: 0.4354 - mae: 0.4354 - mse: 0.4354 - val_loss: 0.4340 - val_mae: 0.4086 - val_mse: 0.4340\n",
            "Epoch 4/1000\n",
            "69/69 [==============================] - 0s 2ms/step - loss: 0.3864 - mae: 0.3959 - mse: 0.3864 - val_loss: 0.4150 - val_mae: 0.4563 - val_mse: 0.4150\n",
            "Epoch 5/1000\n",
            "69/69 [==============================] - 0s 2ms/step - loss: 0.3395 - mae: 0.3606 - mse: 0.3395 - val_loss: 0.3430 - val_mae: 0.3572 - val_mse: 0.3430\n",
            "Epoch 6/1000\n",
            "69/69 [==============================] - 0s 2ms/step - loss: 0.3140 - mae: 0.3365 - mse: 0.3140 - val_loss: 0.3692 - val_mae: 0.3328 - val_mse: 0.3692\n",
            "Epoch 7/1000\n",
            "69/69 [==============================] - 0s 2ms/step - loss: 0.2930 - mae: 0.3205 - mse: 0.2930 - val_loss: 0.3134 - val_mae: 0.3678 - val_mse: 0.3134\n",
            "Epoch 8/1000\n",
            "69/69 [==============================] - 0s 2ms/step - loss: 0.2756 - mae: 0.3043 - mse: 0.2756 - val_loss: 0.3031 - val_mae: 0.3180 - val_mse: 0.3031\n",
            "Epoch 9/1000\n",
            "69/69 [==============================] - 0s 3ms/step - loss: 0.2625 - mae: 0.2915 - mse: 0.2625 - val_loss: 0.2752 - val_mae: 0.2923 - val_mse: 0.2752\n",
            "Epoch 10/1000\n",
            "69/69 [==============================] - 0s 2ms/step - loss: 0.2466 - mae: 0.2755 - mse: 0.2466 - val_loss: 0.3361 - val_mae: 0.3185 - val_mse: 0.3361\n",
            "Epoch 11/1000\n",
            "69/69 [==============================] - 0s 2ms/step - loss: 0.2397 - mae: 0.2705 - mse: 0.2397 - val_loss: 0.2752 - val_mae: 0.3032 - val_mse: 0.2752\n",
            "Epoch 12/1000\n",
            "69/69 [==============================] - 0s 3ms/step - loss: 0.2317 - mae: 0.2577 - mse: 0.2317 - val_loss: 0.6794 - val_mae: 0.4791 - val_mse: 0.6794\n",
            "Epoch 13/1000\n",
            "69/69 [==============================] - 0s 2ms/step - loss: 0.2151 - mae: 0.2448 - mse: 0.2151 - val_loss: 0.3094 - val_mae: 0.3787 - val_mse: 0.3094\n",
            "Epoch 14/1000\n",
            "69/69 [==============================] - 0s 2ms/step - loss: 0.2142 - mae: 0.2427 - mse: 0.2142 - val_loss: 0.2876 - val_mae: 0.4065 - val_mse: 0.2876\n",
            "Epoch 15/1000\n",
            "69/69 [==============================] - 0s 2ms/step - loss: 0.2086 - mae: 0.2369 - mse: 0.2086 - val_loss: 0.2958 - val_mae: 0.3656 - val_mse: 0.2958\n",
            "Epoch 16/1000\n",
            "69/69 [==============================] - 0s 2ms/step - loss: 0.2021 - mae: 0.2350 - mse: 0.2021 - val_loss: 0.4381 - val_mae: 0.2940 - val_mse: 0.4381\n",
            "Epoch 17/1000\n",
            "69/69 [==============================] - 0s 2ms/step - loss: 0.1946 - mae: 0.2285 - mse: 0.1946 - val_loss: 0.2480 - val_mae: 0.2258 - val_mse: 0.2480\n",
            "Epoch 18/1000\n",
            "69/69 [==============================] - 0s 2ms/step - loss: 0.1899 - mae: 0.2210 - mse: 0.1899 - val_loss: 0.2068 - val_mae: 0.2113 - val_mse: 0.2068\n",
            "Epoch 19/1000\n",
            "69/69 [==============================] - 0s 2ms/step - loss: 0.1786 - mae: 0.2133 - mse: 0.1786 - val_loss: 0.2086 - val_mae: 0.2294 - val_mse: 0.2086\n",
            "Epoch 20/1000\n",
            "69/69 [==============================] - 0s 2ms/step - loss: 0.1916 - mae: 0.2179 - mse: 0.1916 - val_loss: 0.2105 - val_mae: 0.2295 - val_mse: 0.2105\n",
            "Epoch 21/1000\n",
            "69/69 [==============================] - 0s 2ms/step - loss: 0.1943 - mae: 0.2182 - mse: 0.1943 - val_loss: 0.2837 - val_mae: 0.2647 - val_mse: 0.2837\n",
            "Epoch 22/1000\n",
            "69/69 [==============================] - 0s 2ms/step - loss: 0.1739 - mae: 0.2045 - mse: 0.1739 - val_loss: 0.2810 - val_mae: 0.2716 - val_mse: 0.2810\n",
            "Epoch 23/1000\n",
            "69/69 [==============================] - 0s 2ms/step - loss: 0.1744 - mae: 0.2059 - mse: 0.1744 - val_loss: 0.3440 - val_mae: 0.2342 - val_mse: 0.3440\n",
            "Epoch 24/1000\n",
            "69/69 [==============================] - 0s 2ms/step - loss: 0.1758 - mae: 0.2021 - mse: 0.1758 - val_loss: 0.3315 - val_mae: 0.2749 - val_mse: 0.3315\n",
            "Epoch 25/1000\n",
            "69/69 [==============================] - 0s 2ms/step - loss: 0.1750 - mae: 0.2008 - mse: 0.1750 - val_loss: 0.2537 - val_mae: 0.2234 - val_mse: 0.2537\n",
            "Epoch 26/1000\n",
            "69/69 [==============================] - 0s 2ms/step - loss: 0.1658 - mae: 0.1979 - mse: 0.1658 - val_loss: 0.2586 - val_mae: 0.2428 - val_mse: 0.2586\n",
            "Epoch 27/1000\n",
            "69/69 [==============================] - 0s 2ms/step - loss: 0.1631 - mae: 0.1932 - mse: 0.1631 - val_loss: 0.1712 - val_mae: 0.1831 - val_mse: 0.1712\n",
            "Epoch 28/1000\n",
            "69/69 [==============================] - 0s 2ms/step - loss: 0.1676 - mae: 0.1962 - mse: 0.1676 - val_loss: 0.1899 - val_mae: 0.2189 - val_mse: 0.1899\n",
            "Epoch 29/1000\n",
            "69/69 [==============================] - 0s 3ms/step - loss: 0.1577 - mae: 0.1935 - mse: 0.1577 - val_loss: 0.2102 - val_mae: 0.2264 - val_mse: 0.2102\n",
            "Epoch 30/1000\n",
            "69/69 [==============================] - 0s 2ms/step - loss: 0.1605 - mae: 0.1898 - mse: 0.1605 - val_loss: 0.2270 - val_mae: 0.2267 - val_mse: 0.2270\n",
            "Epoch 31/1000\n",
            "69/69 [==============================] - 0s 2ms/step - loss: 0.1553 - mae: 0.1876 - mse: 0.1553 - val_loss: 0.2558 - val_mae: 0.2110 - val_mse: 0.2558\n",
            "Epoch 32/1000\n",
            "69/69 [==============================] - 0s 2ms/step - loss: 0.1636 - mae: 0.1900 - mse: 0.1636 - val_loss: 0.3550 - val_mae: 0.2893 - val_mse: 0.3550\n",
            "Epoch 33/1000\n",
            "69/69 [==============================] - 0s 2ms/step - loss: 0.1439 - mae: 0.1862 - mse: 0.1439 - val_loss: 0.3035 - val_mae: 0.2163 - val_mse: 0.3035\n",
            "Epoch 34/1000\n",
            "69/69 [==============================] - 0s 2ms/step - loss: 0.1619 - mae: 0.1870 - mse: 0.1619 - val_loss: 0.2648 - val_mae: 0.2247 - val_mse: 0.2648\n",
            "Epoch 35/1000\n",
            "69/69 [==============================] - 0s 2ms/step - loss: 0.1633 - mae: 0.1859 - mse: 0.1633 - val_loss: 0.2299 - val_mae: 0.2128 - val_mse: 0.2299\n",
            "Epoch 36/1000\n",
            "69/69 [==============================] - 0s 2ms/step - loss: 0.1581 - mae: 0.1866 - mse: 0.1581 - val_loss: 0.2181 - val_mae: 0.2304 - val_mse: 0.2181\n",
            "Epoch 37/1000\n",
            "69/69 [==============================] - 0s 2ms/step - loss: 0.1530 - mae: 0.1805 - mse: 0.1530 - val_loss: 0.1737 - val_mae: 0.2140 - val_mse: 0.1737\n",
            "Epoch 38/1000\n",
            "69/69 [==============================] - 0s 2ms/step - loss: 0.1577 - mae: 0.1797 - mse: 0.1577 - val_loss: 0.1952 - val_mae: 0.1885 - val_mse: 0.1952\n",
            "Epoch 39/1000\n",
            "69/69 [==============================] - 0s 2ms/step - loss: 0.1443 - mae: 0.1773 - mse: 0.1443 - val_loss: 0.2553 - val_mae: 0.2033 - val_mse: 0.2553\n",
            "Epoch 40/1000\n",
            "69/69 [==============================] - 0s 3ms/step - loss: 0.1418 - mae: 0.1728 - mse: 0.1418 - val_loss: 0.1822 - val_mae: 0.1788 - val_mse: 0.1822\n",
            "Epoch 41/1000\n",
            "69/69 [==============================] - 0s 2ms/step - loss: 0.1552 - mae: 0.1783 - mse: 0.1552 - val_loss: 0.1673 - val_mae: 0.1707 - val_mse: 0.1673\n",
            "Epoch 42/1000\n",
            "69/69 [==============================] - 0s 2ms/step - loss: 0.1468 - mae: 0.1771 - mse: 0.1468 - val_loss: 0.3216 - val_mae: 0.2116 - val_mse: 0.3216\n",
            "Epoch 43/1000\n",
            "69/69 [==============================] - 0s 2ms/step - loss: 0.1393 - mae: 0.1694 - mse: 0.1393 - val_loss: 0.1971 - val_mae: 0.2391 - val_mse: 0.1971\n",
            "Epoch 44/1000\n",
            "69/69 [==============================] - 0s 2ms/step - loss: 0.1485 - mae: 0.1746 - mse: 0.1485 - val_loss: 0.1633 - val_mae: 0.1775 - val_mse: 0.1633\n",
            "Epoch 45/1000\n",
            "69/69 [==============================] - 0s 2ms/step - loss: 0.1569 - mae: 0.1773 - mse: 0.1569 - val_loss: 0.2848 - val_mae: 0.2241 - val_mse: 0.2848\n",
            "Epoch 46/1000\n",
            "69/69 [==============================] - 0s 2ms/step - loss: 0.1344 - mae: 0.1692 - mse: 0.1344 - val_loss: 0.2565 - val_mae: 0.1910 - val_mse: 0.2565\n",
            "Epoch 47/1000\n",
            "69/69 [==============================] - 0s 2ms/step - loss: 0.1348 - mae: 0.1733 - mse: 0.1348 - val_loss: 0.2474 - val_mae: 0.2151 - val_mse: 0.2474\n",
            "Epoch 48/1000\n",
            "69/69 [==============================] - 0s 2ms/step - loss: 0.1382 - mae: 0.1707 - mse: 0.1382 - val_loss: 0.2050 - val_mae: 0.1748 - val_mse: 0.2050\n",
            "Epoch 49/1000\n",
            "69/69 [==============================] - 0s 2ms/step - loss: 0.1288 - mae: 0.1677 - mse: 0.1288 - val_loss: 0.3839 - val_mae: 0.2450 - val_mse: 0.3839\n",
            "Epoch 50/1000\n",
            "69/69 [==============================] - 0s 2ms/step - loss: 0.1366 - mae: 0.1659 - mse: 0.1366 - val_loss: 0.1867 - val_mae: 0.1865 - val_mse: 0.1867\n",
            "Epoch 51/1000\n",
            "69/69 [==============================] - 0s 2ms/step - loss: 0.1309 - mae: 0.1645 - mse: 0.1309 - val_loss: 0.1545 - val_mae: 0.1759 - val_mse: 0.1545\n",
            "Epoch 52/1000\n",
            "69/69 [==============================] - 0s 3ms/step - loss: 0.1327 - mae: 0.1697 - mse: 0.1327 - val_loss: 0.1592 - val_mae: 0.1572 - val_mse: 0.1592\n",
            "Epoch 53/1000\n",
            "69/69 [==============================] - 0s 2ms/step - loss: 0.1441 - mae: 0.1686 - mse: 0.1441 - val_loss: 0.4611 - val_mae: 0.2803 - val_mse: 0.4611\n",
            "Epoch 54/1000\n",
            "69/69 [==============================] - 0s 2ms/step - loss: 0.1339 - mae: 0.1642 - mse: 0.1339 - val_loss: 0.3372 - val_mae: 0.2515 - val_mse: 0.3372\n",
            "Epoch 55/1000\n",
            "69/69 [==============================] - 0s 2ms/step - loss: 0.1315 - mae: 0.1606 - mse: 0.1315 - val_loss: 0.1635 - val_mae: 0.1763 - val_mse: 0.1635\n",
            "Epoch 56/1000\n",
            "69/69 [==============================] - 0s 2ms/step - loss: 0.1213 - mae: 0.1602 - mse: 0.1213 - val_loss: 0.1957 - val_mae: 0.2158 - val_mse: 0.1957\n",
            "Epoch 57/1000\n",
            "69/69 [==============================] - 0s 2ms/step - loss: 0.1373 - mae: 0.1631 - mse: 0.1373 - val_loss: 0.1852 - val_mae: 0.2369 - val_mse: 0.1852\n",
            "Epoch 58/1000\n",
            "69/69 [==============================] - 0s 2ms/step - loss: 0.1229 - mae: 0.1571 - mse: 0.1229 - val_loss: 0.4421 - val_mae: 0.2704 - val_mse: 0.4421\n",
            "Epoch 59/1000\n",
            "69/69 [==============================] - 0s 2ms/step - loss: 0.1439 - mae: 0.1658 - mse: 0.1439 - val_loss: 0.1958 - val_mae: 0.1705 - val_mse: 0.1958\n",
            "Epoch 60/1000\n",
            "69/69 [==============================] - 0s 2ms/step - loss: 0.1251 - mae: 0.1567 - mse: 0.1251 - val_loss: 0.2881 - val_mae: 0.2417 - val_mse: 0.2881\n",
            "Epoch 61/1000\n",
            "69/69 [==============================] - 0s 2ms/step - loss: 0.1359 - mae: 0.1649 - mse: 0.1359 - val_loss: 0.1909 - val_mae: 0.1898 - val_mse: 0.1909\n",
            "Epoch 62/1000\n",
            "69/69 [==============================] - 0s 2ms/step - loss: 0.1175 - mae: 0.1554 - mse: 0.1175 - val_loss: 0.1820 - val_mae: 0.1698 - val_mse: 0.1820\n",
            "Epoch 63/1000\n",
            "69/69 [==============================] - 0s 3ms/step - loss: 0.1283 - mae: 0.1571 - mse: 0.1283 - val_loss: 0.1628 - val_mae: 0.1645 - val_mse: 0.1628\n",
            "Epoch 64/1000\n",
            "69/69 [==============================] - 0s 2ms/step - loss: 0.1292 - mae: 0.1571 - mse: 0.1292 - val_loss: 0.2501 - val_mae: 0.2262 - val_mse: 0.2501\n",
            "Epoch 65/1000\n",
            "69/69 [==============================] - 0s 2ms/step - loss: 0.1061 - mae: 0.1502 - mse: 0.1061 - val_loss: 0.1788 - val_mae: 0.2186 - val_mse: 0.1788\n",
            "Epoch 66/1000\n",
            "69/69 [==============================] - 0s 2ms/step - loss: 0.1186 - mae: 0.1557 - mse: 0.1186 - val_loss: 0.1596 - val_mae: 0.1502 - val_mse: 0.1596\n",
            "Epoch 67/1000\n",
            "69/69 [==============================] - 0s 2ms/step - loss: 0.1174 - mae: 0.1531 - mse: 0.1174 - val_loss: 0.2529 - val_mae: 0.2048 - val_mse: 0.2529\n",
            "Epoch 68/1000\n",
            "69/69 [==============================] - 0s 2ms/step - loss: 0.1227 - mae: 0.1550 - mse: 0.1227 - val_loss: 0.1537 - val_mae: 0.1756 - val_mse: 0.1537\n",
            "Epoch 69/1000\n",
            "69/69 [==============================] - 0s 2ms/step - loss: 0.1209 - mae: 0.1514 - mse: 0.1209 - val_loss: 0.2630 - val_mae: 0.2318 - val_mse: 0.2630\n",
            "Epoch 70/1000\n",
            "69/69 [==============================] - 0s 2ms/step - loss: 0.1221 - mae: 0.1548 - mse: 0.1221 - val_loss: 0.1674 - val_mae: 0.1731 - val_mse: 0.1674\n",
            "Epoch 71/1000\n",
            "69/69 [==============================] - 0s 2ms/step - loss: 0.1242 - mae: 0.1549 - mse: 0.1242 - val_loss: 0.2776 - val_mae: 0.2466 - val_mse: 0.2776\n",
            "Epoch 72/1000\n",
            "69/69 [==============================] - 0s 2ms/step - loss: 0.1222 - mae: 0.1550 - mse: 0.1222 - val_loss: 0.2079 - val_mae: 0.2513 - val_mse: 0.2079\n",
            "Epoch 73/1000\n",
            "69/69 [==============================] - 0s 2ms/step - loss: 0.1142 - mae: 0.1491 - mse: 0.1142 - val_loss: 0.1471 - val_mae: 0.1456 - val_mse: 0.1471\n",
            "Epoch 74/1000\n",
            "69/69 [==============================] - 0s 2ms/step - loss: 0.1092 - mae: 0.1485 - mse: 0.1092 - val_loss: 0.1669 - val_mae: 0.1796 - val_mse: 0.1669\n",
            "Epoch 75/1000\n",
            "69/69 [==============================] - 0s 2ms/step - loss: 0.1254 - mae: 0.1535 - mse: 0.1254 - val_loss: 0.2212 - val_mae: 0.1802 - val_mse: 0.2212\n",
            "Epoch 76/1000\n",
            "69/69 [==============================] - 0s 2ms/step - loss: 0.1226 - mae: 0.1529 - mse: 0.1226 - val_loss: 0.1660 - val_mae: 0.1610 - val_mse: 0.1660\n",
            "Epoch 77/1000\n",
            "69/69 [==============================] - 0s 2ms/step - loss: 0.1324 - mae: 0.1548 - mse: 0.1324 - val_loss: 0.1783 - val_mae: 0.1974 - val_mse: 0.1783\n",
            "Epoch 78/1000\n",
            "69/69 [==============================] - 0s 2ms/step - loss: 0.1128 - mae: 0.1480 - mse: 0.1128 - val_loss: 0.2632 - val_mae: 0.1959 - val_mse: 0.2632\n",
            "Epoch 79/1000\n",
            "69/69 [==============================] - 0s 2ms/step - loss: 0.1192 - mae: 0.1504 - mse: 0.1192 - val_loss: 0.1847 - val_mae: 0.1676 - val_mse: 0.1847\n",
            "Epoch 80/1000\n",
            "69/69 [==============================] - 0s 2ms/step - loss: 0.1163 - mae: 0.1485 - mse: 0.1163 - val_loss: 0.1748 - val_mae: 0.1711 - val_mse: 0.1748\n",
            "Epoch 81/1000\n",
            "69/69 [==============================] - 0s 2ms/step - loss: 0.1244 - mae: 0.1543 - mse: 0.1244 - val_loss: 0.3340 - val_mae: 0.2260 - val_mse: 0.3340\n",
            "Epoch 82/1000\n",
            "69/69 [==============================] - 0s 2ms/step - loss: 0.1185 - mae: 0.1526 - mse: 0.1185 - val_loss: 0.1963 - val_mae: 0.2118 - val_mse: 0.1963\n",
            "Epoch 83/1000\n",
            "69/69 [==============================] - 0s 2ms/step - loss: 0.1055 - mae: 0.1461 - mse: 0.1055 - val_loss: 0.1640 - val_mae: 0.1974 - val_mse: 0.1640\n",
            "Epoch 84/1000\n",
            "69/69 [==============================] - 0s 2ms/step - loss: 0.1058 - mae: 0.1441 - mse: 0.1058 - val_loss: 0.1674 - val_mae: 0.1788 - val_mse: 0.1674\n",
            "Epoch 85/1000\n",
            "69/69 [==============================] - 0s 2ms/step - loss: 0.1202 - mae: 0.1519 - mse: 0.1202 - val_loss: 0.4563 - val_mae: 0.2812 - val_mse: 0.4563\n",
            "Epoch 86/1000\n",
            "69/69 [==============================] - 0s 2ms/step - loss: 0.1085 - mae: 0.1455 - mse: 0.1085 - val_loss: 0.2736 - val_mae: 0.2647 - val_mse: 0.2736\n",
            "Epoch 87/1000\n",
            "69/69 [==============================] - 0s 2ms/step - loss: 0.1168 - mae: 0.1475 - mse: 0.1168 - val_loss: 0.2900 - val_mae: 0.2400 - val_mse: 0.2900\n",
            "Epoch 88/1000\n",
            "69/69 [==============================] - 0s 2ms/step - loss: 0.1073 - mae: 0.1446 - mse: 0.1073 - val_loss: 0.3257 - val_mae: 0.2135 - val_mse: 0.3257\n",
            "Epoch 89/1000\n",
            "69/69 [==============================] - 0s 3ms/step - loss: 0.1195 - mae: 0.1482 - mse: 0.1195 - val_loss: 0.4505 - val_mae: 0.2786 - val_mse: 0.4505\n",
            "Epoch 90/1000\n",
            "69/69 [==============================] - 0s 2ms/step - loss: 0.1300 - mae: 0.1566 - mse: 0.1300 - val_loss: 0.1519 - val_mae: 0.1500 - val_mse: 0.1519\n",
            "Epoch 91/1000\n",
            "69/69 [==============================] - 0s 2ms/step - loss: 0.1128 - mae: 0.1481 - mse: 0.1128 - val_loss: 0.3569 - val_mae: 0.2397 - val_mse: 0.3569\n",
            "Epoch 92/1000\n",
            "69/69 [==============================] - 0s 2ms/step - loss: 0.1154 - mae: 0.1485 - mse: 0.1154 - val_loss: 0.2205 - val_mae: 0.2367 - val_mse: 0.2205\n",
            "Epoch 93/1000\n",
            "69/69 [==============================] - 0s 2ms/step - loss: 0.1020 - mae: 0.1431 - mse: 0.1020 - val_loss: 0.1660 - val_mae: 0.2023 - val_mse: 0.1660\n",
            "Epoch 94/1000\n",
            "69/69 [==============================] - 0s 2ms/step - loss: 0.0981 - mae: 0.1368 - mse: 0.0981 - val_loss: 0.1786 - val_mae: 0.1673 - val_mse: 0.1786\n",
            "Epoch 95/1000\n",
            "69/69 [==============================] - 0s 2ms/step - loss: 0.1100 - mae: 0.1474 - mse: 0.1100 - val_loss: 0.2192 - val_mae: 0.1842 - val_mse: 0.2192\n",
            "Epoch 96/1000\n",
            "69/69 [==============================] - 0s 2ms/step - loss: 0.0944 - mae: 0.1384 - mse: 0.0944 - val_loss: 0.1765 - val_mae: 0.1876 - val_mse: 0.1765\n",
            "Epoch 97/1000\n",
            "69/69 [==============================] - 0s 3ms/step - loss: 0.1050 - mae: 0.1420 - mse: 0.1050 - val_loss: 0.2474 - val_mae: 0.2121 - val_mse: 0.2474\n",
            "Epoch 98/1000\n",
            "69/69 [==============================] - 0s 2ms/step - loss: 0.1059 - mae: 0.1430 - mse: 0.1059 - val_loss: 0.2692 - val_mae: 0.2290 - val_mse: 0.2692\n",
            "Epoch 99/1000\n",
            "69/69 [==============================] - 0s 2ms/step - loss: 0.1107 - mae: 0.1448 - mse: 0.1107 - val_loss: 0.1589 - val_mae: 0.1487 - val_mse: 0.1589\n",
            "Epoch 100/1000\n",
            "69/69 [==============================] - 0s 2ms/step - loss: 0.1188 - mae: 0.1496 - mse: 0.1188 - val_loss: 0.2267 - val_mae: 0.2221 - val_mse: 0.2267\n",
            "Epoch 101/1000\n",
            "69/69 [==============================] - 0s 2ms/step - loss: 0.1079 - mae: 0.1418 - mse: 0.1079 - val_loss: 0.1626 - val_mae: 0.1578 - val_mse: 0.1626\n",
            "Epoch 102/1000\n",
            "69/69 [==============================] - 0s 2ms/step - loss: 0.1044 - mae: 0.1425 - mse: 0.1044 - val_loss: 0.1702 - val_mae: 0.1505 - val_mse: 0.1702\n",
            "Epoch 103/1000\n",
            "69/69 [==============================] - 0s 2ms/step - loss: 0.0969 - mae: 0.1369 - mse: 0.0969 - val_loss: 0.3311 - val_mae: 0.2342 - val_mse: 0.3311\n",
            "Epoch 104/1000\n",
            "69/69 [==============================] - 0s 2ms/step - loss: 0.1115 - mae: 0.1455 - mse: 0.1115 - val_loss: 0.1933 - val_mae: 0.1651 - val_mse: 0.1933\n",
            "Epoch 105/1000\n",
            "69/69 [==============================] - 0s 2ms/step - loss: 0.1177 - mae: 0.1446 - mse: 0.1177 - val_loss: 0.1711 - val_mae: 0.1698 - val_mse: 0.1711\n",
            "Epoch 106/1000\n",
            "69/69 [==============================] - 0s 2ms/step - loss: 0.1093 - mae: 0.1425 - mse: 0.1093 - val_loss: 0.1860 - val_mae: 0.2189 - val_mse: 0.1860\n",
            "Epoch 107/1000\n",
            "69/69 [==============================] - 0s 2ms/step - loss: 0.1023 - mae: 0.1389 - mse: 0.1023 - val_loss: 0.1731 - val_mae: 0.1980 - val_mse: 0.1731\n",
            "Epoch 108/1000\n",
            "69/69 [==============================] - 0s 2ms/step - loss: 0.1128 - mae: 0.1451 - mse: 0.1128 - val_loss: 0.1637 - val_mae: 0.1443 - val_mse: 0.1637\n",
            "Epoch 109/1000\n",
            "69/69 [==============================] - 0s 2ms/step - loss: 0.0999 - mae: 0.1393 - mse: 0.0999 - val_loss: 0.3534 - val_mae: 0.2363 - val_mse: 0.3534\n",
            "Epoch 110/1000\n",
            "69/69 [==============================] - 0s 2ms/step - loss: 0.0948 - mae: 0.1357 - mse: 0.0948 - val_loss: 0.3622 - val_mae: 0.2633 - val_mse: 0.3622\n",
            "Epoch 111/1000\n",
            "69/69 [==============================] - 0s 2ms/step - loss: 0.1128 - mae: 0.1448 - mse: 0.1128 - val_loss: 0.1631 - val_mae: 0.1592 - val_mse: 0.1631\n",
            "Epoch 112/1000\n",
            "69/69 [==============================] - 0s 2ms/step - loss: 0.0902 - mae: 0.1348 - mse: 0.0902 - val_loss: 0.2076 - val_mae: 0.2105 - val_mse: 0.2076\n",
            "Epoch 113/1000\n",
            "69/69 [==============================] - 0s 2ms/step - loss: 0.1045 - mae: 0.1419 - mse: 0.1045 - val_loss: 0.2829 - val_mae: 0.1879 - val_mse: 0.2829\n",
            "Epoch 114/1000\n",
            "69/69 [==============================] - 0s 2ms/step - loss: 0.1006 - mae: 0.1377 - mse: 0.1006 - val_loss: 0.1749 - val_mae: 0.1744 - val_mse: 0.1749\n",
            "Epoch 115/1000\n",
            "69/69 [==============================] - 0s 2ms/step - loss: 0.0937 - mae: 0.1367 - mse: 0.0937 - val_loss: 0.3432 - val_mae: 0.2426 - val_mse: 0.3432\n",
            "Epoch 116/1000\n",
            "69/69 [==============================] - 0s 2ms/step - loss: 0.0936 - mae: 0.1351 - mse: 0.0936 - val_loss: 0.1588 - val_mae: 0.1589 - val_mse: 0.1588\n",
            "Epoch 117/1000\n",
            "69/69 [==============================] - 0s 2ms/step - loss: 0.1022 - mae: 0.1361 - mse: 0.1022 - val_loss: 0.1758 - val_mae: 0.1733 - val_mse: 0.1758\n",
            "Epoch 118/1000\n",
            "69/69 [==============================] - 0s 3ms/step - loss: 0.0925 - mae: 0.1339 - mse: 0.0925 - val_loss: 0.2661 - val_mae: 0.2076 - val_mse: 0.2661\n",
            "Epoch 119/1000\n",
            "69/69 [==============================] - 0s 2ms/step - loss: 0.0936 - mae: 0.1359 - mse: 0.0936 - val_loss: 0.1992 - val_mae: 0.2205 - val_mse: 0.1992\n",
            "Epoch 120/1000\n",
            "69/69 [==============================] - 0s 2ms/step - loss: 0.1072 - mae: 0.1428 - mse: 0.1072 - val_loss: 0.1665 - val_mae: 0.1609 - val_mse: 0.1665\n",
            "Epoch 121/1000\n",
            "69/69 [==============================] - 0s 2ms/step - loss: 0.0973 - mae: 0.1387 - mse: 0.0973 - val_loss: 0.1827 - val_mae: 0.1716 - val_mse: 0.1827\n",
            "Epoch 122/1000\n",
            "69/69 [==============================] - 0s 2ms/step - loss: 0.0901 - mae: 0.1336 - mse: 0.0901 - val_loss: 0.1768 - val_mae: 0.1877 - val_mse: 0.1768\n",
            "Epoch 123/1000\n",
            "69/69 [==============================] - 0s 2ms/step - loss: 0.0978 - mae: 0.1345 - mse: 0.0978 - val_loss: 0.1918 - val_mae: 0.1691 - val_mse: 0.1918\n"
          ],
          "name": "stdout"
        }
      ]
    },
    {
      "cell_type": "code",
      "metadata": {
        "colab": {
          "base_uri": "https://localhost:8080/",
          "height": 35
        },
        "id": "9rWaRYXVhy11",
        "outputId": "1f43c2d4-25f8-4726-d853-40baf2b91d7e"
      },
      "source": [
        "# Comandos para fazer download da pasta de logs para o tensorboard\n",
        "\n",
        "\"\"\"\n",
        "!zip -r /content/file.zip /content/logggs\n",
        "from google.colab import files\n",
        "files.download(\"/content/file.zip\")\n",
        "\"\"\""
      ],
      "execution_count": null,
      "outputs": [
        {
          "output_type": "execute_result",
          "data": {
            "application/vnd.google.colaboratory.intrinsic+json": {
              "type": "string"
            },
            "text/plain": [
              "'\\n!zip -r /content/file.zip /content/logggs\\nfrom google.colab import files\\nfiles.download(\"/content/file.zip\")\\n'"
            ]
          },
          "metadata": {},
          "execution_count": 11
        }
      ]
    },
    {
      "cell_type": "markdown",
      "metadata": {
        "id": "iPGZeI7ocE9g"
      },
      "source": [
        "Plot"
      ]
    },
    {
      "cell_type": "code",
      "metadata": {
        "colab": {
          "base_uri": "https://localhost:8080/",
          "height": 541
        },
        "id": "PSOxB8T9cmWy",
        "outputId": "8440c861-f6ee-4228-a84c-d59ccc385e6b"
      },
      "source": [
        "import matplotlib.pyplot as plt\n",
        "\n",
        "def plot_history(history):\n",
        "  hist = pd.DataFrame(history.history)\n",
        "  hist['epoch'] = history.epoch\n",
        "\n",
        "  plt.figure()\n",
        "  plt.xlabel('Epoch')\n",
        "  plt.ylabel('Mean Abs Error')\n",
        "  plt.plot(hist['epoch'], hist['mae'], label='Train MAE')\n",
        "  plt.plot(hist['epoch'], hist['val_mae'], label='Test MAE')\n",
        "  plt.legend()\n",
        "  #plt.ylim([0,5])\n",
        "\n",
        "  plt.figure()\n",
        "  plt.xlabel('Epoch')\n",
        "  plt.ylabel('Mean Square Error')\n",
        "  plt.plot(hist['epoch'], hist['mse'], label='Train MSE')\n",
        "  plt.plot(hist['epoch'], hist['val_mse'], label='Test MSE')\n",
        "  plt.legend()\n",
        "  #plt.ylim([0,20])\n",
        "\n",
        "plot_history(history)\n",
        "\n"
      ],
      "execution_count": null,
      "outputs": [
        {
          "output_type": "display_data",
          "data": {
            "image/png": "[encoded data removed]",
            "text/plain": [
              "<Figure size 432x288 with 1 Axes>"
            ]
          },
          "metadata": {
            "needs_background": "light"
          }
        },
        {
          "output_type": "display_data",
          "data": {
            "image/png": "[encoded data removed]",
            "text/plain": [
              "<Figure size 432x288 with 1 Axes>"
            ]
          },
          "metadata": {
            "needs_background": "light"
          }
        }
      ]
    }
  ]
}